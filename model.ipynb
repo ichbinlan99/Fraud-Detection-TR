{
 "cells": [
  {
   "cell_type": "code",
   "execution_count": 86,
   "metadata": {},
   "outputs": [],
   "source": [
    "import pandas as pd\n",
    "import numpy as np\n",
    "from datetime import datetime, timedelta"
   ]
  },
  {
   "cell_type": "markdown",
   "metadata": {},
   "source": [
    "## Load Preprocessed Data"
   ]
  },
  {
   "cell_type": "code",
   "execution_count": 87,
   "metadata": {},
   "outputs": [
    {
     "name": "stdout",
     "output_type": "stream",
     "text": [
      "Load  files\n",
      "CPU times: user 14.7 s, sys: 2.51 s, total: 17.2 s\n",
      "Wall time: 18.3 s\n",
      "1296675 transactions loaded, containing 7506 fraudulent transactions\n"
     ]
    }
   ],
   "source": [
    "print(\"Load  files\")\n",
    "%time df = pd.read_csv('data/train_data.csv', index_col=0)\n",
    "print(\"{0} transactions loaded, containing {1} fraudulent transactions\".format(len(df),df['is_fraud'].sum()))"
   ]
  },
  {
   "cell_type": "markdown",
   "metadata": {},
   "source": [
    "## Feature Selection"
   ]
  },
  {
   "cell_type": "code",
   "execution_count": 106,
   "metadata": {},
   "outputs": [],
   "source": [
    "# df.info()"
   ]
  },
  {
   "cell_type": "code",
   "execution_count": 107,
   "metadata": {},
   "outputs": [
    {
     "data": {
      "text/plain": [
       "Index(['trans_date_trans_time', 'cc_num', 'merchant', 'category', 'amt',\n",
       "       'first', 'last', 'street', 'city', 'state', 'zip', 'lat', 'long',\n",
       "       'city_pop', 'job', 'dob', 'trans_num', 'unix_time', 'merch_lat',\n",
       "       'merch_long', 'is_fraud', 'trans_date', 'gender_M', 'job_category',\n",
       "       'job_encoded', 'category_encoded', 'age', 'age_group', 'distance',\n",
       "       'avg_distance_30_days', 'distance_over_avg_30_days',\n",
       "       'sum_amount_30_days', 'count_amount_30_days', 'avg_amount_30_days',\n",
       "       'amount_over_average_30_days', 'avg_distance_90_days',\n",
       "       'distance_over_avg_90_days', 'sum_amount_90_days',\n",
       "       'count_amount_90_days', 'avg_amount_90_days',\n",
       "       'amount_over_average_90_days', 'avg_distance_180_days',\n",
       "       'distance_over_avg_180_days', 'sum_amount_180_days',\n",
       "       'count_amount_180_days', 'avg_amount_180_days',\n",
       "       'amount_over_average_180_days', 'transaction_hour',\n",
       "       'transaction_day_of_week', 'is_holiday', 'is_weekend',\n",
       "       'daily_trans_count', 'is_high_risk_hour', 'city_size',\n",
       "       'merchant_num_trans_1_day_window', 'merchant_risk_1_day_window',\n",
       "       'merchant_num_trans_7_day_window', 'merchant_risk_7_day_window',\n",
       "       'merchant_num_trans_30_day_window', 'merchant_risk_30_day_window'],\n",
       "      dtype='object')"
      ]
     },
     "execution_count": 107,
     "metadata": {},
     "output_type": "execute_result"
    }
   ],
   "source": [
    "df.columns"
   ]
  },
  {
   "cell_type": "code",
   "execution_count": 120,
   "metadata": {},
   "outputs": [],
   "source": [
    "drop_col = ['trans_date_trans_time', 'cc_num', 'merchant', 'category', \n",
    "'first', 'last', 'street', 'city', 'state', 'zip', 'job', 'dob', 'unix_time', \n",
    "'job_category', 'trans_date', 'trans_num', 'is_fraud']"
   ]
  },
  {
   "cell_type": "code",
   "execution_count": 121,
   "metadata": {},
   "outputs": [],
   "source": [
    "input_feature = [col for col in df.columns if col not in drop_col]"
   ]
  },
  {
   "cell_type": "code",
   "execution_count": null,
   "metadata": {},
   "outputs": [
    {
     "ename": "",
     "evalue": "",
     "output_type": "error",
     "traceback": [
      "\u001b[1;31mnotebook controller is DISPOSED. \n",
      "\u001b[1;31mView Jupyter <a href='command:jupyter.viewOutput'>log</a> for further details."
     ]
    }
   ],
   "source": [
    "# X = df.drop(drop_col, axis=1).select_dtypes(include=np.number)\n",
    "# y = df['is_fraud']"
   ]
  },
  {
   "cell_type": "code",
   "execution_count": null,
   "metadata": {},
   "outputs": [
    {
     "ename": "",
     "evalue": "",
     "output_type": "error",
     "traceback": [
      "\u001b[1;31mnotebook controller is DISPOSED. \n",
      "\u001b[1;31mView Jupyter <a href='command:jupyter.viewOutput'>log</a> for further details."
     ]
    }
   ],
   "source": [
    "# X.info()"
   ]
  },
  {
   "cell_type": "markdown",
   "metadata": {},
   "source": [
    "## Feature Selection"
   ]
  },
  {
   "cell_type": "code",
   "execution_count": null,
   "metadata": {},
   "outputs": [],
   "source": [
    "from sklearn.ensemble import RandomForestClassifier\n",
    "clf = RandomForestClassifier()\n",
    "clf.fit(X, y)\n",
    "feature_importances = clf.feature_importances_\n",
    "X.columns[np.argsort(feature_importances)[::-1]]"
   ]
  },
  {
   "cell_type": "code",
   "execution_count": null,
   "metadata": {},
   "outputs": [],
   "source": []
  },
  {
   "cell_type": "code",
   "execution_count": null,
   "metadata": {},
   "outputs": [],
   "source": []
  },
  {
   "cell_type": "code",
   "execution_count": null,
   "metadata": {},
   "outputs": [],
   "source": []
  },
  {
   "cell_type": "markdown",
   "metadata": {},
   "source": [
    "## Baseline"
   ]
  },
  {
   "cell_type": "markdown",
   "metadata": {},
   "source": [
    "Naive classiifier (only predicting non-fraud)"
   ]
  },
  {
   "cell_type": "code",
   "execution_count": null,
   "metadata": {},
   "outputs": [],
   "source": []
  },
  {
   "cell_type": "markdown",
   "metadata": {},
   "source": [
    "since the testset has around 6 months of data while training... "
   ]
  },
  {
   "cell_type": "code",
   "execution_count": null,
   "metadata": {},
   "outputs": [],
   "source": []
  },
  {
   "cell_type": "code",
   "execution_count": 123,
   "metadata": {},
   "outputs": [],
   "source": [
    "from sklearn.tree import DecisionTreeClassifier\n",
    "classifier = DecisionTreeClassifier(max_depth = 2, random_state=0)\n",
    "\n",
    "model_and_predictions_dictionary = fit_model_and_get_predictions(classifier, train_df, val_df, \n",
    "                                                                 input_feature, \"is_fraud\",\n",
    "                                                                 scale=False)"
   ]
  },
  {
   "cell_type": "code",
   "execution_count": 124,
   "metadata": {},
   "outputs": [
    {
     "data": {
      "text/plain": [
       "{'classifier': DecisionTreeClassifier(max_depth=2, random_state=0),\n",
       " 'predictions_val': array([0.        , 0.        , 0.        , ..., 0.77986348, 0.        ,\n",
       "        0.77986348]),\n",
       " 'predictions_train': array([0.02135678, 0.02135678, 0.02135678, ..., 0.        , 0.        ,\n",
       "        0.        ]),\n",
       " 'training_execution_time': 0.2948899269104004,\n",
       " 'prediction_execution_time': 0.1955709457397461}"
      ]
     },
     "execution_count": 124,
     "metadata": {},
     "output_type": "execute_result"
    }
   ],
   "source": [
    "model_and_predictions_dictionary"
   ]
  },
  {
   "cell_type": "code",
   "execution_count": 127,
   "metadata": {},
   "outputs": [],
   "source": [
    "val_df['fraud_detected']=model_and_predictions_dictionary['predictions_val']\n",
    "# val_df.head()"
   ]
  },
  {
   "cell_type": "code",
   "execution_count": null,
   "metadata": {},
   "outputs": [],
   "source": []
  },
  {
   "cell_type": "code",
   "execution_count": 135,
   "metadata": {},
   "outputs": [
    {
     "data": {
      "text/html": [
       "<div>\n",
       "<style scoped>\n",
       "    .dataframe tbody tr th:only-of-type {\n",
       "        vertical-align: middle;\n",
       "    }\n",
       "\n",
       "    .dataframe tbody tr th {\n",
       "        vertical-align: top;\n",
       "    }\n",
       "\n",
       "    .dataframe thead th {\n",
       "        text-align: right;\n",
       "    }\n",
       "</style>\n",
       "<table border=\"1\" class=\"dataframe\">\n",
       "  <thead>\n",
       "    <tr style=\"text-align: right;\">\n",
       "      <th></th>\n",
       "      <th>AUC ROC</th>\n",
       "      <th>Average precision</th>\n",
       "      <th>Card Precision@100</th>\n",
       "    </tr>\n",
       "  </thead>\n",
       "  <tbody>\n",
       "    <tr>\n",
       "      <th>0</th>\n",
       "      <td>1.0</td>\n",
       "      <td>1.0</td>\n",
       "      <td>0.019</td>\n",
       "    </tr>\n",
       "  </tbody>\n",
       "</table>\n",
       "</div>"
      ],
      "text/plain": [
       "   AUC ROC  Average precision  Card Precision@100\n",
       "0      1.0                1.0               0.019"
      ]
     },
     "execution_count": 135,
     "metadata": {},
     "output_type": "execute_result"
    }
   ],
   "source": [
    "predictions_df=val_df\n",
    "predictions_df['predictions']=model_and_predictions_dictionary['predictions_val']\n",
    "    \n",
    "performance_assessment(predictions_df, top_k_list=[100])"
   ]
  },
  {
   "cell_type": "code",
   "execution_count": 137,
   "metadata": {},
   "outputs": [
    {
     "data": {
      "text/html": [
       "<div>\n",
       "<style scoped>\n",
       "    .dataframe tbody tr th:only-of-type {\n",
       "        vertical-align: middle;\n",
       "    }\n",
       "\n",
       "    .dataframe tbody tr th {\n",
       "        vertical-align: top;\n",
       "    }\n",
       "\n",
       "    .dataframe thead th {\n",
       "        text-align: right;\n",
       "    }\n",
       "</style>\n",
       "<table border=\"1\" class=\"dataframe\">\n",
       "  <thead>\n",
       "    <tr style=\"text-align: right;\">\n",
       "      <th></th>\n",
       "      <th>AUC ROC</th>\n",
       "      <th>Average precision</th>\n",
       "      <th>Card Precision@100</th>\n",
       "    </tr>\n",
       "  </thead>\n",
       "  <tbody>\n",
       "    <tr>\n",
       "      <th>0</th>\n",
       "      <td>0.5</td>\n",
       "      <td>0.011</td>\n",
       "      <td>0.004</td>\n",
       "    </tr>\n",
       "  </tbody>\n",
       "</table>\n",
       "</div>"
      ],
      "text/plain": [
       "   AUC ROC  Average precision  Card Precision@100\n",
       "0      0.5              0.011               0.004"
      ]
     },
     "execution_count": 137,
     "metadata": {},
     "output_type": "execute_result"
    }
   ],
   "source": [
    "predictions_df['predictions']=0.5\n",
    "    \n",
    "performance_assessment(predictions_df, top_k_list=[100])"
   ]
  },
  {
   "cell_type": "code",
   "execution_count": null,
   "metadata": {},
   "outputs": [],
   "source": []
  },
  {
   "cell_type": "code",
   "execution_count": null,
   "metadata": {},
   "outputs": [],
   "source": []
  },
  {
   "cell_type": "code",
   "execution_count": null,
   "metadata": {},
   "outputs": [],
   "source": []
  },
  {
   "cell_type": "markdown",
   "metadata": {},
   "source": [
    "### Defining Training and Validation set"
   ]
  },
  {
   "cell_type": "markdown",
   "metadata": {},
   "source": []
  },
  {
   "cell_type": "code",
   "execution_count": 100,
   "metadata": {},
   "outputs": [],
   "source": [
    "train_df, val_df = get_train_val_set(df, \"2019-01-01\", delta_train=30, delta_delay=7, delta_val=30)"
   ]
  },
  {
   "cell_type": "code",
   "execution_count": 59,
   "metadata": {},
   "outputs": [],
   "source": [
    "start_date_training = pd.to_datetime(\"2019-01-01\")"
   ]
  },
  {
   "cell_type": "code",
   "execution_count": 136,
   "metadata": {},
   "outputs": [
    {
     "data": {
      "text/html": [
       "<div>\n",
       "<style scoped>\n",
       "    .dataframe tbody tr th:only-of-type {\n",
       "        vertical-align: middle;\n",
       "    }\n",
       "\n",
       "    .dataframe tbody tr th {\n",
       "        vertical-align: top;\n",
       "    }\n",
       "\n",
       "    .dataframe thead th {\n",
       "        text-align: right;\n",
       "    }\n",
       "</style>\n",
       "<table border=\"1\" class=\"dataframe\">\n",
       "  <thead>\n",
       "    <tr style=\"text-align: right;\">\n",
       "      <th></th>\n",
       "      <th>cc_num</th>\n",
       "      <th>amt</th>\n",
       "      <th>zip</th>\n",
       "      <th>lat</th>\n",
       "      <th>long</th>\n",
       "      <th>city_pop</th>\n",
       "      <th>unix_time</th>\n",
       "      <th>merch_lat</th>\n",
       "      <th>merch_long</th>\n",
       "      <th>is_fraud</th>\n",
       "      <th>...</th>\n",
       "      <th>is_high_risk_hour</th>\n",
       "      <th>city_size</th>\n",
       "      <th>merchant_num_trans_1_day_window</th>\n",
       "      <th>merchant_risk_1_day_window</th>\n",
       "      <th>merchant_num_trans_7_day_window</th>\n",
       "      <th>merchant_risk_7_day_window</th>\n",
       "      <th>merchant_num_trans_30_day_window</th>\n",
       "      <th>merchant_risk_30_day_window</th>\n",
       "      <th>fraud_detected</th>\n",
       "      <th>predictions</th>\n",
       "    </tr>\n",
       "  </thead>\n",
       "  <tbody>\n",
       "    <tr>\n",
       "      <th>count</th>\n",
       "      <td>5.242900e+04</td>\n",
       "      <td>52429.000000</td>\n",
       "      <td>52429.000000</td>\n",
       "      <td>52429.000000</td>\n",
       "      <td>52429.000000</td>\n",
       "      <td>5.242900e+04</td>\n",
       "      <td>5.242900e+04</td>\n",
       "      <td>52429.000000</td>\n",
       "      <td>52429.000000</td>\n",
       "      <td>52429.000000</td>\n",
       "      <td>...</td>\n",
       "      <td>52429.000000</td>\n",
       "      <td>52429.000000</td>\n",
       "      <td>52429.000000</td>\n",
       "      <td>52429.000000</td>\n",
       "      <td>52429.000000</td>\n",
       "      <td>52429.000000</td>\n",
       "      <td>52429.000000</td>\n",
       "      <td>52429.000000</td>\n",
       "      <td>52429.000000</td>\n",
       "      <td>52429.000000</td>\n",
       "    </tr>\n",
       "    <tr>\n",
       "      <th>mean</th>\n",
       "      <td>4.269839e+17</td>\n",
       "      <td>72.320933</td>\n",
       "      <td>49208.840356</td>\n",
       "      <td>38.507426</td>\n",
       "      <td>-90.289701</td>\n",
       "      <td>9.174423e+04</td>\n",
       "      <td>1.329974e+09</td>\n",
       "      <td>38.511990</td>\n",
       "      <td>-90.290031</td>\n",
       "      <td>0.010509</td>\n",
       "      <td>...</td>\n",
       "      <td>0.341853</td>\n",
       "      <td>0.158328</td>\n",
       "      <td>4.328826</td>\n",
       "      <td>0.003341</td>\n",
       "      <td>28.195464</td>\n",
       "      <td>0.003656</td>\n",
       "      <td>115.853612</td>\n",
       "      <td>0.003781</td>\n",
       "      <td>0.007878</td>\n",
       "      <td>0.007878</td>\n",
       "    </tr>\n",
       "    <tr>\n",
       "      <th>std</th>\n",
       "      <td>1.322328e+18</td>\n",
       "      <td>150.992029</td>\n",
       "      <td>26913.831207</td>\n",
       "      <td>4.984322</td>\n",
       "      <td>13.508340</td>\n",
       "      <td>3.101800e+05</td>\n",
       "      <td>7.747542e+05</td>\n",
       "      <td>5.017374</td>\n",
       "      <td>13.518716</td>\n",
       "      <td>0.101976</td>\n",
       "      <td>...</td>\n",
       "      <td>0.659079</td>\n",
       "      <td>0.390938</td>\n",
       "      <td>2.900327</td>\n",
       "      <td>0.034571</td>\n",
       "      <td>11.631319</td>\n",
       "      <td>0.013558</td>\n",
       "      <td>41.781227</td>\n",
       "      <td>0.007567</td>\n",
       "      <td>0.077941</td>\n",
       "      <td>0.077941</td>\n",
       "    </tr>\n",
       "    <tr>\n",
       "      <th>min</th>\n",
       "      <td>6.041621e+10</td>\n",
       "      <td>1.000000</td>\n",
       "      <td>1257.000000</td>\n",
       "      <td>20.027100</td>\n",
       "      <td>-156.292000</td>\n",
       "      <td>2.300000e+01</td>\n",
       "      <td>1.328573e+09</td>\n",
       "      <td>19.029798</td>\n",
       "      <td>-157.188386</td>\n",
       "      <td>0.000000</td>\n",
       "      <td>...</td>\n",
       "      <td>0.000000</td>\n",
       "      <td>0.000000</td>\n",
       "      <td>0.000000</td>\n",
       "      <td>0.000000</td>\n",
       "      <td>0.000000</td>\n",
       "      <td>0.000000</td>\n",
       "      <td>0.000000</td>\n",
       "      <td>0.000000</td>\n",
       "      <td>0.000000</td>\n",
       "      <td>0.000000</td>\n",
       "    </tr>\n",
       "    <tr>\n",
       "      <th>25%</th>\n",
       "      <td>1.800115e+14</td>\n",
       "      <td>9.670000</td>\n",
       "      <td>26292.000000</td>\n",
       "      <td>34.518900</td>\n",
       "      <td>-96.798000</td>\n",
       "      <td>7.600000e+02</td>\n",
       "      <td>1.329307e+09</td>\n",
       "      <td>34.691846</td>\n",
       "      <td>-96.881863</td>\n",
       "      <td>0.000000</td>\n",
       "      <td>...</td>\n",
       "      <td>0.000000</td>\n",
       "      <td>0.000000</td>\n",
       "      <td>2.000000</td>\n",
       "      <td>0.000000</td>\n",
       "      <td>21.000000</td>\n",
       "      <td>0.000000</td>\n",
       "      <td>91.000000</td>\n",
       "      <td>0.000000</td>\n",
       "      <td>0.000000</td>\n",
       "      <td>0.000000</td>\n",
       "    </tr>\n",
       "    <tr>\n",
       "      <th>50%</th>\n",
       "      <td>3.519233e+15</td>\n",
       "      <td>48.070000</td>\n",
       "      <td>48850.000000</td>\n",
       "      <td>39.371600</td>\n",
       "      <td>-87.724600</td>\n",
       "      <td>2.523000e+03</td>\n",
       "      <td>1.330034e+09</td>\n",
       "      <td>39.353806</td>\n",
       "      <td>-87.700475</td>\n",
       "      <td>0.000000</td>\n",
       "      <td>...</td>\n",
       "      <td>0.000000</td>\n",
       "      <td>0.000000</td>\n",
       "      <td>4.000000</td>\n",
       "      <td>0.000000</td>\n",
       "      <td>27.000000</td>\n",
       "      <td>0.000000</td>\n",
       "      <td>118.000000</td>\n",
       "      <td>0.000000</td>\n",
       "      <td>0.000000</td>\n",
       "      <td>0.000000</td>\n",
       "    </tr>\n",
       "    <tr>\n",
       "      <th>75%</th>\n",
       "      <td>4.653879e+15</td>\n",
       "      <td>83.890000</td>\n",
       "      <td>72165.000000</td>\n",
       "      <td>41.846700</td>\n",
       "      <td>-80.276000</td>\n",
       "      <td>2.032800e+04</td>\n",
       "      <td>1.330698e+09</td>\n",
       "      <td>41.940289</td>\n",
       "      <td>-80.395801</td>\n",
       "      <td>0.000000</td>\n",
       "      <td>...</td>\n",
       "      <td>0.000000</td>\n",
       "      <td>0.000000</td>\n",
       "      <td>6.000000</td>\n",
       "      <td>0.000000</td>\n",
       "      <td>34.000000</td>\n",
       "      <td>0.000000</td>\n",
       "      <td>140.000000</td>\n",
       "      <td>0.006803</td>\n",
       "      <td>0.000000</td>\n",
       "      <td>0.000000</td>\n",
       "    </tr>\n",
       "    <tr>\n",
       "      <th>max</th>\n",
       "      <td>4.992346e+18</td>\n",
       "      <td>11629.340000</td>\n",
       "      <td>99746.000000</td>\n",
       "      <td>65.689900</td>\n",
       "      <td>-67.950300</td>\n",
       "      <td>2.906700e+06</td>\n",
       "      <td>1.331251e+09</td>\n",
       "      <td>66.624674</td>\n",
       "      <td>-66.978732</td>\n",
       "      <td>1.000000</td>\n",
       "      <td>...</td>\n",
       "      <td>2.000000</td>\n",
       "      <td>2.000000</td>\n",
       "      <td>23.000000</td>\n",
       "      <td>1.000000</td>\n",
       "      <td>84.000000</td>\n",
       "      <td>0.250000</td>\n",
       "      <td>285.000000</td>\n",
       "      <td>0.200000</td>\n",
       "      <td>0.779863</td>\n",
       "      <td>0.779863</td>\n",
       "    </tr>\n",
       "  </tbody>\n",
       "</table>\n",
       "<p>8 rows × 49 columns</p>\n",
       "</div>"
      ],
      "text/plain": [
       "             cc_num           amt           zip           lat          long  \\\n",
       "count  5.242900e+04  52429.000000  52429.000000  52429.000000  52429.000000   \n",
       "mean   4.269839e+17     72.320933  49208.840356     38.507426    -90.289701   \n",
       "std    1.322328e+18    150.992029  26913.831207      4.984322     13.508340   \n",
       "min    6.041621e+10      1.000000   1257.000000     20.027100   -156.292000   \n",
       "25%    1.800115e+14      9.670000  26292.000000     34.518900    -96.798000   \n",
       "50%    3.519233e+15     48.070000  48850.000000     39.371600    -87.724600   \n",
       "75%    4.653879e+15     83.890000  72165.000000     41.846700    -80.276000   \n",
       "max    4.992346e+18  11629.340000  99746.000000     65.689900    -67.950300   \n",
       "\n",
       "           city_pop     unix_time     merch_lat    merch_long      is_fraud  \\\n",
       "count  5.242900e+04  5.242900e+04  52429.000000  52429.000000  52429.000000   \n",
       "mean   9.174423e+04  1.329974e+09     38.511990    -90.290031      0.010509   \n",
       "std    3.101800e+05  7.747542e+05      5.017374     13.518716      0.101976   \n",
       "min    2.300000e+01  1.328573e+09     19.029798   -157.188386      0.000000   \n",
       "25%    7.600000e+02  1.329307e+09     34.691846    -96.881863      0.000000   \n",
       "50%    2.523000e+03  1.330034e+09     39.353806    -87.700475      0.000000   \n",
       "75%    2.032800e+04  1.330698e+09     41.940289    -80.395801      0.000000   \n",
       "max    2.906700e+06  1.331251e+09     66.624674    -66.978732      1.000000   \n",
       "\n",
       "       ...  is_high_risk_hour     city_size  merchant_num_trans_1_day_window  \\\n",
       "count  ...       52429.000000  52429.000000                     52429.000000   \n",
       "mean   ...           0.341853      0.158328                         4.328826   \n",
       "std    ...           0.659079      0.390938                         2.900327   \n",
       "min    ...           0.000000      0.000000                         0.000000   \n",
       "25%    ...           0.000000      0.000000                         2.000000   \n",
       "50%    ...           0.000000      0.000000                         4.000000   \n",
       "75%    ...           0.000000      0.000000                         6.000000   \n",
       "max    ...           2.000000      2.000000                        23.000000   \n",
       "\n",
       "       merchant_risk_1_day_window  merchant_num_trans_7_day_window  \\\n",
       "count                52429.000000                     52429.000000   \n",
       "mean                     0.003341                        28.195464   \n",
       "std                      0.034571                        11.631319   \n",
       "min                      0.000000                         0.000000   \n",
       "25%                      0.000000                        21.000000   \n",
       "50%                      0.000000                        27.000000   \n",
       "75%                      0.000000                        34.000000   \n",
       "max                      1.000000                        84.000000   \n",
       "\n",
       "       merchant_risk_7_day_window  merchant_num_trans_30_day_window  \\\n",
       "count                52429.000000                      52429.000000   \n",
       "mean                     0.003656                        115.853612   \n",
       "std                      0.013558                         41.781227   \n",
       "min                      0.000000                          0.000000   \n",
       "25%                      0.000000                         91.000000   \n",
       "50%                      0.000000                        118.000000   \n",
       "75%                      0.000000                        140.000000   \n",
       "max                      0.250000                        285.000000   \n",
       "\n",
       "       merchant_risk_30_day_window  fraud_detected   predictions  \n",
       "count                 52429.000000    52429.000000  52429.000000  \n",
       "mean                      0.003781        0.007878      0.007878  \n",
       "std                       0.007567        0.077941      0.077941  \n",
       "min                       0.000000        0.000000      0.000000  \n",
       "25%                       0.000000        0.000000      0.000000  \n",
       "50%                       0.000000        0.000000      0.000000  \n",
       "75%                       0.006803        0.000000      0.000000  \n",
       "max                       0.200000        0.779863      0.779863  \n",
       "\n",
       "[8 rows x 49 columns]"
      ]
     },
     "execution_count": 136,
     "metadata": {},
     "output_type": "execute_result"
    }
   ],
   "source": [
    "val_df.describe()"
   ]
  },
  {
   "cell_type": "code",
   "execution_count": null,
   "metadata": {},
   "outputs": [],
   "source": []
  }
 ],
 "metadata": {
  "kernelspec": {
   "display_name": "fraud_detection",
   "language": "python",
   "name": "fraud_detection"
  },
  "language_info": {
   "codemirror_mode": {
    "name": "ipython",
    "version": 3
   },
   "file_extension": ".py",
   "mimetype": "text/x-python",
   "name": "python",
   "nbconvert_exporter": "python",
   "pygments_lexer": "ipython3",
   "version": "3.10.4"
  }
 },
 "nbformat": 4,
 "nbformat_minor": 2
}
