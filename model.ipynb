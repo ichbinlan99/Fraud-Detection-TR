{
 "cells": [
  {
   "cell_type": "code",
   "execution_count": 1,
   "metadata": {},
   "outputs": [],
   "source": [
    "import warnings\n",
    "import pandas as pd\n",
    "import numpy as np\n",
    "from datetime import datetime, timedelta\n",
    "\n",
    "warnings.filterwarnings(\"ignore\")\n",
    "\n",
    "%load_ext autoreload\n",
    "%autoreload 2"
   ]
  },
  {
   "cell_type": "markdown",
   "metadata": {},
   "source": [
    "## Data"
   ]
  },
  {
   "cell_type": "code",
   "execution_count": 2,
   "metadata": {},
   "outputs": [
    {
     "name": "stdout",
     "output_type": "stream",
     "text": [
      "Load transaction data\n",
      "CPU times: user 16.4 s, sys: 2.95 s, total: 19.3 s\n",
      "Wall time: 21.6 s\n",
      "1296675 transaction data loaded, containing 7506 fraudulent transactions\n"
     ]
    }
   ],
   "source": [
    "print(\"Load transaction data\")\n",
    "%time df = pd.read_csv('data/train_data.csv', index_col=0)\n",
    "print(\"{0} transaction data loaded, containing {1} fraudulent transactions\".format(len(df),df['is_fraud'].sum()))"
   ]
  },
  {
   "cell_type": "code",
   "execution_count": 3,
   "metadata": {},
   "outputs": [],
   "source": [
    "# df.info()"
   ]
  },
  {
   "cell_type": "markdown",
   "metadata": {},
   "source": [
    "### Train-Validation Split"
   ]
  },
  {
   "cell_type": "markdown",
   "metadata": {},
   "source": [
    "Before splitting, let's a sanity check on if a credict card is going to be compromised once being falgged. This is important for splitting since if it would be compromised, we should remove all the known compromised card number from the validation set."
   ]
  },
  {
   "cell_type": "code",
   "execution_count": 3,
   "metadata": {},
   "outputs": [
    {
     "name": "stdout",
     "output_type": "stream",
     "text": [
      "At least 0.9175991861648016 percent card not compromised after 3 days of being flagged fraud\n"
     ]
    }
   ],
   "source": [
    "# Ensure the 'trans_date_trans_time' and 'first_fraud_date' columns are in datetime format\n",
    "df['trans_date_trans_time'] = pd.to_datetime(df['trans_date_trans_time'])\n",
    "\n",
    "# Identify the first fraud transaction for each cc_num\n",
    "first_fraud_transactions = df[df['is_fraud'] == 1].groupby('cc_num')['trans_date_trans_time'].min().reset_index()\n",
    "first_fraud_transactions.columns = ['cc_num', 'first_fraud_date']\n",
    "\n",
    "# Merge the first fraud transaction date back to the original dataframe\n",
    "df_checkcompromised_card = df.merge(first_fraud_transactions, on='cc_num', how='left')\n",
    "\n",
    "# Ensure the 'first_fraud_date' column is in datetime format\n",
    "df_checkcompromised_card['first_fraud_date'] = pd.to_datetime(df_checkcompromised_card['first_fraud_date'])\n",
    "# Fill NaT values in 'first_fraud_date' with a date far in the future to avoid comparison issues\n",
    "df_checkcompromised_card['first_fraud_date'].fillna(pd.Timestamp.max, inplace=True)\n",
    "# Check for non-fraud transactions that occur after the first fraud transaction for the same cc_num with a delay of one month\n",
    "future_non_fraud_transactions = df_checkcompromised_card[(df_checkcompromised_card['is_fraud'] == 0) & (df_checkcompromised_card['trans_date_trans_time'] > (df_checkcompromised_card['first_fraud_date'] + pd.DateOffset(days=3)))]\n",
    "non_compromised_card_numbers = future_non_fraud_transactions['cc_num'].unique()\n",
    "\n",
    "print(\"At least {} percent card not compromised after 3 days of being flagged fraud\".format(len(non_compromised_card_numbers)/df['cc_num'].nunique()))"
   ]
  },
  {
   "cell_type": "markdown",
   "metadata": {},
   "source": [
    "Now we can split the data into train and validation sets. The goal of our model is to be able to predict potential fraudulent transactions given new data from the **future**, thus it's very important that during training, there is no 'data leakage'. The transaction times in the validation set should typically occur after those in the training set. Additionally, to mimic real-world fraud detection, the label indicating whether a transaction is fraudulent is often only available after a customer complaint or a fraud investigation. This means we need to account for a delay period. Therefore, in a realistic scenario, data available for training a model and making predictions for a given day would be from transactions occurring before that day counting the delay period. In addition, to make our prediction more robust and less prone to data distribution shifts, we use a rolling window on the time axis for training, delaying and validation. This way, we also made better usage of the historical data given. Below is an illustration on how we split our data.\n",
    "\n",
    "<p align=\"center\">\n",
    "    <img src=\"out/data_splitting.png\" width=1000>\n",
    "</p>"
   ]
  },
  {
   "cell_type": "code",
   "execution_count": 4,
   "metadata": {},
   "outputs": [],
   "source": [
    "from utils.data import create_data_splits\n",
    "# the create_data_splits function will return a dictionary containing the train and validation sets in batches\n",
    "splits =  create_data_splits(df, 'trans_date_trans_time', freq='30D', rolling_window=90, gap=31, val_duration=90) #in theroy, val_duration should be the same as test set time length"
   ]
  },
  {
   "cell_type": "markdown",
   "metadata": {},
   "source": [
    "### Feature Selection"
   ]
  },
  {
   "cell_type": "code",
   "execution_count": 5,
   "metadata": {},
   "outputs": [],
   "source": [
    "drop_col = ['trans_date_trans_time', 'cc_num', 'merchant', 'category', \n",
    "'first', 'last', 'street', 'city', 'state', 'zip', 'job', 'dob', 'unix_time', \n",
    "'job_category', 'trans_date', 'trans_num', 'is_fraud']"
   ]
  },
  {
   "cell_type": "code",
   "execution_count": 6,
   "metadata": {},
   "outputs": [],
   "source": [
    "input_features = [col for col in df.columns if col not in drop_col]\n",
    "target_feature = ['is_fraud']"
   ]
  },
  {
   "cell_type": "markdown",
   "metadata": {},
   "source": [
    "alternatively, one could fit a simple tree-based classifier and calculated feature importance. Combining with domain knowlwdge and the results from feature importance, one can get a more coherent feature list. However, as an preliminary step, I decided to use all columns with numerical values and drop columns that are clearly irrelevant (e.g., indices, cc_num, names) or redundant (e.g., date components already captured in other features)."
   ]
  },
  {
   "cell_type": "code",
   "execution_count": 17,
   "metadata": {},
   "outputs": [],
   "source": [
    "# from sklearn.classifier import RandomForestClassifier\n",
    "# X = df[input_feature]\n",
    "# y = df['is_fraud']\n",
    "# clf = RandomForestClassifier(n_estimators=100, max_depth=2, random_state=0)\n",
    "# clf.fit(X, y)\n",
    "# feature_importances = clf.feature_importances_\n",
    "# feature_importances = pd.DataFrame({'feature': input_feature, 'importance': feature_importances})\n",
    "# feature_importances = feature_importances.sort_values('importance', ascending=False)[:20]"
   ]
  },
  {
   "cell_type": "markdown",
   "metadata": {},
   "source": [
    "## Models"
   ]
  },
  {
   "cell_type": "markdown",
   "metadata": {},
   "source": [
    "Before diving in, there are several issues to be addressed:\n",
    "- **Target Imbalance**: we need to deal with very sparse transaction data being flagged as fraud (by sparse, here we have around 0.5% in training data)\n",
    "- **Data Distribution shifts**: we need to take into account complexity and performance, decide on metrics and retrain window as frauding schemes changes quickly over time and it's a very dynamic activity.\n",
    "- **Explainability**: if we need to explain to clients and have reasoning on why we would want to flag a certain transactions being predicted as fraud"
   ]
  },
  {
   "cell_type": "markdown",
   "metadata": {},
   "source": [
    "### Evaluation Metrics"
   ]
  },
  {
   "cell_type": "markdown",
   "metadata": {},
   "source": [
    "Fraud detection is inherently a cost-sensitive challenge. Missing a fraudulent transaction incurs significant costs, including the transaction amount to be reimbursed, potential subsequent fraudulent activities, customer service expenses, and damage to the company's reputation. On the other hand, false alerts on legitimate transactions generally involve lower costs, such as verifying the transaction with the customer. However, in real-time scenarios, false alerts can also lead to customer inconvenience due to blocked legitimate payments. The overall cost should also include the time taken by the detection system to react. The shorter the reaction time, the larger the number of frauds that can be prevented. Taking all in account, the evaluation metrics that I use are:\n",
    "\n",
    "- **classification wise**:\n",
    "1. F1 score\n",
    "2. Roc_auc\n",
    "3. Average Precision\n",
    "4. Top K Precision: \n",
    "5. Confusion Matrix\n",
    "\n",
    "- **impact wise**: fraud losses (amount of money loss due to FN predictions) "
   ]
  },
  {
   "cell_type": "markdown",
   "metadata": {},
   "source": [
    "***\n",
    "- The formula for F1 Score is:\n",
    "\n",
    "$$\n",
    "\\small{F1 = 2 \\cdot \\frac{Precision \\cdot Recall}{Precision + Recall}}\n",
    "$$\n",
    "\n",
    "where:\n",
    "\n",
    "- $\\small{Precision = \\frac{TP}{TP + FP}}$\n",
    "- $\\small{Recall = \\frac{TP}{TP + FN}}$\n",
    "\n",
    "$TP$ is True Positives, $FP$ is False Positives, and $FN$ is False Negatives.\n",
    "The formula for ROC AUC (Receiver Operating Characteristic Area Under the Curve) is:\n",
    "\n",
    "$$\n",
    "\\small{ROC\\_AUC = \\int_0^1 TPR(FPR) \\, dFPR}\n",
    "$$\n",
    "\n",
    "where  $TPR$  is the True Positive Rate and $FPR$ is the False Positive Rate.  The integral is taken over the range of FPR from 0 to 1. \n",
    "***\n",
    "- The formula for Average Precision (AP) is:\n",
    "\n",
    "$$\n",
    "\\small{AP = \\sum_{n=1}^N (R_n - R_{n-1}) P_n}\n",
    "$$\n",
    "\n",
    "where $P_n$ and $R_n$ are the precision and recall at the nth threshold, and $N$ is the total number of thresholds. $R_0$ is defined as 0.\n",
    "***\n",
    "- Top K Precision:\n",
    "The TKP can be computed by ranking all fraud probabilities by decreasing order, and computing the precision for the top K ranked transactions per and average over the validation/test time window.\n"
   ]
  },
  {
   "cell_type": "code",
   "execution_count": null,
   "metadata": {},
   "outputs": [],
   "source": [
    "def precision_top_k_day(df_day):\n",
    "    top_k = df_day['is_fraud'].sum()\n",
    "    \n",
    "    # Order transactions by decreasing probabilities of frauds\n",
    "    df_day = df_day.sort_values(by=\"predictions\", ascending=False).reset_index(drop=False)\n",
    "        \n",
    "    # Get the top k most suspicious transactions\n",
    "    df_day_top_k=df_day.head(top_k)\n",
    "    fraudulent_transactions=list(df_day_top_k[df_day_top_k['is_fraud']==1])\n",
    "    \n",
    "    # Compute precision top k\n",
    "    precision_top_k = len(list_detected_fraudulent_transactions) / top_k\n",
    "    \n",
    "    return list_detected_fraudulent_transactions, precision_top_k"
   ]
  },
  {
   "cell_type": "code",
   "execution_count": null,
   "metadata": {},
   "outputs": [],
   "source": [
    "def precision_top_k(predictions_df, top_k=100):\n",
    "\n",
    "    # Sort days by increasing order\n",
    "    list_days=list(predictions_df['TX_TIME_DAYS'].unique())\n",
    "    list_days.sort()\n",
    "    \n",
    "    precision_top_k_per_day_list = []\n",
    "    nb_fraudulent_transactions_per_day = []\n",
    "    \n",
    "    # For each day, compute precision top k\n",
    "    for day in list_days:\n",
    "        \n",
    "        df_day = predictions_df[predictions_df['TX_TIME_DAYS']==day]\n",
    "        df_day = df_day[['TRANSACTION_ID', 'CUSTOMER_ID', 'TX_FRAUD', 'predictions']]\n",
    "        \n",
    "        nb_fraudulent_transactions_per_day.append(len(df_day[df_day.TX_FRAUD==1]))\n",
    "        \n",
    "        _, _precision_top_k = precision_top_k_day(df_day, top_k=top_k)\n",
    "        \n",
    "        precision_top_k_per_day_list.append(_precision_top_k)\n",
    "        \n",
    "    # Compute the mean\n",
    "    mean_precision_top_k = np.round(np.array(precision_top_k_per_day_list).mean(),3)\n",
    "    \n",
    "    # Returns number of fraudulent transactions per day,\n",
    "    # precision top k per day, and resulting mean\n",
    "    return nb_fraudulent_transactions_per_day,precision_top_k_per_day_list,mean_precision_top_k"
   ]
  },
  {
   "cell_type": "code",
   "execution_count": null,
   "metadata": {},
   "outputs": [],
   "source": []
  },
  {
   "cell_type": "code",
   "execution_count": null,
   "metadata": {},
   "outputs": [],
   "source": []
  },
  {
   "cell_type": "markdown",
   "metadata": {},
   "source": [
    "### Baseline"
   ]
  },
  {
   "cell_type": "markdown",
   "metadata": {},
   "source": [
    "For baseline we propose a Naive classifier. In the dataset, only around 0.6% are fraudulent transactions, we initialize our naive classifier by predicting every transaction as non-fradulent. This would result in very high accuracy but we will show that it is a bad indicator of the test performance"
   ]
  },
  {
   "cell_type": "code",
   "execution_count": 7,
   "metadata": {
    "vscode": {
     "languageId": "ruby"
    }
   },
   "outputs": [],
   "source": [
    "def Naive_classifier(val_df):\n",
    "    # Naive classifier: predict every transaction as non-fraud\n",
    "    val_df['fraud_detected'] = 0\n",
    "    return val_df"
   ]
  },
  {
   "cell_type": "code",
   "execution_count": 8,
   "metadata": {},
   "outputs": [
    {
     "name": "stdout",
     "output_type": "stream",
     "text": [
      "Skipping split for date 2019-01-01 00:00:18: Not enough data for train or validation set.\n",
      "Train dates: (Timestamp('2019-01-01 00:00:18'), Timestamp('2019-01-29 23:59:24'))\n",
      "Validation dates: (Timestamp('2019-03-03 00:00:43'), Timestamp('2019-05-31 23:59:53'))\n",
      "Train dates: (Timestamp('2019-01-01 00:00:18'), Timestamp('2019-03-01 00:00:08'))\n",
      "Validation dates: (Timestamp('2019-04-02 00:01:12'), Timestamp('2019-07-01 00:00:18'))\n",
      "Train dates: (Timestamp('2019-01-01 00:00:18'), Timestamp('2019-03-30 23:59:53'))\n",
      "Validation dates: (Timestamp('2019-05-02 00:01:51'), Timestamp('2019-07-30 23:59:16'))\n",
      "Train dates: (Timestamp('2019-01-31 00:02:37'), Timestamp('2019-04-29 23:59:39'))\n",
      "Validation dates: (Timestamp('2019-06-01 00:00:24'), Timestamp('2019-08-29 23:59:43'))\n",
      "Train dates: (Timestamp('2019-03-02 00:00:20'), Timestamp('2019-05-29 23:59:59'))\n",
      "Validation dates: (Timestamp('2019-07-01 00:00:18'), Timestamp('2019-09-28 23:59:54'))\n",
      "Train dates: (Timestamp('2019-04-01 00:03:02'), Timestamp('2019-06-28 23:59:59'))\n",
      "Validation dates: (Timestamp('2019-07-31 00:01:22'), Timestamp('2019-10-29 00:00:12'))\n",
      "Train dates: (Timestamp('2019-05-01 00:01:18'), Timestamp('2019-07-29 00:00:12'))\n",
      "Validation dates: (Timestamp('2019-08-30 00:02:10'), Timestamp('2019-11-28 00:00:16'))\n",
      "Train dates: (Timestamp('2019-05-31 00:00:39'), Timestamp('2019-08-27 23:59:34'))\n",
      "Validation dates: (Timestamp('2019-09-29 00:00:43'), Timestamp('2019-12-28 00:00:12'))\n",
      "Train dates: (Timestamp('2019-06-30 00:00:48'), Timestamp('2019-09-26 23:59:49'))\n",
      "Validation dates: (Timestamp('2019-10-29 00:00:22'), Timestamp('2020-01-26 23:59:48'))\n",
      "Train dates: (Timestamp('2019-07-30 00:00:40'), Timestamp('2019-10-27 00:00:17'))\n",
      "Validation dates: (Timestamp('2019-11-28 00:00:49'), Timestamp('2020-02-25 23:59:11'))\n",
      "Train dates: (Timestamp('2019-08-29 00:00:42'), Timestamp('2019-11-26 00:00:04'))\n",
      "Validation dates: (Timestamp('2019-12-28 00:00:37'), Timestamp('2020-03-26 23:57:56'))\n",
      "Train dates: (Timestamp('2019-09-28 00:00:22'), Timestamp('2019-12-25 23:59:55'))\n",
      "Validation dates: (Timestamp('2020-01-27 00:01:06'), Timestamp('2020-04-26 00:00:11'))\n",
      "Train dates: (Timestamp('2019-10-28 00:00:27'), Timestamp('2020-01-24 23:59:56'))\n",
      "Validation dates: (Timestamp('2020-02-26 00:00:50'), Timestamp('2020-05-26 00:00:03'))\n",
      "Train dates: (Timestamp('2019-11-27 00:00:58'), Timestamp('2020-02-24 00:00:08'))\n",
      "Validation dates: (Timestamp('2020-03-27 00:00:26'), Timestamp('2020-06-21 12:13:37'))\n",
      "Train dates: (Timestamp('2019-12-27 00:00:28'), Timestamp('2020-03-25 00:00:03'))\n",
      "Validation dates: (Timestamp('2020-04-26 00:01:46'), Timestamp('2020-06-21 12:13:37'))\n",
      "Train dates: (Timestamp('2020-01-26 00:00:18'), Timestamp('2020-04-24 00:00:05'))\n",
      "Validation dates: (Timestamp('2020-05-26 00:00:37'), Timestamp('2020-06-21 12:13:37'))\n",
      "Skipping split for date 2020-05-25 00:00:18: Not enough data for train or validation set.\n"
     ]
    }
   ],
   "source": [
    "# val_df['fraud_detected']=model_and_predictions_dictionary['predictions_val']\n",
    "for split in splits:\n",
    "    print(\"Train dates:\", split['train_dates'])\n",
    "    print(\"Validation dates:\", split['val_dates'])\n",
    "    train_df = split['train_df']\n",
    "    val_df = split['val_df']\n",
    "    # X_train, y_train = train_df[input_features], train_df[target_feature]\n",
    "    # X_val, y_val = val_df[input_features], val_df[target_feature]\n"
   ]
  },
  {
   "cell_type": "code",
   "execution_count": 37,
   "metadata": {},
   "outputs": [
    {
     "data": {
      "text/plain": [
       "{'classifier': XGBClassifier(base_score=None, booster=None, callbacks=None,\n",
       "               colsample_bylevel=None, colsample_bynode=None,\n",
       "               colsample_bytree=None, device=None, early_stopping_rounds=None,\n",
       "               enable_categorical=False, eval_metric=None, feature_types=None,\n",
       "               gamma=None, grow_policy=None, importance_type=None,\n",
       "               interaction_constraints=None, learning_rate=None, max_bin=None,\n",
       "               max_cat_threshold=None, max_cat_to_onehot=None,\n",
       "               max_delta_step=None, max_depth=None, max_leaves=None,\n",
       "               min_child_weight=None, missing=nan, monotone_constraints=None,\n",
       "               multi_strategy=None, n_estimators=100, n_jobs=None,\n",
       "               num_parallel_tree=None, random_state=0, ...),\n",
       " 'predictions_val': array([6.6447114e-07, 1.0873647e-06, 8.2449133e-06, ..., 3.6439728e-06,\n",
       "        2.0318464e-06, 2.7536308e-07], dtype=float32),\n",
       " 'training_execution_time': 2.596529960632324,\n",
       " 'prediction_execution_time': 0.12139511108398438}"
      ]
     },
     "execution_count": 37,
     "metadata": {},
     "output_type": "execute_result"
    }
   ],
   "source": [
    "from sklearn.tree import DecisionTreeClassifier\n",
    "from utils.data import fit_model_and_get_predictions\n",
    "from xgboost import XGBClassifier\n",
    "\n",
    "# classifier = RandomForestClassifier(n_estimators=100, random_state=0)\n",
    "classifier = XGBClassifier(n_estimators=100, random_state=0)\n",
    "\n",
    "model_and_predictions_dictionary = fit_model_and_get_predictions(classifier, train_df, val_df, \n",
    "                                                                 input_features, \"xgboost\", \"is_fraud\",\n",
    "                                                                 scale=False)\n",
    "model_and_predictions_dictionary"
   ]
  },
  {
   "cell_type": "code",
   "execution_count": 31,
   "metadata": {},
   "outputs": [],
   "source": [
    "val_df['predictions']=(model_and_predictions_dictionary['predictions_val']>0.5).round()"
   ]
  },
  {
   "cell_type": "code",
   "execution_count": 32,
   "metadata": {},
   "outputs": [
    {
     "data": {
      "text/html": [
       "<div>\n",
       "<style scoped>\n",
       "    .dataframe tbody tr th:only-of-type {\n",
       "        vertical-align: middle;\n",
       "    }\n",
       "\n",
       "    .dataframe tbody tr th {\n",
       "        vertical-align: top;\n",
       "    }\n",
       "\n",
       "    .dataframe thead th {\n",
       "        text-align: right;\n",
       "    }\n",
       "</style>\n",
       "<table border=\"1\" class=\"dataframe\">\n",
       "  <thead>\n",
       "    <tr style=\"text-align: right;\">\n",
       "      <th></th>\n",
       "      <th>auc_roc</th>\n",
       "      <th>Average precision</th>\n",
       "      <th>F1 score</th>\n",
       "    </tr>\n",
       "  </thead>\n",
       "  <tbody>\n",
       "    <tr>\n",
       "      <th>0</th>\n",
       "      <td>0.839</td>\n",
       "      <td>0.657</td>\n",
       "      <td>0.797</td>\n",
       "    </tr>\n",
       "  </tbody>\n",
       "</table>\n",
       "</div>"
      ],
      "text/plain": [
       "   auc_roc  Average precision  F1 score\n",
       "0    0.839              0.657     0.797"
      ]
     },
     "execution_count": 32,
     "metadata": {},
     "output_type": "execute_result"
    }
   ],
   "source": [
    "from utils.eval import performance_assessment\n",
    "performance_assessment(val_df)"
   ]
  },
  {
   "cell_type": "code",
   "execution_count": 29,
   "metadata": {},
   "outputs": [
    {
     "data": {
      "image/png": "[encoded data removed]",
      "text/plain": [
       "<Figure size 720x504 with 2 Axes>"
      ]
     },
     "metadata": {
      "needs_background": "light"
     },
     "output_type": "display_data"
    }
   ],
   "source": [
    "import seaborn as sns\n",
    "from sklearn.metrics import confusion_matrix\n",
    "\n",
    "import matplotlib.pyplot as plt\n",
    "\n",
    "# Compute confusion matrix\n",
    "cm = confusion_matrix(val_df['is_fraud'], val_df['predictions'])\n",
    "\n",
    "# Plot confusion matrix\n",
    "plt.figure(figsize=(10, 7))\n",
    "sns.heatmap(cm, annot=True, fmt='d', cmap='Blues', xticklabels=['Not Fraud', 'Fraud'], yticklabels=['Not Fraud', 'Fraud'])\n",
    "plt.xlabel('Predicted')\n",
    "plt.ylabel('Actual')\n",
    "plt.title('Confusion Matrix')\n",
    "plt.show()"
   ]
  },
  {
   "cell_type": "code",
   "execution_count": null,
   "metadata": {},
   "outputs": [],
   "source": []
  }
 ],
 "metadata": {
  "kernelspec": {
   "display_name": "fraud_detection",
   "language": "python",
   "name": "fraud_detection"
  },
  "language_info": {
   "codemirror_mode": {
    "name": "ipython",
    "version": 3
   },
   "file_extension": ".py",
   "mimetype": "text/x-python",
   "name": "python",
   "nbconvert_exporter": "python",
   "pygments_lexer": "ipython3",
   "version": "3.10.4"
  }
 },
 "nbformat": 4,
 "nbformat_minor": 2
}
