{
 "cells": [
  {
   "cell_type": "markdown",
   "metadata": {},
   "source": [
    "# Final Evaluation"
   ]
  },
  {
   "cell_type": "code",
   "execution_count": 1,
   "metadata": {},
   "outputs": [],
   "source": [
    "import warnings\n",
    "import pandas as pd\n",
    "import numpy as np\n",
    "from datetime import datetime, timedelta\n",
    "import joblib\n",
    "import os\n",
    "import sys\n",
    "\n",
    "# Add the src directory to the Python path\n",
    "sys.path.append(os.path.abspath(os.path.join(\"..\", \"src\")))\n",
    "warnings.filterwarnings(\"ignore\")\n",
    "\n",
    "%load_ext autoreload\n",
    "%autoreload 2"
   ]
  },
  {
   "cell_type": "markdown",
   "metadata": {},
   "source": [
    "## Load Test Data Processed"
   ]
  },
  {
   "cell_type": "code",
   "execution_count": 2,
   "metadata": {},
   "outputs": [
    {
     "name": "stdout",
     "output_type": "stream",
     "text": [
      "Load test data\n",
      "CPU times: user 8.82 s, sys: 1.3 s, total: 10.1 s\n",
      "Wall time: 10.5 s\n",
      "555719 test data loaded, containing 2145 fraudulent transactions\n"
     ]
    }
   ],
   "source": [
    "print(\"Load test data\")\n",
    "%time test_df = pd.read_csv('../data/processed/test_data.csv')\n",
    "print(\n",
    "    \"{0} test data loaded, containing {1} fraudulent transactions\".format(\n",
    "        len(test_df), test_df[\"is_fraud\"].sum()\n",
    "    )\n",
    ")"
   ]
  },
  {
   "cell_type": "markdown",
   "metadata": {},
   "source": [
    "## Load Model"
   ]
  },
  {
   "cell_type": "code",
   "execution_count": 3,
   "metadata": {},
   "outputs": [],
   "source": [
    "import pickle\n",
    "\n",
    "# load model that you would like to evaluate\n",
    "with open(\"../saved_model/classifier/xgboost_scale_pos_weight50.pkl\", \"rb\") as file:\n",
    "    clf = pickle.load(file)"
   ]
  },
  {
   "cell_type": "markdown",
   "metadata": {},
   "source": [
    "## Make Predictions"
   ]
  },
  {
   "cell_type": "code",
   "execution_count": 4,
   "metadata": {},
   "outputs": [],
   "source": [
    "drop_col = [\n",
    "    \"Unnamed: 0\",\n",
    "    \"trans_date_trans_time\",\n",
    "    \"cc_num\",\n",
    "    \"merchant\",\n",
    "    \"category\",\n",
    "    \"first\",\n",
    "    \"last\",\n",
    "    \"street\",\n",
    "    \"city\",\n",
    "    \"state\",\n",
    "    \"zip\",\n",
    "    \"job\",\n",
    "    \"dob\",\n",
    "    \"unix_time\",\n",
    "    \"job_category\",\n",
    "    \"trans_date\",\n",
    "    \"trans_num\",\n",
    "    \"is_fraud\",\n",
    "]\n",
    "input_features = [col for col in test_df.columns if col not in drop_col]\n",
    "target_feature = [\"is_fraud\"]"
   ]
  },
  {
   "cell_type": "code",
   "execution_count": 5,
   "metadata": {},
   "outputs": [],
   "source": [
    "predictions_test = clf.predict_proba(test_df[input_features])[:, 1]"
   ]
  },
  {
   "cell_type": "code",
   "execution_count": 6,
   "metadata": {},
   "outputs": [],
   "source": [
    "test_df[\"predictions\"] = (\n",
    "    predictions_test > 0.5\n",
    ").round()  # threshold = 0.25 for stricter non-fradulent activaities"
   ]
  },
  {
   "cell_type": "markdown",
   "metadata": {},
   "source": [
    "## Evaluation"
   ]
  },
  {
   "cell_type": "code",
   "execution_count": 7,
   "metadata": {},
   "outputs": [
    {
     "data": {
      "text/html": [
       "<div>\n",
       "<style scoped>\n",
       "    .dataframe tbody tr th:only-of-type {\n",
       "        vertical-align: middle;\n",
       "    }\n",
       "\n",
       "    .dataframe tbody tr th {\n",
       "        vertical-align: top;\n",
       "    }\n",
       "\n",
       "    .dataframe thead th {\n",
       "        text-align: right;\n",
       "    }\n",
       "</style>\n",
       "<table border=\"1\" class=\"dataframe\">\n",
       "  <thead>\n",
       "    <tr style=\"text-align: right;\">\n",
       "      <th></th>\n",
       "      <th>auc_roc</th>\n",
       "      <th>average precision</th>\n",
       "      <th>f1 score</th>\n",
       "      <th>precision_top_50</th>\n",
       "    </tr>\n",
       "  </thead>\n",
       "  <tbody>\n",
       "    <tr>\n",
       "      <th>0</th>\n",
       "      <td>0.955</td>\n",
       "      <td>0.771</td>\n",
       "      <td>0.877</td>\n",
       "      <td>0.202</td>\n",
       "    </tr>\n",
       "  </tbody>\n",
       "</table>\n",
       "</div>"
      ],
      "text/plain": [
       "   auc_roc  average precision  f1 score  precision_top_50\n",
       "0    0.955              0.771     0.877             0.202"
      ]
     },
     "execution_count": 7,
     "metadata": {},
     "output_type": "execute_result"
    }
   ],
   "source": [
    "from models.tree_based import performance_assessment\n",
    "\n",
    "performance_assessment(test_df)"
   ]
  },
  {
   "cell_type": "code",
   "execution_count": 8,
   "metadata": {},
   "outputs": [
    {
     "data": {
      "image/png": "[encoded data removed]",
      "text/plain": [
       "<Figure size 720x504 with 2 Axes>"
      ]
     },
     "metadata": {
      "needs_background": "light"
     },
     "output_type": "display_data"
    }
   ],
   "source": [
    "import seaborn as sns\n",
    "from sklearn.metrics import confusion_matrix\n",
    "import matplotlib.pyplot as plt\n",
    "from matplotlib.colors import LogNorm\n",
    "\n",
    "# Compute confusion matrix\n",
    "cm = confusion_matrix(test_df[\"is_fraud\"], test_df[\"predictions\"])\n",
    "\n",
    "# Plot confusion matrix\n",
    "plt.figure(figsize=(10, 7))\n",
    "sns.heatmap(\n",
    "    cm,\n",
    "    annot=True,\n",
    "    fmt=\"d\",\n",
    "    cmap=\"YlGnBu\",\n",
    "    xticklabels=[\"Not Fraud\", \"Fraud\"],\n",
    "    yticklabels=[\"Not Fraud\", \"Fraud\"],\n",
    "    norm=LogNorm(vmin=1, vmax=cm.max()),\n",
    ")\n",
    "plt.xlabel(\"Predicted\")\n",
    "plt.ylabel(\"Actual\")\n",
    "plt.title(\"Confusion Matrix\")\n",
    "plt.show()"
   ]
  },
  {
   "cell_type": "code",
   "execution_count": 9,
   "metadata": {},
   "outputs": [
    {
     "data": {
      "text/plain": [
       "41311.61000000001"
      ]
     },
     "execution_count": 9,
     "metadata": {},
     "output_type": "execute_result"
    }
   ],
   "source": [
    "reimbursement_loss = test_df[\n",
    "    (test_df[\"predictions\"] == 0) & (test_df[\"is_fraud\"] == 1)\n",
    "][\"amt\"].sum()\n",
    "reimbursement_loss"
   ]
  },
  {
   "cell_type": "markdown",
   "metadata": {},
   "source": [
    "## Outlook"
   ]
  },
  {
   "cell_type": "markdown",
   "metadata": {},
   "source": [
    "If given more time, we could:\n",
    "\n",
    "- add scripts to process evaluation more efficient\n",
    "- ..."
   ]
  }
 ],
 "metadata": {
  "kernelspec": {
   "display_name": "fraud_detection",
   "language": "python",
   "name": "fraud_detection"
  },
  "language_info": {
   "codemirror_mode": {
    "name": "ipython",
    "version": 3
   },
   "file_extension": ".py",
   "mimetype": "text/x-python",
   "name": "python",
   "nbconvert_exporter": "python",
   "pygments_lexer": "ipython3",
   "version": "3.10.4"
  }
 },
 "nbformat": 4,
 "nbformat_minor": 2
}
