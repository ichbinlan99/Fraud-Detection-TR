{
 "cells": [
  {
   "cell_type": "markdown",
   "metadata": {},
   "source": [
    "# Fraud Detection Data"
   ]
  },
  {
   "cell_type": "code",
   "execution_count": 4,
   "metadata": {},
   "outputs": [],
   "source": [
    "import warnings\n",
    "from datetime import datetime\n",
    "import os\n",
    "import sys\n",
    "import json\n",
    "import pickle\n",
    "\n",
    "import numpy as np\n",
    "import pandas as pd\n",
    "import plotly.express as px\n",
    "import seaborn as sns\n",
    "from geopy.distance import geodesic\n",
    "from matplotlib import pyplot as plt\n",
    "from summarytools import dfSummary\n",
    "\n",
    "# Add the src directory to the Python path\n",
    "sys.path.append(os.path.abspath(os.path.join('..', 'src')))\n",
    "\n",
    "from utils.plots import FraudMap\n",
    "from features.feature_engineering import generic_customer_spending_behaviour, general_customer_bahaviour, get_merchant_risk_rolling_window\n",
    "from features.feature_transformation import encode, categorize_jobs\n",
    "\n",
    "warnings.filterwarnings(\"ignore\")\n",
    "\n",
    "%load_ext autoreload\n",
    "%autoreload 2\n"
   ]
  },
  {
   "cell_type": "markdown",
   "metadata": {},
   "source": [
    "## Load Data"
   ]
  },
  {
   "cell_type": "code",
   "execution_count": 5,
   "metadata": {},
   "outputs": [
    {
     "name": "stdout",
     "output_type": "stream",
     "text": [
      "Load transaction data\n",
      "CPU times: user 6.69 s, sys: 1.09 s, total: 7.79 s\n",
      "Wall time: 8.66 s\n",
      "1296675 transaction data loaded, containing 7506 fraudulent transactions\n"
     ]
    }
   ],
   "source": [
    "print(\"Load transaction data\")\n",
    "%time df = pd.read_csv(\"../data/raw/tr_fincrime_train.csv\")\n",
    "print(\"{0} transaction data loaded, containing {1} fraudulent transactions\".format(len(df),df['is_fraud'].sum()))"
   ]
  },
  {
   "cell_type": "code",
   "execution_count": 6,
   "metadata": {},
   "outputs": [
    {
     "data": {
      "text/html": [
       "<div>\n",
       "<style scoped>\n",
       "    .dataframe tbody tr th:only-of-type {\n",
       "        vertical-align: middle;\n",
       "    }\n",
       "\n",
       "    .dataframe tbody tr th {\n",
       "        vertical-align: top;\n",
       "    }\n",
       "\n",
       "    .dataframe thead th {\n",
       "        text-align: right;\n",
       "    }\n",
       "</style>\n",
       "<table border=\"1\" class=\"dataframe\">\n",
       "  <thead>\n",
       "    <tr style=\"text-align: right;\">\n",
       "      <th></th>\n",
       "      <th>Unnamed: 0</th>\n",
       "      <th>trans_date_trans_time</th>\n",
       "      <th>cc_num</th>\n",
       "      <th>merchant</th>\n",
       "      <th>category</th>\n",
       "      <th>amt</th>\n",
       "      <th>first</th>\n",
       "      <th>last</th>\n",
       "      <th>gender</th>\n",
       "      <th>street</th>\n",
       "      <th>...</th>\n",
       "      <th>lat</th>\n",
       "      <th>long</th>\n",
       "      <th>city_pop</th>\n",
       "      <th>job</th>\n",
       "      <th>dob</th>\n",
       "      <th>trans_num</th>\n",
       "      <th>unix_time</th>\n",
       "      <th>merch_lat</th>\n",
       "      <th>merch_long</th>\n",
       "      <th>is_fraud</th>\n",
       "    </tr>\n",
       "  </thead>\n",
       "  <tbody>\n",
       "    <tr>\n",
       "      <th>0</th>\n",
       "      <td>0</td>\n",
       "      <td>2019-01-01 00:00:18</td>\n",
       "      <td>2703186189652095</td>\n",
       "      <td>fraud_Rippin, Kub and Mann</td>\n",
       "      <td>misc_net</td>\n",
       "      <td>4.97</td>\n",
       "      <td>Jennifer</td>\n",
       "      <td>Banks</td>\n",
       "      <td>F</td>\n",
       "      <td>561 Perry Cove</td>\n",
       "      <td>...</td>\n",
       "      <td>36.0788</td>\n",
       "      <td>-81.1781</td>\n",
       "      <td>3495</td>\n",
       "      <td>Psychologist, counselling</td>\n",
       "      <td>1988-03-09</td>\n",
       "      <td>0b242abb623afc578575680df30655b9</td>\n",
       "      <td>1325376018</td>\n",
       "      <td>36.011293</td>\n",
       "      <td>-82.048315</td>\n",
       "      <td>0</td>\n",
       "    </tr>\n",
       "    <tr>\n",
       "      <th>1</th>\n",
       "      <td>1</td>\n",
       "      <td>2019-01-01 00:00:44</td>\n",
       "      <td>630423337322</td>\n",
       "      <td>fraud_Heller, Gutmann and Zieme</td>\n",
       "      <td>grocery_pos</td>\n",
       "      <td>107.23</td>\n",
       "      <td>Stephanie</td>\n",
       "      <td>Gill</td>\n",
       "      <td>F</td>\n",
       "      <td>43039 Riley Greens Suite 393</td>\n",
       "      <td>...</td>\n",
       "      <td>48.8878</td>\n",
       "      <td>-118.2105</td>\n",
       "      <td>149</td>\n",
       "      <td>Special educational needs teacher</td>\n",
       "      <td>1978-06-21</td>\n",
       "      <td>1f76529f8574734946361c461b024d99</td>\n",
       "      <td>1325376044</td>\n",
       "      <td>49.159047</td>\n",
       "      <td>-118.186462</td>\n",
       "      <td>0</td>\n",
       "    </tr>\n",
       "    <tr>\n",
       "      <th>2</th>\n",
       "      <td>2</td>\n",
       "      <td>2019-01-01 00:00:51</td>\n",
       "      <td>38859492057661</td>\n",
       "      <td>fraud_Lind-Buckridge</td>\n",
       "      <td>entertainment</td>\n",
       "      <td>220.11</td>\n",
       "      <td>Edward</td>\n",
       "      <td>Sanchez</td>\n",
       "      <td>M</td>\n",
       "      <td>594 White Dale Suite 530</td>\n",
       "      <td>...</td>\n",
       "      <td>42.1808</td>\n",
       "      <td>-112.2620</td>\n",
       "      <td>4154</td>\n",
       "      <td>Nature conservation officer</td>\n",
       "      <td>1962-01-19</td>\n",
       "      <td>a1a22d70485983eac12b5b88dad1cf95</td>\n",
       "      <td>1325376051</td>\n",
       "      <td>43.150704</td>\n",
       "      <td>-112.154481</td>\n",
       "      <td>0</td>\n",
       "    </tr>\n",
       "    <tr>\n",
       "      <th>3</th>\n",
       "      <td>3</td>\n",
       "      <td>2019-01-01 00:01:16</td>\n",
       "      <td>3534093764340240</td>\n",
       "      <td>fraud_Kutch, Hermiston and Farrell</td>\n",
       "      <td>gas_transport</td>\n",
       "      <td>45.00</td>\n",
       "      <td>Jeremy</td>\n",
       "      <td>White</td>\n",
       "      <td>M</td>\n",
       "      <td>9443 Cynthia Court Apt. 038</td>\n",
       "      <td>...</td>\n",
       "      <td>46.2306</td>\n",
       "      <td>-112.1138</td>\n",
       "      <td>1939</td>\n",
       "      <td>Patent attorney</td>\n",
       "      <td>1967-01-12</td>\n",
       "      <td>6b849c168bdad6f867558c3793159a81</td>\n",
       "      <td>1325376076</td>\n",
       "      <td>47.034331</td>\n",
       "      <td>-112.561071</td>\n",
       "      <td>0</td>\n",
       "    </tr>\n",
       "    <tr>\n",
       "      <th>4</th>\n",
       "      <td>4</td>\n",
       "      <td>2019-01-01 00:03:06</td>\n",
       "      <td>375534208663984</td>\n",
       "      <td>fraud_Keeling-Crist</td>\n",
       "      <td>misc_pos</td>\n",
       "      <td>41.96</td>\n",
       "      <td>Tyler</td>\n",
       "      <td>Garcia</td>\n",
       "      <td>M</td>\n",
       "      <td>408 Bradley Rest</td>\n",
       "      <td>...</td>\n",
       "      <td>38.4207</td>\n",
       "      <td>-79.4629</td>\n",
       "      <td>99</td>\n",
       "      <td>Dance movement psychotherapist</td>\n",
       "      <td>1986-03-28</td>\n",
       "      <td>a41d7549acf90789359a9aa5346dcb46</td>\n",
       "      <td>1325376186</td>\n",
       "      <td>38.674999</td>\n",
       "      <td>-78.632459</td>\n",
       "      <td>0</td>\n",
       "    </tr>\n",
       "  </tbody>\n",
       "</table>\n",
       "<p>5 rows × 23 columns</p>\n",
       "</div>"
      ],
      "text/plain": [
       "   Unnamed: 0 trans_date_trans_time            cc_num  \\\n",
       "0           0   2019-01-01 00:00:18  2703186189652095   \n",
       "1           1   2019-01-01 00:00:44      630423337322   \n",
       "2           2   2019-01-01 00:00:51    38859492057661   \n",
       "3           3   2019-01-01 00:01:16  3534093764340240   \n",
       "4           4   2019-01-01 00:03:06   375534208663984   \n",
       "\n",
       "                             merchant       category     amt      first  \\\n",
       "0          fraud_Rippin, Kub and Mann       misc_net    4.97   Jennifer   \n",
       "1     fraud_Heller, Gutmann and Zieme    grocery_pos  107.23  Stephanie   \n",
       "2                fraud_Lind-Buckridge  entertainment  220.11     Edward   \n",
       "3  fraud_Kutch, Hermiston and Farrell  gas_transport   45.00     Jeremy   \n",
       "4                 fraud_Keeling-Crist       misc_pos   41.96      Tyler   \n",
       "\n",
       "      last gender                        street  ...      lat      long  \\\n",
       "0    Banks      F                561 Perry Cove  ...  36.0788  -81.1781   \n",
       "1     Gill      F  43039 Riley Greens Suite 393  ...  48.8878 -118.2105   \n",
       "2  Sanchez      M      594 White Dale Suite 530  ...  42.1808 -112.2620   \n",
       "3    White      M   9443 Cynthia Court Apt. 038  ...  46.2306 -112.1138   \n",
       "4   Garcia      M              408 Bradley Rest  ...  38.4207  -79.4629   \n",
       "\n",
       "   city_pop                                job         dob  \\\n",
       "0      3495          Psychologist, counselling  1988-03-09   \n",
       "1       149  Special educational needs teacher  1978-06-21   \n",
       "2      4154        Nature conservation officer  1962-01-19   \n",
       "3      1939                    Patent attorney  1967-01-12   \n",
       "4        99     Dance movement psychotherapist  1986-03-28   \n",
       "\n",
       "                          trans_num   unix_time  merch_lat  merch_long  \\\n",
       "0  0b242abb623afc578575680df30655b9  1325376018  36.011293  -82.048315   \n",
       "1  1f76529f8574734946361c461b024d99  1325376044  49.159047 -118.186462   \n",
       "2  a1a22d70485983eac12b5b88dad1cf95  1325376051  43.150704 -112.154481   \n",
       "3  6b849c168bdad6f867558c3793159a81  1325376076  47.034331 -112.561071   \n",
       "4  a41d7549acf90789359a9aa5346dcb46  1325376186  38.674999  -78.632459   \n",
       "\n",
       "   is_fraud  \n",
       "0         0  \n",
       "1         0  \n",
       "2         0  \n",
       "3         0  \n",
       "4         0  \n",
       "\n",
       "[5 rows x 23 columns]"
      ]
     },
     "execution_count": 6,
     "metadata": {},
     "output_type": "execute_result"
    }
   ],
   "source": [
    "df.head(5)"
   ]
  },
  {
   "cell_type": "code",
   "execution_count": 7,
   "metadata": {},
   "outputs": [
    {
     "data": {
      "text/html": [
       "<style type=\"text/css\">\n",
       "#T_2a0be thead>tr>th {\n",
       "  text-align: left;\n",
       "}\n",
       "#T_2a0be_row0_col0, #T_2a0be_row1_col0, #T_2a0be_row2_col0, #T_2a0be_row3_col0, #T_2a0be_row4_col0, #T_2a0be_row5_col0, #T_2a0be_row6_col0, #T_2a0be_row7_col0, #T_2a0be_row8_col0, #T_2a0be_row9_col0, #T_2a0be_row10_col0, #T_2a0be_row11_col0, #T_2a0be_row12_col0, #T_2a0be_row13_col0, #T_2a0be_row14_col0, #T_2a0be_row15_col0, #T_2a0be_row16_col0, #T_2a0be_row17_col0, #T_2a0be_row18_col0, #T_2a0be_row19_col0, #T_2a0be_row20_col0, #T_2a0be_row21_col0, #T_2a0be_row22_col0 {\n",
       "  text-align: left;\n",
       "  font-size: 12px;\n",
       "  vertical-align: middle;\n",
       "  width: 5%;\n",
       "  max-width: 50px;\n",
       "  min-width: 20px;\n",
       "}\n",
       "#T_2a0be_row0_col1, #T_2a0be_row1_col1, #T_2a0be_row2_col1, #T_2a0be_row3_col1, #T_2a0be_row4_col1, #T_2a0be_row5_col1, #T_2a0be_row6_col1, #T_2a0be_row7_col1, #T_2a0be_row8_col1, #T_2a0be_row9_col1, #T_2a0be_row10_col1, #T_2a0be_row11_col1, #T_2a0be_row12_col1, #T_2a0be_row13_col1, #T_2a0be_row14_col1, #T_2a0be_row15_col1, #T_2a0be_row16_col1, #T_2a0be_row17_col1, #T_2a0be_row18_col1, #T_2a0be_row19_col1, #T_2a0be_row20_col1, #T_2a0be_row21_col1, #T_2a0be_row22_col1 {\n",
       "  text-align: left;\n",
       "  font-size: 12px;\n",
       "  vertical-align: middle;\n",
       "  width: 15%;\n",
       "  max-width: 200px;\n",
       "  min-width: 100px;\n",
       "  word-break: break-word;\n",
       "}\n",
       "#T_2a0be_row0_col2, #T_2a0be_row1_col2, #T_2a0be_row2_col2, #T_2a0be_row3_col2, #T_2a0be_row4_col2, #T_2a0be_row5_col2, #T_2a0be_row6_col2, #T_2a0be_row7_col2, #T_2a0be_row8_col2, #T_2a0be_row9_col2, #T_2a0be_row10_col2, #T_2a0be_row11_col2, #T_2a0be_row12_col2, #T_2a0be_row13_col2, #T_2a0be_row14_col2, #T_2a0be_row15_col2, #T_2a0be_row16_col2, #T_2a0be_row17_col2, #T_2a0be_row18_col2, #T_2a0be_row19_col2, #T_2a0be_row20_col2, #T_2a0be_row21_col2, #T_2a0be_row22_col2 {\n",
       "  text-align: left;\n",
       "  font-size: 12px;\n",
       "  vertical-align: middle;\n",
       "  width: 30%;\n",
       "  min-width: 100px;\n",
       "}\n",
       "#T_2a0be_row0_col3, #T_2a0be_row1_col3, #T_2a0be_row2_col3, #T_2a0be_row3_col3, #T_2a0be_row4_col3, #T_2a0be_row5_col3, #T_2a0be_row6_col3, #T_2a0be_row7_col3, #T_2a0be_row8_col3, #T_2a0be_row9_col3, #T_2a0be_row10_col3, #T_2a0be_row11_col3, #T_2a0be_row12_col3, #T_2a0be_row13_col3, #T_2a0be_row14_col3, #T_2a0be_row15_col3, #T_2a0be_row16_col3, #T_2a0be_row17_col3, #T_2a0be_row18_col3, #T_2a0be_row19_col3, #T_2a0be_row20_col3, #T_2a0be_row21_col3, #T_2a0be_row22_col3 {\n",
       "  text-align: left;\n",
       "  font-size: 12px;\n",
       "  vertical-align: middle;\n",
       "  width: 25%;\n",
       "  min-width: 100px;\n",
       "}\n",
       "#T_2a0be_row0_col4, #T_2a0be_row1_col4, #T_2a0be_row2_col4, #T_2a0be_row3_col4, #T_2a0be_row4_col4, #T_2a0be_row5_col4, #T_2a0be_row6_col4, #T_2a0be_row7_col4, #T_2a0be_row8_col4, #T_2a0be_row9_col4, #T_2a0be_row10_col4, #T_2a0be_row11_col4, #T_2a0be_row12_col4, #T_2a0be_row13_col4, #T_2a0be_row14_col4, #T_2a0be_row15_col4, #T_2a0be_row16_col4, #T_2a0be_row17_col4, #T_2a0be_row18_col4, #T_2a0be_row19_col4, #T_2a0be_row20_col4, #T_2a0be_row21_col4, #T_2a0be_row22_col4 {\n",
       "  text-align: left;\n",
       "  font-size: 12px;\n",
       "  vertical-align: middle;\n",
       "  width: 20%;\n",
       "  min-width: 150px;\n",
       "}\n",
       "#T_2a0be_row0_col5, #T_2a0be_row1_col5, #T_2a0be_row2_col5, #T_2a0be_row3_col5, #T_2a0be_row4_col5, #T_2a0be_row5_col5, #T_2a0be_row6_col5, #T_2a0be_row7_col5, #T_2a0be_row8_col5, #T_2a0be_row9_col5, #T_2a0be_row10_col5, #T_2a0be_row11_col5, #T_2a0be_row12_col5, #T_2a0be_row13_col5, #T_2a0be_row14_col5, #T_2a0be_row15_col5, #T_2a0be_row16_col5, #T_2a0be_row17_col5, #T_2a0be_row18_col5, #T_2a0be_row19_col5, #T_2a0be_row20_col5, #T_2a0be_row21_col5, #T_2a0be_row22_col5 {\n",
       "  text-align: left;\n",
       "  font-size: 12px;\n",
       "  vertical-align: middle;\n",
       "  width: 10%;\n",
       "}\n",
       "</style>\n",
       "<table id=\"T_2a0be\">\n",
       "  <caption><strong>Data Frame Summary</strong><br>df<br>Dimensions: 1,296,675 x 23<br>Duplicates: 0</caption>\n",
       "  <thead>\n",
       "    <tr>\n",
       "      <th id=\"T_2a0be_level0_col0\" class=\"col_heading level0 col0\" >No</th>\n",
       "      <th id=\"T_2a0be_level0_col1\" class=\"col_heading level0 col1\" >Variable</th>\n",
       "      <th id=\"T_2a0be_level0_col2\" class=\"col_heading level0 col2\" >Stats / Values</th>\n",
       "      <th id=\"T_2a0be_level0_col3\" class=\"col_heading level0 col3\" >Freqs / (% of Valid)</th>\n",
       "      <th id=\"T_2a0be_level0_col4\" class=\"col_heading level0 col4\" >Graph</th>\n",
       "      <th id=\"T_2a0be_level0_col5\" class=\"col_heading level0 col5\" >Missing</th>\n",
       "    </tr>\n",
       "  </thead>\n",
       "  <tbody>\n",
       "    <tr>\n",
       "      <td id=\"T_2a0be_row0_col0\" class=\"data row0 col0\" >1</td>\n",
       "      <td id=\"T_2a0be_row0_col1\" class=\"data row0 col1\" ><strong>Unnamed: 0</strong><br>[int64]</td>\n",
       "      <td id=\"T_2a0be_row0_col2\" class=\"data row0 col2\" >Mean (sd) : 648337.0 (374318.0)<br>min < med < max:<br>0.0 < 648337.0 < 1296674.0<br>IQR (CV) : 648337.0 (1.7)</td>\n",
       "      <td id=\"T_2a0be_row0_col3\" class=\"data row0 col3\" >1,296,675 distinct values</td>\n",
       "      <td id=\"T_2a0be_row0_col4\" class=\"data row0 col4\" ><img src = \"data:image/png;base64, iVBORw0KGgoAAAANSUhEUgAAAHoAAAAyCAYAAACTUs/lAAAAOXRFWHRTb2Z0d2FyZQBNYXRwbG90bGliIHZlcnNpb24zLjguMiwgaHR0cHM6Ly9tYXRwbG90bGliLm9yZy8g+/7EAAAACXBIWXMAAAsTAAALEwEAmpwYAAAA30lEQVR4nO3UMQoCMRBAURXLqbOFjRfxEJ5gzpYTeArvsY2FqdOvrQgLaVbB/1+ZDGHgQ/bLsuz0/w6/XkDfcVy7KKVcI2IaeaT3fo6I2dnx2Y33eLbWbu9nq6EjYsrMx8jDtdZLZt6dHZ/deI/T55lfN4ShIQwNYWgIQ0MYGsLQEIaGMDSEoSEMDWFoCENDGBrC0BCGhjA0hKEhDA1haAhDQxgawtAQhoYwNIShIQwNYWgIQ0MYGsLQEIaGMDSEoSEMDWFoCENDGBrC0BCGhjA0hKEhDA1haAhDQxga4gWhg1ey46OS8wAAAABJRU5ErkJggg==\"></img></td>\n",
       "      <td id=\"T_2a0be_row0_col5\" class=\"data row0 col5\" >0<br>(0.0%)</td>\n",
       "    </tr>\n",
       "    <tr>\n",
       "      <td id=\"T_2a0be_row1_col0\" class=\"data row1 col0\" >2</td>\n",
       "      <td id=\"T_2a0be_row1_col1\" class=\"data row1 col1\" ><strong>trans_date_trans_time</strong><br>[object]</td>\n",
       "      <td id=\"T_2a0be_row1_col2\" class=\"data row1 col2\" >1. 2019-04-22 16:02:01<br>2. 2020-06-01 01:37:47<br>3. 2020-06-02 12:47:07<br>4. 2019-11-18 23:03:49<br>5. 2019-12-01 14:11:58<br>6. 2019-12-09 17:30:34<br>7. 2019-12-29 21:58:02<br>8. 2020-06-14 07:16:47<br>9. 2019-09-01 19:41:45<br>10. 2019-07-08 18:30:52<br>11. other</td>\n",
       "      <td id=\"T_2a0be_row1_col3\" class=\"data row1 col3\" >4 (0.0%)<br>4 (0.0%)<br>4 (0.0%)<br>3 (0.0%)<br>3 (0.0%)<br>3 (0.0%)<br>3 (0.0%)<br>3 (0.0%)<br>3 (0.0%)<br>3 (0.0%)<br>1,296,642 (100.0%)</td>\n",
       "      <td id=\"T_2a0be_row1_col4\" class=\"data row1 col4\" ><img src = \"data:image/png;base64, iVBORw0KGgoAAAANSUhEUgAAAG8AAACzCAYAAACHOUI0AAAAOXRFWHRTb2Z0d2FyZQBNYXRwbG90bGliIHZlcnNpb24zLjguMiwgaHR0cHM6Ly9tYXRwbG90bGliLm9yZy8g+/7EAAAACXBIWXMAAAsTAAALEwEAmpwYAAACCklEQVR4nO3asW3EMBQFQVJwyFS4Ds71uAL17dx1yDWcEmKBmQoILPADPc37vgdNx+4H8Jx4YeKFiRcmXph4YeKFHXPO792P4JljjPHe/QiecTbDxAsTL0y8MPHCxAsTL0y8MPHCxAs7xhi/ux/BM9MPSF3OZphJKMwkFOZshokXJl6YeGHihYkXJl6YeGHihYkXZhIKMwmFOZthJqEwk1CYsxkmXph4YeKFiRcmXph4YeKFiRcmXphJKMwkFOZshpmEwkxCYc5mmHhh4oWJFyZemHhh4oWJFyZemHhhJqEwk1CYsxlmEgozCYU5m2HihYkXJl6YeGHihYkXJl6YeGHihZmEwkxCYc5mmEkozCQU5myGiRcmXph4YeKFiRcmXph4YeKFiRdmEgozCYU5m2EmoTCTUJizGSZemHhh4oWJFyZemHhh4oWJFyZemEkozCQU5myGmYTCTEJhzmaYeGHihYkXJl6YeGHihYkXJl6YeGHihdnzwux5Yc5mmD0vzJ4X5myGiRcmXph4YeKFiRcmXph4YeKFiRdmEgozCYU5m2EmoTCTUJizGSZemHhh4oWJFyZemHhh4oWJFyZemEkozCQU5myGzfM8f9Zar90P4XNfa63XdV1/ux/C55zNMPHCxAsTL0y8MPHCxAsTL0y8MPHCfNsMMwmFOZth4oWJFyZemHhh4oX9A5gQNK7t5DBkAAAAAElFTkSuQmCC\"></img></td>\n",
       "      <td id=\"T_2a0be_row1_col5\" class=\"data row1 col5\" >0<br>(0.0%)</td>\n",
       "    </tr>\n",
       "    <tr>\n",
       "      <td id=\"T_2a0be_row2_col0\" class=\"data row2 col0\" >3</td>\n",
       "      <td id=\"T_2a0be_row2_col1\" class=\"data row2 col1\" ><strong>cc_num</strong><br>[int64]</td>\n",
       "      <td id=\"T_2a0be_row2_col2\" class=\"data row2 col2\" >Mean (sd) : 417192042079726656.0 (1308806447000240384.0)<br>min < med < max:<br>60416207185.0 < 3521417320836166.0 < 4992346398065154048.0<br>IQR (CV) : 4462212528794792.0 (0.3)</td>\n",
       "      <td id=\"T_2a0be_row2_col3\" class=\"data row2 col3\" >983 distinct values</td>\n",
       "      <td id=\"T_2a0be_row2_col4\" class=\"data row2 col4\" ><img src = \"data:image/png;base64, iVBORw0KGgoAAAANSUhEUgAAAHoAAAAyCAYAAACTUs/lAAAAOXRFWHRTb2Z0d2FyZQBNYXRwbG90bGliIHZlcnNpb24zLjguMiwgaHR0cHM6Ly9tYXRwbG90bGliLm9yZy8g+/7EAAAACXBIWXMAAAsTAAALEwEAmpwYAAAA7klEQVR4nO3csQ3CMBQAUUAUKVwnBUMwAUMwgWfzBHRsRIFr92EBLCWKwYi719pyvnRSyr+f53mn/3foPYC+41g7GMfxGkKYljxSSnnmnG/txlJr1dAhhCnG+FjySErp1G4kfYK/bghDQxgawtAQhoYwNIShIQwNYWgIQ0MYGsLQEIaGMDSEoSEMDWFoCENDGBrC0BCGhjA0hKEhDA1haAhDQxgawtAQhoYwNIShIQwNYWgIQ0MYGsLQEIaGMDSEoSEMDWFoCENDGBqiugtUv2XrEl5Dd7Qm3jAM5xjjfcndd0t4Dd3Ryg3Kly3fegGR2yDpZf4wjAAAAABJRU5ErkJggg==\"></img></td>\n",
       "      <td id=\"T_2a0be_row2_col5\" class=\"data row2 col5\" >0<br>(0.0%)</td>\n",
       "    </tr>\n",
       "    <tr>\n",
       "      <td id=\"T_2a0be_row3_col0\" class=\"data row3 col0\" >4</td>\n",
       "      <td id=\"T_2a0be_row3_col1\" class=\"data row3 col1\" ><strong>merchant</strong><br>[object]</td>\n",
       "      <td id=\"T_2a0be_row3_col2\" class=\"data row3 col2\" >1. fraud_Kilback LLC<br>2. fraud_Cormier LLC<br>3. fraud_Schumm PLC<br>4. fraud_Kuhn LLC<br>5. fraud_Boyer PLC<br>6. fraud_Dickinson Ltd<br>7. fraud_Cummerata-Jones<br>8. fraud_Kutch LLC<br>9. fraud_Olson, Becker and Koch<br>10. fraud_Stroman, Hudson and Erdm<br>11. other</td>\n",
       "      <td id=\"T_2a0be_row3_col3\" class=\"data row3 col3\" >4,403 (0.3%)<br>3,649 (0.3%)<br>3,634 (0.3%)<br>3,510 (0.3%)<br>3,493 (0.3%)<br>3,434 (0.3%)<br>2,736 (0.2%)<br>2,734 (0.2%)<br>2,723 (0.2%)<br>2,721 (0.2%)<br>1,263,638 (97.5%)</td>\n",
       "      <td id=\"T_2a0be_row3_col4\" class=\"data row3 col4\" ><img src = \"data:image/png;base64, iVBORw0KGgoAAAANSUhEUgAAAG8AAACzCAYAAACHOUI0AAAAOXRFWHRTb2Z0d2FyZQBNYXRwbG90bGliIHZlcnNpb24zLjguMiwgaHR0cHM6Ly9tYXRwbG90bGliLm9yZy8g+/7EAAAACXBIWXMAAAsTAAALEwEAmpwYAAACIUlEQVR4nO3aoW3DUBhG0Wer0DQKKG/n6QSeLRN0n/KAGpu7qDwysa50zgRPutIP/Hk6jmPQNF/9AM4TL0y8MPHCxAsTL0y8sHmaps+rH8E58xjj4+pHcI6zGSZemHhh4oWJFyZemHhh4oWJFyZe2DzG+Ln6EZwz+QGpy9kMMwmFmYTCnM0w8cLECxMvTLww8cLECxMvTLww8cJMQmEmoTBnM8wkFGYSCnM2w8QLEy9MvDDxwsQLEy9MvDDxwsQLMwmFmYTCnM0wk1CYSSjM2QwTL0y8MPHCxAsTL0y8MPHCxAsTL8wkFGYSCnM2w0xCYSahMGczTLww8cLECxMvTLww8cLECxMvTLwwk1CYSSjM2QwzCYWZhMKczTDxwsQLEy9MvDDxwsQLEy9MvDDxwkxCYSahMGczzCQUZhIKczbDxAsTL0y8MPHCxAsTL0y8MPHCxAszCYWZhMKczTCTUJhJKMzZDBMvTLww8cLECxMvTLww8cLECxMvTLwwe16YPS/M2Qyz54XZ88KczTDxwsQLEy9MvDDxwsQLEy9MvDDxwkxCYSahMGczzCQUZhIKczbDxAsTL0y8MPHCxAsTL0y8MPHCxAszCYWZhMKczbDpdrt9Lctyv/ohvG7f999t277flmW5r+v6vPpBvO7xeLyP4WymiRcmXph4YeKFiRcmXph4YeKFiRfm22bQ/7dNk1CYsxkmXph4YeKFiRcmXtgfhqxFEDsGQrkAAAAASUVORK5CYII=\"></img></td>\n",
       "      <td id=\"T_2a0be_row3_col5\" class=\"data row3 col5\" >0<br>(0.0%)</td>\n",
       "    </tr>\n",
       "    <tr>\n",
       "      <td id=\"T_2a0be_row4_col0\" class=\"data row4 col0\" >5</td>\n",
       "      <td id=\"T_2a0be_row4_col1\" class=\"data row4 col1\" ><strong>category</strong><br>[object]</td>\n",
       "      <td id=\"T_2a0be_row4_col2\" class=\"data row4 col2\" >1. gas_transport<br>2. grocery_pos<br>3. home<br>4. shopping_pos<br>5. kids_pets<br>6. shopping_net<br>7. entertainment<br>8. food_dining<br>9. personal_care<br>10. health_fitness<br>11. other</td>\n",
       "      <td id=\"T_2a0be_row4_col3\" class=\"data row4 col3\" >131,659 (10.2%)<br>123,638 (9.5%)<br>123,115 (9.5%)<br>116,672 (9.0%)<br>113,035 (8.7%)<br>97,543 (7.5%)<br>94,014 (7.3%)<br>91,461 (7.1%)<br>90,758 (7.0%)<br>85,879 (6.6%)<br>228,901 (17.7%)</td>\n",
       "      <td id=\"T_2a0be_row4_col4\" class=\"data row4 col4\" ><img src = \"data:image/png;base64, iVBORw0KGgoAAAANSUhEUgAAAG8AAACzCAYAAACHOUI0AAAAOXRFWHRTb2Z0d2FyZQBNYXRwbG90bGliIHZlcnNpb24zLjguMiwgaHR0cHM6Ly9tYXRwbG90bGliLm9yZy8g+/7EAAAACXBIWXMAAAsTAAALEwEAmpwYAAACMUlEQVR4nO3bsU3DYBhFUYwo3VopMhUTeDZPwFQUpHZvNogdpARf6Zw6haUrveL/YNi27Y2m9//+AP5OvDDxwsQLEy9MvDDxwoZpmj7Hcbwc+fG6rj+32+3r2R/FMR/jOF7mef4+8uNlWa7P/iCOM5th4oWJFyZemHhh4oWJFyZemHhh4oV52wwb/AFSl9kMM5thTkJhZjNMvDDxwsQLEy9MvDDxwsQLEy9MvDBvm2FOQmFmM8xshjkJhZnNMPHCxAsTL0y8MPHCxAsTL0y8MPHCvG2GOQmFmc2ww7NpMs/n8EnIOeh8zGaYeGHihYkXJl6YeGHihYkXJl6YeGHeNsOchMLMZpjZDHMSCjObYeKFiRcmXph4YeKFiRcmXph4YeKFedsMcxIKM5thu7NpLs9r9yTkFHReZjNMvDDxwsQLEy9MvDDxwsQLEy9MvDBvm2FOQmFmM8xshjkJhZnNMPHCxAsTL0y8MPHCxAsTL0y8MPHCvG2GOQmFmc0wsxnmJBRmNsPECxMvTLww8cLECxMvTLww8cLECxMvzMN0mHtemNkMM5th7nlhZjNMvDDxwsQLEy9MvDDxwsQLEy9MvDBvm2FOQmFmM+zubJrMc7t7EnIOOjezGSZemHhh4oWJFyZemHhh4oWJFyZemLfNMCehMLMZtntJf5SpfZ3d/xJ6lDPS65jNMPHCxAsTL0y8MPHCxAsTL0y8MPHCvG2GOQmFmc0w8cLECxMvTLww8cJ+AQZkA42OpAcdAAAAAElFTkSuQmCC\"></img></td>\n",
       "      <td id=\"T_2a0be_row4_col5\" class=\"data row4 col5\" >0<br>(0.0%)</td>\n",
       "    </tr>\n",
       "    <tr>\n",
       "      <td id=\"T_2a0be_row5_col0\" class=\"data row5 col0\" >6</td>\n",
       "      <td id=\"T_2a0be_row5_col1\" class=\"data row5 col1\" ><strong>amt</strong><br>[float64]</td>\n",
       "      <td id=\"T_2a0be_row5_col2\" class=\"data row5 col2\" >Mean (sd) : 70.4 (160.3)<br>min < med < max:<br>1.0 < 47.5 < 28948.9<br>IQR (CV) : 73.5 (0.4)</td>\n",
       "      <td id=\"T_2a0be_row5_col3\" class=\"data row5 col3\" >52,928 distinct values</td>\n",
       "      <td id=\"T_2a0be_row5_col4\" class=\"data row5 col4\" ><img src = \"data:image/png;base64, iVBORw0KGgoAAAANSUhEUgAAAHoAAAAyCAYAAACTUs/lAAAAOXRFWHRTb2Z0d2FyZQBNYXRwbG90bGliIHZlcnNpb24zLjguMiwgaHR0cHM6Ly9tYXRwbG90bGliLm9yZy8g+/7EAAAACXBIWXMAAAsTAAALEwEAmpwYAAAAy0lEQVR4nO3UsWnDUBhGUce4fLVcZCpPoNk0gadKEdXqlQkMLmQHfM9pH/x8cOF97ft+4vOd/3sA73F59DBN022McX3myLZtv+u63o+bxdEehh5jXOd5/nnmyLIs38dN4hV83RFCRwgdIXSE0BFCRwgdIXSE0BFCRwgdIXSE0BFCRwgdIXSE0BFCRwgdIXSE0BFCRwgdIXSE0BFCRwgdIXSE0BFCRwgdIXSE0BFCRwgdIXSE0BFCRwgdIXSE0BFCRwgdIXSE0BFCR/wBhBUPoA75qXkAAAAASUVORK5CYII=\"></img></td>\n",
       "      <td id=\"T_2a0be_row5_col5\" class=\"data row5 col5\" >0<br>(0.0%)</td>\n",
       "    </tr>\n",
       "    <tr>\n",
       "      <td id=\"T_2a0be_row6_col0\" class=\"data row6 col0\" >7</td>\n",
       "      <td id=\"T_2a0be_row6_col1\" class=\"data row6 col1\" ><strong>first</strong><br>[object]</td>\n",
       "      <td id=\"T_2a0be_row6_col2\" class=\"data row6 col2\" >1. Christopher<br>2. Robert<br>3. Jessica<br>4. James<br>5. Michael<br>6. David<br>7. Jennifer<br>8. William<br>9. Mary<br>10. John<br>11. other</td>\n",
       "      <td id=\"T_2a0be_row6_col3\" class=\"data row6 col3\" >26,669 (2.1%)<br>21,667 (1.7%)<br>20,581 (1.6%)<br>20,039 (1.5%)<br>20,009 (1.5%)<br>19,965 (1.5%)<br>16,940 (1.3%)<br>16,371 (1.3%)<br>16,346 (1.3%)<br>16,325 (1.3%)<br>1,101,763 (85.0%)</td>\n",
       "      <td id=\"T_2a0be_row6_col4\" class=\"data row6 col4\" ><img src = \"data:image/png;base64, iVBORw0KGgoAAAANSUhEUgAAAG8AAACzCAYAAACHOUI0AAAAOXRFWHRTb2Z0d2FyZQBNYXRwbG90bGliIHZlcnNpb24zLjguMiwgaHR0cHM6Ly9tYXRwbG90bGliLm9yZy8g+/7EAAAACXBIWXMAAAsTAAALEwEAmpwYAAACNklEQVR4nO3dsWnDUBhGUcm4fK1Qkak8gWbzBJnKRVyrd7rUjh0Ql5zTBwQXvuL9Ac+Px2Oi6XT0B/A68cLECxMvTLww8cLEC5uXZbmMMdZ937/u9/vn0R/E805jjHXbttsYYz36Y/gdsxkmXph4YeKFiRcmXph4YeKFiRcmXpi3zbDZPyB1mc0wsxnmJBRmNsPECxMvTLww8cLECxMvTLww8cLEC/O2GeYkFGY2w8xmmJNQmNkMEy9MvDDxwsQLEy9MvDDxwsQLEy/M22aYk1CY2Qwzm2FOQmFmM0y8MPHCxAsTL0y8MPHCxAsTL0y8MG+bYU5CYWYzzGyGOQmFmc0w8cLECxMvTLww8cLECxMvTLww8cK8bYY5CYWZzTCzGeYkFGY2w8QLEy9MvDDxwsQLEy9MvDDxwsQL87YZ5iQUZjbD5mVZLtM0TSaz5+wU1GU2w8QLEy9MvDDxwsQLEy9MvDDxwsQLO+/7/nX0R/AaJ6EwsxnmJBTmJBRmNsPECxMvTLww8cLECxMvTLww8cLECxMvzD0vzD0vzGyGueeFueeFmc0w8cLECxMvTLww8cLECxMvTLww8cKchMKchMLMZpiTUJiTUJjZDBMvTLww8cLECxMvTLww8cLECxMvzEkozEkozGyG/fx+3tEf8h+9+5uF5zHGum3b7S8/iudcr9ePd/7ebIaJFyZemHhh4oWJFyZemHhh4oWJF+Zt80Dvvm06CYWZzTDxwsQLEy9MvDDxwr4BqUzIDGJFx8AAAAAASUVORK5CYII=\"></img></td>\n",
       "      <td id=\"T_2a0be_row6_col5\" class=\"data row6 col5\" >0<br>(0.0%)</td>\n",
       "    </tr>\n",
       "    <tr>\n",
       "      <td id=\"T_2a0be_row7_col0\" class=\"data row7 col0\" >8</td>\n",
       "      <td id=\"T_2a0be_row7_col1\" class=\"data row7 col1\" ><strong>last</strong><br>[object]</td>\n",
       "      <td id=\"T_2a0be_row7_col2\" class=\"data row7 col2\" >1. Smith<br>2. Williams<br>3. Davis<br>4. Johnson<br>5. Rodriguez<br>6. Martinez<br>7. Jones<br>8. Lewis<br>9. Gonzalez<br>10. Miller<br>11. other</td>\n",
       "      <td id=\"T_2a0be_row7_col3\" class=\"data row7 col3\" >28,794 (2.2%)<br>23,605 (1.8%)<br>21,910 (1.7%)<br>20,034 (1.5%)<br>17,394 (1.3%)<br>14,805 (1.1%)<br>13,976 (1.1%)<br>12,753 (1.0%)<br>11,799 (0.9%)<br>11,698 (0.9%)<br>1,119,907 (86.4%)</td>\n",
       "      <td id=\"T_2a0be_row7_col4\" class=\"data row7 col4\" ><img src = \"data:image/png;base64, iVBORw0KGgoAAAANSUhEUgAAAG8AAACzCAYAAACHOUI0AAAAOXRFWHRTb2Z0d2FyZQBNYXRwbG90bGliIHZlcnNpb24zLjguMiwgaHR0cHM6Ly9tYXRwbG90bGliLm9yZy8g+/7EAAAACXBIWXMAAAsTAAALEwEAmpwYAAACNklEQVR4nO3asYkjQRRF0e5BZrmFjIlKEXRsimCjGkOyy9ekoNUuNBfO8QUNF75RT/vr9dpo+jr7A/iceGHihYkXJl6YeGHihe1zztsY47rWejyfzz9nfxDv+xpjXI/j+BljXM/+GP6OsxkmXph4YeKFiRcmXph4YeKFiRcmXpi3zbDdH5C6nM0wZzPMJBTmbIaJFyZemHhh4oWJFyZemHhh4oWJF+ZtM8wkFOZshjmbYSahMGczTLww8cLECxMvTLww8cLECxMvTLwwb5thJqEwZzPM2QwzCYU5m2HihYkXJl6YeGHihYkXJl6YeGHihXnbDDMJhTmbYfuc87Zt2+Zk9lxMQV3OZph4YeKFiRcmXph4YeKFiRcmXph4YZe11uPsj+AzJqEwZzPMJBRmEgpzNsPECxMvTLww8cLECxMvTLww8cLECzMJhZmEwpzNMJNQmEkozNkMEy9MvDDxwsQLEy9MvDDxwsQLEy/MJBRmEgpzNsNMQmEmoTBnM0y8MPHCxAsTL0y8MPHCxAsTL0y8MPHC7Hlh9rwwZzPMnhdmzwtzNsPECxMvTLww8cLECxMvTLww8cLECzMJhZmEwpzNMJNQmEkozNkMEy9MvDDxwsQLEy9MvDDxwsQLEy/MJBRmEgpzNsP2OefNsnCetdbj0znuMsa4Hsfx878/ivfc7/fvT3/rbIaJFyZemHhh4oWJFyZemHhh4oWJF+Zt82T/8rZpEgpzNsPECxMvTLww8cLEC/sFZC6zLAKwOfQAAAAASUVORK5CYII=\"></img></td>\n",
       "      <td id=\"T_2a0be_row7_col5\" class=\"data row7 col5\" >0<br>(0.0%)</td>\n",
       "    </tr>\n",
       "    <tr>\n",
       "      <td id=\"T_2a0be_row8_col0\" class=\"data row8 col0\" >9</td>\n",
       "      <td id=\"T_2a0be_row8_col1\" class=\"data row8 col1\" ><strong>gender</strong><br>[object]</td>\n",
       "      <td id=\"T_2a0be_row8_col2\" class=\"data row8 col2\" >1. F<br>2. M</td>\n",
       "      <td id=\"T_2a0be_row8_col3\" class=\"data row8 col3\" >709,863 (54.7%)<br>586,812 (45.3%)</td>\n",
       "      <td id=\"T_2a0be_row8_col4\" class=\"data row8 col4\" ><img src = \"data:image/png;base64, iVBORw0KGgoAAAANSUhEUgAAAG8AAAAgCAYAAAAcyybZAAAAOXRFWHRTb2Z0d2FyZQBNYXRwbG90bGliIHZlcnNpb24zLjguMiwgaHR0cHM6Ly9tYXRwbG90bGliLm9yZy8g+/7EAAAACXBIWXMAAAsTAAALEwEAmpwYAAAAq0lEQVR4nO3ZsQkDMQxA0TikVGuuyFSZwLN5gkyVIq7dOyscd+HMN/9NIPigQkpjjJuYUs75FRHb7EGu1Hv/ttbes+c46xERWynlM3uQK9Van7Nn+If77AF0nPHAjAdmPDDjgRkPzHhgxgMzHpjxwIwH5mEaLPkS4nJtgi21NldZh3st9c9b5U+3l2sTzHhgxgMzHpjxwIwHZjww44EZD8x4YMYDMx6YXwWwH9FeLqP0R/2xAAAAAElFTkSuQmCC\"></img></td>\n",
       "      <td id=\"T_2a0be_row8_col5\" class=\"data row8 col5\" >0<br>(0.0%)</td>\n",
       "    </tr>\n",
       "    <tr>\n",
       "      <td id=\"T_2a0be_row9_col0\" class=\"data row9 col0\" >10</td>\n",
       "      <td id=\"T_2a0be_row9_col1\" class=\"data row9 col1\" ><strong>street</strong><br>[object]</td>\n",
       "      <td id=\"T_2a0be_row9_col2\" class=\"data row9 col2\" >1. 0069 Robin Brooks Apt. 695<br>2. 864 Reynolds Plains<br>3. 8172 Robertson Parkways Suite <br>4. 4664 Sanchez Common Suite 930<br>5. 8030 Beck Motorway<br>6. 29606 Martinez Views Suite 653<br>7. 1652 James Mews<br>8. 854 Walker Dale Suite 488<br>9. 40624 Rebecca Spurs<br>10. 594 Berry Lights Apt. 392<br>11. other</td>\n",
       "      <td id=\"T_2a0be_row9_col3\" class=\"data row9 col3\" >3,123 (0.2%)<br>3,123 (0.2%)<br>3,119 (0.2%)<br>3,117 (0.2%)<br>3,113 (0.2%)<br>3,112 (0.2%)<br>3,110 (0.2%)<br>3,107 (0.2%)<br>3,106 (0.2%)<br>3,101 (0.2%)<br>1,265,544 (97.6%)</td>\n",
       "      <td id=\"T_2a0be_row9_col4\" class=\"data row9 col4\" ><img src = \"data:image/png;base64, iVBORw0KGgoAAAANSUhEUgAAAG8AAACzCAYAAACHOUI0AAAAOXRFWHRTb2Z0d2FyZQBNYXRwbG90bGliIHZlcnNpb24zLjguMiwgaHR0cHM6Ly9tYXRwbG90bGliLm9yZy8g+/7EAAAACXBIWXMAAAsTAAALEwEAmpwYAAACIUlEQVR4nO3aoW3DUBhG0Wer0DQKKG/n6QSeLRN0n/KAGpu7qDwysa50zgRPutIP/Hk6jmPQNF/9AM4TL0y8MPHCxAsTL0y8sHmaps+rH8E58xjj4+pHcI6zGSZemHhh4oWJFyZemHhh4oWJFyZe2DzG+Ln6EZwz+QGpy9kMMwmFmYTCnM0w8cLECxMvTLww8cLECxMvTLww8cJMQmEmoTBnM8wkFGYSCnM2w8QLEy9MvDDxwsQLEy9MvDDxwsQLMwmFmYTCnM0wk1CYSSjM2QwTL0y8MPHCxAsTL0y8MPHCxAsTL8wkFGYSCnM2w0xCYSahMGczTLww8cLECxMvTLww8cLECxMvTLwwk1CYSSjM2QwzCYWZhMKczTDxwsQLEy9MvDDxwsQLEy9MvDDxwkxCYSahMGczzCQUZhIKczbDxAsTL0y8MPHCxAsTL0y8MPHCxAszCYWZhMKczTCTUJhJKMzZDBMvTLww8cLECxMvTLww8cLECxMvTLwwe16YPS/M2Qyz54XZ88KczTDxwsQLEy9MvDDxwsQLEy9MvDDxwkxCYSahMGczzCQUZhIKczbDxAsTL0y8MPHCxAsTL0y8MPHCxAszCYWZhMKczbDpdrt9Lctyv/ohvG7f999t277flmW5r+v6vPpBvO7xeLyP4WymiRcmXph4YeKFiRcmXph4YeKFiRfm22bQ/7dNk1CYsxkmXph4YeKFiRcmXtgfhqxFEDsGQrkAAAAASUVORK5CYII=\"></img></td>\n",
       "      <td id=\"T_2a0be_row9_col5\" class=\"data row9 col5\" >0<br>(0.0%)</td>\n",
       "    </tr>\n",
       "    <tr>\n",
       "      <td id=\"T_2a0be_row10_col0\" class=\"data row10 col0\" >11</td>\n",
       "      <td id=\"T_2a0be_row10_col1\" class=\"data row10 col1\" ><strong>city</strong><br>[object]</td>\n",
       "      <td id=\"T_2a0be_row10_col2\" class=\"data row10 col2\" >1. Birmingham<br>2. San Antonio<br>3. Utica<br>4. Phoenix<br>5. Meridian<br>6. Thomas<br>7. Conway<br>8. Cleveland<br>9. Warren<br>10. Houston<br>11. other</td>\n",
       "      <td id=\"T_2a0be_row10_col3\" class=\"data row10 col3\" >5,617 (0.4%)<br>5,130 (0.4%)<br>5,105 (0.4%)<br>5,075 (0.4%)<br>5,060 (0.4%)<br>4,634 (0.4%)<br>4,613 (0.4%)<br>4,604 (0.4%)<br>4,599 (0.4%)<br>4,168 (0.3%)<br>1,248,070 (96.3%)</td>\n",
       "      <td id=\"T_2a0be_row10_col4\" class=\"data row10 col4\" ><img src = \"data:image/png;base64, iVBORw0KGgoAAAANSUhEUgAAAG8AAACzCAYAAACHOUI0AAAAOXRFWHRTb2Z0d2FyZQBNYXRwbG90bGliIHZlcnNpb24zLjguMiwgaHR0cHM6Ly9tYXRwbG90bGliLm9yZy8g+/7EAAAACXBIWXMAAAsTAAALEwEAmpwYAAACJ0lEQVR4nO3aIU7EUBhG0dcGWTsZgYf1sIKubVbAfvAjqK4fFAnBQGqam5zj6l5yk1/MN9Pj8Rg0zWc/gOPECxMvTLww8cLECxMvbJ6m6fXsR3DMPMZ4OfsRHONshokXJl6YeGHihYkXJl6YeGHihYkXNo8xPs5+BMdM/oDU5WyGmYTCTEJhzmaYeGHihYkXJl6YeGHihYkXJl6YeGEmoTCTUJizGWYSCjMJhTmbYeKFiRcmXph4YeKFiRcmXph4YeKFmYTCTEJhzmaYSSjMJBTmbIaJFyZemHhh4oWJFyZemHhh4oWJF2YSCjMJhTmbYSahMJNQmLMZJl6YeGHihYkXJl6YeGHihYkXJl6YSSjMJBTmbIaZhMJMQmHOZph4YeKFiRcmXph4YeKFiRcmXph4YSahMJNQmLMZZhIKMwmFOZth4oWJFyZemHhh4oWJFyZemHhh4oWZhMJMQmHOZphJKMwkFOZshokXJl6YeGHihYkXJl6YeGHihYkXJl6YPS/MnhfmbIbZ88LseWHOZph4YeKFiRcmXph4YeKFiRcmXph4YSahMJNQmLMZZhIKMwmFOZth4oWJFyZemHhh4oWJFyZemHhh4oWZhMJMQmHOZth0uVzelmW5nv0Q/rbv++e2be/f30/LslzXdb2f+Sj+53a7Pf/8djbDxAsTL0y8MPHCxAsTL0y8MPHCxAvz22bI7982TUJhzmaYeGHihYkXJl6YeGFfCctFEIzrtVcAAAAASUVORK5CYII=\"></img></td>\n",
       "      <td id=\"T_2a0be_row10_col5\" class=\"data row10 col5\" >0<br>(0.0%)</td>\n",
       "    </tr>\n",
       "    <tr>\n",
       "      <td id=\"T_2a0be_row11_col0\" class=\"data row11 col0\" >12</td>\n",
       "      <td id=\"T_2a0be_row11_col1\" class=\"data row11 col1\" ><strong>state</strong><br>[object]</td>\n",
       "      <td id=\"T_2a0be_row11_col2\" class=\"data row11 col2\" >1. TX<br>2. NY<br>3. PA<br>4. CA<br>5. OH<br>6. MI<br>7. IL<br>8. FL<br>9. AL<br>10. MO<br>11. other</td>\n",
       "      <td id=\"T_2a0be_row11_col3\" class=\"data row11 col3\" >94,876 (7.3%)<br>83,501 (6.4%)<br>79,847 (6.2%)<br>56,360 (4.3%)<br>46,480 (3.6%)<br>46,154 (3.6%)<br>43,252 (3.3%)<br>42,671 (3.3%)<br>40,989 (3.2%)<br>38,403 (3.0%)<br>724,142 (55.8%)</td>\n",
       "      <td id=\"T_2a0be_row11_col4\" class=\"data row11 col4\" ><img src = \"data:image/png;base64, iVBORw0KGgoAAAANSUhEUgAAAG8AAACzCAYAAACHOUI0AAAAOXRFWHRTb2Z0d2FyZQBNYXRwbG90bGliIHZlcnNpb24zLjguMiwgaHR0cHM6Ly9tYXRwbG90bGliLm9yZy8g+/7EAAAACXBIWXMAAAsTAAALEwEAmpwYAAACNklEQVR4nO3bMU4CURhGUTGWryUUrMoVzNpmBa7KQurpsSYDhFggF86pKUhu8pm8HzfH4/GNpvf//gL8nXhh4oWJFyZemHhh4oVtttvt5xhjd+kDy7L8HA6Hr3t+KW7zMcbYTdP0fekD8zzv7/mFuJ3ZDBMvTLww8cLECxMvTLww8cLECxMvzNtm2MYPkLrMZtjV2TSZj+3qScg56LGZzTDxwsQLEy9MvDDxwsQLEy9MvDDxwrxthjkJhZnNMLMZ5iQUZjbDxAsTL0y8MPHCxAsTL0y8MPHCxAvzthnmJBRmNsPOzqa5bDh7EnIKajCbYeKFiRcmXph4YeKFiRcmXph4YeKFedsMcxIKM5thq9k0mR2rk5BzUIfZDBMvTLww8cLECxMvTLww8cLECxMvzNtmmJNQmNkMM5thTkJhZjNMvDDxwsQLEy9MvDDxwsQLEy9MvDBvm2FOQmFmM8xshjkJhZnNMPHCxAsTL0y8MPHCxAsTL0y8MPHCvG2GOQmFmc0wsxnmJBRmNsPECxMvTLww8cLECxMvTLww8cLECxMvzMN0mHtemNkMM5th7nlhZjNMvDDxwsQLEy9MvDDxwsQLEy9MvDBvm2FOQmFmM+xkNk1my8lJyDmoxWyGiRcmXph4YeKFiRcmXph4YeKFiRfmbTPMSSjMbIatLumv4hn+RKz+S+hVPMP5y2yGiRcmXph4YeKFiRcmXph4YeKFiRfmbTPMSSjMbIaJFyZemHhh4oWJF/YLBmQDjRodMBEAAAAASUVORK5CYII=\"></img></td>\n",
       "      <td id=\"T_2a0be_row11_col5\" class=\"data row11 col5\" >0<br>(0.0%)</td>\n",
       "    </tr>\n",
       "    <tr>\n",
       "      <td id=\"T_2a0be_row12_col0\" class=\"data row12 col0\" >13</td>\n",
       "      <td id=\"T_2a0be_row12_col1\" class=\"data row12 col1\" ><strong>zip</strong><br>[int64]</td>\n",
       "      <td id=\"T_2a0be_row12_col2\" class=\"data row12 col2\" >Mean (sd) : 48800.7 (26893.2)<br>min < med < max:<br>1257.0 < 48174.0 < 99783.0<br>IQR (CV) : 45805.0 (1.8)</td>\n",
       "      <td id=\"T_2a0be_row12_col3\" class=\"data row12 col3\" >970 distinct values</td>\n",
       "      <td id=\"T_2a0be_row12_col4\" class=\"data row12 col4\" ><img src = \"data:image/png;base64, iVBORw0KGgoAAAANSUhEUgAAAHoAAAAyCAYAAACTUs/lAAAAOXRFWHRTb2Z0d2FyZQBNYXRwbG90bGliIHZlcnNpb24zLjguMiwgaHR0cHM6Ly9tYXRwbG90bGliLm9yZy8g+/7EAAAACXBIWXMAAAsTAAALEwEAmpwYAAABW0lEQVR4nO3aMW6DMBiGYVpVgsFdydDNF0gv0BNk6gm89kxsnCBbbtShzCxISHSoqmSxZCtgHH/vM3uw9DrxH8jTsiwVyve89waQxsveGyhJ27afxphD6PpxHH+GYThvuad/hF6RMebgnPsOXd/3/duW+7m1SuiYk5zyFONqldAxJznlKcYVw5gIQovIehjj7l9P1qFj7v6u607WWg6FR9ahY9R1/cpA6Jc89DRN79bar5C18zwfq6oK/l0Kv+ShIz95H1vvRwVTt4hi7uitxEz+OV81kqFj5oSmaY7OuUvI2pyvGsnQinMCd7QIQosgtAhCiyC0CMmp+xHd+yaP0A/i3n/xeEOX8kQIf7yhI09QEQ8VSsYwJoI7ekcp380Tekcpn7nz1S2C0CIILYLQIggtgtAiCC2C0CIILYLQIggtgtAiCC2C0CIILYLQIggtgtAiCC2C0CIILeIXQmFzN1XDdh0AAAAASUVORK5CYII=\"></img></td>\n",
       "      <td id=\"T_2a0be_row12_col5\" class=\"data row12 col5\" >0<br>(0.0%)</td>\n",
       "    </tr>\n",
       "    <tr>\n",
       "      <td id=\"T_2a0be_row13_col0\" class=\"data row13 col0\" >14</td>\n",
       "      <td id=\"T_2a0be_row13_col1\" class=\"data row13 col1\" ><strong>lat</strong><br>[float64]</td>\n",
       "      <td id=\"T_2a0be_row13_col2\" class=\"data row13 col2\" >Mean (sd) : 38.5 (5.1)<br>min < med < max:<br>20.0 < 39.4 < 66.7<br>IQR (CV) : 7.3 (7.6)</td>\n",
       "      <td id=\"T_2a0be_row13_col3\" class=\"data row13 col3\" >968 distinct values</td>\n",
       "      <td id=\"T_2a0be_row13_col4\" class=\"data row13 col4\" ><img src = \"data:image/png;base64, iVBORw0KGgoAAAANSUhEUgAAAHoAAAAyCAYAAACTUs/lAAAAOXRFWHRTb2Z0d2FyZQBNYXRwbG90bGliIHZlcnNpb24zLjguMiwgaHR0cHM6Ly9tYXRwbG90bGliLm9yZy8g+/7EAAAACXBIWXMAAAsTAAALEwEAmpwYAAABHklEQVR4nO3bvQ2CQBxAcTQmNGcLhR0L6AIO4QS0rsUETmUhNQ0JCY4gJHyc996vvuKSl1yA/3EYxzFT+o57b0DbOO29gaUURfEIIZRT1nZd92nb9rX2nmKSTOgQQlnX9XvK2qZpLmvvJzYe3RCGhjA0hKEhDA1haAhDQxgawtAQhoYwNIShIQwNYWgIQ0MYGsLQEIaGMDRE1HfG5lz4G4bhmmXZpDtjRFGHnnnh7772fv6ZRzeEoSEMDWFoCENDbP7U7SvTPjYP7SvTPjy6IQwNEfWXsbX0fX+rquo5ZW0q/1IjQ+d5fqb9S+3RDWFoCENDGBrC0BCGhjA0hKEhDA1haIhFPoE6Y47fIqGdMccPOdSYI5VJl6F/SGXS9QW5QUnHExII9wAAAABJRU5ErkJggg==\"></img></td>\n",
       "      <td id=\"T_2a0be_row13_col5\" class=\"data row13 col5\" >0<br>(0.0%)</td>\n",
       "    </tr>\n",
       "    <tr>\n",
       "      <td id=\"T_2a0be_row14_col0\" class=\"data row14 col0\" >15</td>\n",
       "      <td id=\"T_2a0be_row14_col1\" class=\"data row14 col1\" ><strong>long</strong><br>[float64]</td>\n",
       "      <td id=\"T_2a0be_row14_col2\" class=\"data row14 col2\" >Mean (sd) : -90.2 (13.8)<br>min < med < max:<br>-165.7 < -87.5 < -68.0<br>IQR (CV) : 16.6 (-6.6)</td>\n",
       "      <td id=\"T_2a0be_row14_col3\" class=\"data row14 col3\" >969 distinct values</td>\n",
       "      <td id=\"T_2a0be_row14_col4\" class=\"data row14 col4\" ><img src = \"data:image/png;base64, iVBORw0KGgoAAAANSUhEUgAAAHoAAAAyCAYAAACTUs/lAAAAOXRFWHRTb2Z0d2FyZQBNYXRwbG90bGliIHZlcnNpb24zLjguMiwgaHR0cHM6Ly9tYXRwbG90bGliLm9yZy8g+/7EAAAACXBIWXMAAAsTAAALEwEAmpwYAAABPElEQVR4nO3cMU6EQBhA4V+zCc3YsoUdF9ALeAhPQOu15gSeagupaUhIsLUwWUZWWHjvq0mY5CVDmP2Xh2maQsf3uPUCtI7T1gsgq+v6PaV0nnNt3/dfXdd9/vVeht5QSunctu1lzrU55+cl93LrhjA0hKEhDA1haAhDQxgawtAQHpjcUMlJV0TEOI4vETHrwGQpQ99QyUlXRETO+e0/1/OTWzeEoSEMDWFoCENDGBrC0BCGhjA0hKEhDA1haAh/1NiJYRhem6b5mHPtbzPght6JqqqelsyAu3VDGBrC0BCGhjA0hKEhfL26omSyc82pzlKGvqLwP8yrTXWWcuuGMDSEoSEO84xe88Mve3SY0Gt++GWP3LohDA1haIjDPKNLlExr3PNpVwlk6MJpjbs97Srh1g1haAhDQxga4hs4h0nHq6qL6wAAAABJRU5ErkJggg==\"></img></td>\n",
       "      <td id=\"T_2a0be_row14_col5\" class=\"data row14 col5\" >0<br>(0.0%)</td>\n",
       "    </tr>\n",
       "    <tr>\n",
       "      <td id=\"T_2a0be_row15_col0\" class=\"data row15 col0\" >16</td>\n",
       "      <td id=\"T_2a0be_row15_col1\" class=\"data row15 col1\" ><strong>city_pop</strong><br>[int64]</td>\n",
       "      <td id=\"T_2a0be_row15_col2\" class=\"data row15 col2\" >Mean (sd) : 88824.4 (301956.4)<br>min < med < max:<br>23.0 < 2456.0 < 2906700.0<br>IQR (CV) : 19585.0 (0.3)</td>\n",
       "      <td id=\"T_2a0be_row15_col3\" class=\"data row15 col3\" >879 distinct values</td>\n",
       "      <td id=\"T_2a0be_row15_col4\" class=\"data row15 col4\" ><img src = \"data:image/png;base64, iVBORw0KGgoAAAANSUhEUgAAAHoAAAAyCAYAAACTUs/lAAAAOXRFWHRTb2Z0d2FyZQBNYXRwbG90bGliIHZlcnNpb24zLjguMiwgaHR0cHM6Ly9tYXRwbG90bGliLm9yZy8g+/7EAAAACXBIWXMAAAsTAAALEwEAmpwYAAAA7ElEQVR4nO3csQ3CMBBAUUCUVzsFDfIErMIEaVkrE7ASDQWp3bgyEwQZKYDE/6+1ZZ30JZe3ba1t9P92vx5A37FfOkgpnSNi6HmklPKY5/m63lha22LoiBjGcbz3PDJN02G9kfQJft0QhoYwNIShIQwNYWgIQ0MYGsLQEIaGMDSEoSEMDWFoCENDGBrC0BCGhjA0hKEhDA1haAhDQxgawtAQhoYwNIShIQwNYWgIQ0MYGsLQEIaGMDSEoSEMDWFoCENDGBrC0BCGhjA0hKEhDA2xuN33HbXWU8750nO3lHKMiFvn3e710K6dfu0JpwcmvdPoaToAAAAASUVORK5CYII=\"></img></td>\n",
       "      <td id=\"T_2a0be_row15_col5\" class=\"data row15 col5\" >0<br>(0.0%)</td>\n",
       "    </tr>\n",
       "    <tr>\n",
       "      <td id=\"T_2a0be_row16_col0\" class=\"data row16 col0\" >17</td>\n",
       "      <td id=\"T_2a0be_row16_col1\" class=\"data row16 col1\" ><strong>job</strong><br>[object]</td>\n",
       "      <td id=\"T_2a0be_row16_col2\" class=\"data row16 col2\" >1. Film/video editor<br>2. Exhibition designer<br>3. Naval architect<br>4. Surveyor, land/geomatics<br>5. Materials engineer<br>6. Designer, ceramics/pottery<br>7. Systems developer<br>8. IT trainer<br>9. Financial adviser<br>10. Environmental consultant<br>11. other</td>\n",
       "      <td id=\"T_2a0be_row16_col3\" class=\"data row16 col3\" >9,779 (0.8%)<br>9,199 (0.7%)<br>8,684 (0.7%)<br>8,680 (0.7%)<br>8,270 (0.6%)<br>8,225 (0.6%)<br>7,700 (0.6%)<br>7,679 (0.6%)<br>7,659 (0.6%)<br>7,547 (0.6%)<br>1,213,253 (93.6%)</td>\n",
       "      <td id=\"T_2a0be_row16_col4\" class=\"data row16 col4\" ><img src = \"data:image/png;base64, iVBORw0KGgoAAAANSUhEUgAAAG8AAACzCAYAAACHOUI0AAAAOXRFWHRTb2Z0d2FyZQBNYXRwbG90bGliIHZlcnNpb24zLjguMiwgaHR0cHM6Ly9tYXRwbG90bGliLm9yZy8g+/7EAAAACXBIWXMAAAsTAAALEwEAmpwYAAACJUlEQVR4nO3asW3CUBhGUTty6faJgqmYgNmYIFOlgNq9MwFRQhFzpXNamidd6S/8Me/7PtH0cfQDeJ14YeKFiRcmXph4YeKFzWOMyzRN0+Px+Dz6MfzNsq7r6ehH8BpnM0y8MPHCxAsTL0y8MPHCxAsTL0y8sGXbtvvRj+A1sz8gdTmbYSahMJNQmLMZJl6YeGHihYkXJl6YeGHihYkXJl6YSSjMJBTmbIaZhMJMQmHOZph4YeKFiRcmXph4YeKFiRcmXph4YSahMJNQmLMZZhIKMwmFOZth4oWJFyZemHhh4oWJFyZemHhh4oWZhMJMQmHOZphJKMwkFOZshokXJl6YeGHihYkXJl6YeGHihYkXZhIKMwmFOZthJqEwk1CYsxkmXph4YeKFiRcmXph4YeKFiRcmXphJKMwkFOZshpmEwkxCYc5mmHhh4oWJFyZemHhh4oWJFyZemHhhJqEwk1CYsxlmEgozCYU5m2HihYkXJl6YeGHihYkXJl6YeGHihYkXZs8Ls+eFOZth9rwwe16YsxkmXph4YeKFiRcmXph4YeKFiRcmXphJKMwkFOZshpmEwkxCYc5mmHhh4oWJFyZemHhh4oWJFyZemHhhJqEwk1CYsxk2jzEuloX3tW3b/dlct6zrerper1///Sh+53a7nZ/95myGiRcmXph4YeKFiRcmXph4YeKFiRfm2+ab++nbpkkozNkMEy9MvDDxwsQLEy/sG8V3iWynw7pIAAAAAElFTkSuQmCC\"></img></td>\n",
       "      <td id=\"T_2a0be_row16_col5\" class=\"data row16 col5\" >0<br>(0.0%)</td>\n",
       "    </tr>\n",
       "    <tr>\n",
       "      <td id=\"T_2a0be_row17_col0\" class=\"data row17 col0\" >18</td>\n",
       "      <td id=\"T_2a0be_row17_col1\" class=\"data row17 col1\" ><strong>dob</strong><br>[object]</td>\n",
       "      <td id=\"T_2a0be_row17_col2\" class=\"data row17 col2\" >1. 1977-03-23<br>2. 1981-08-29<br>3. 1988-09-15<br>4. 1955-05-06<br>5. 1995-07-12<br>6. 1983-07-25<br>7. 1987-10-28<br>8. 1984-06-03<br>9. 1999-03-05<br>10. 1998-03-19<br>11. other</td>\n",
       "      <td id=\"T_2a0be_row17_col3\" class=\"data row17 col3\" >5,636 (0.4%)<br>4,636 (0.4%)<br>4,623 (0.4%)<br>3,661 (0.3%)<br>3,123 (0.2%)<br>3,123 (0.2%)<br>3,119 (0.2%)<br>3,117 (0.2%)<br>3,113 (0.2%)<br>3,112 (0.2%)<br>1,259,412 (97.1%)</td>\n",
       "      <td id=\"T_2a0be_row17_col4\" class=\"data row17 col4\" ><img src = \"data:image/png;base64, iVBORw0KGgoAAAANSUhEUgAAAG8AAACzCAYAAACHOUI0AAAAOXRFWHRTb2Z0d2FyZQBNYXRwbG90bGliIHZlcnNpb24zLjguMiwgaHR0cHM6Ly9tYXRwbG90bGliLm9yZy8g+/7EAAAACXBIWXMAAAsTAAALEwEAmpwYAAACJ0lEQVR4nO3aIW7DQBRF0bFVODQKKG/X0xV4bVlB91NeUOPwFFUqjEysK52DAke60gd+WR6Px6BpPfsBHCdemHhh4oWJFyZemHhh67Is72c/gmPWMcbb2Y/gGGczTLww8cLECxMvTLww8cLECxMvTLywdYzxdfYjOGbxB6QuZzPMJBRmEgpzNsPECxMvTLww8cLECxMvTLww8cLECzMJhZmEwpzNMJNQmEkozNkMEy9MvDDxwsQLEy9MvDDxwsQLEy/MJBRmEgpzNsNMQmEmoTBnM0y8MPHCxAsTL0y8MPHCxAsTL0y8MJNQmEkozNkMMwmFmYTCnM0w8cLECxMvTLww8cLECxMvTLww8cJMQmEmoTBnM8wkFGYSCnM2w8QLEy9MvDDxwsQLEy9MvDDxwsQLMwmFmYTCnM0wk1CYSSjM2QwTL0y8MPHCxAsTL0y8MPHCxAsTL8wkFGYSCnM2w0xCYSahMGczTLww8cLECxMvTLww8cLECxMvTLww8cLseWH2vDBnM8yeF2bPC3M2w8QLEy9MvDDxwsQLEy9MvDDxwsQLMwmFmYTCnM0wk1CYSSjM2QwTL0y8MPHCxAsTL0y8MPHCxAsTL8wkFGYSCnM2w5bL5fIx57ye/RCec7/ff/Z9/xxjjJc553Xbtu+zH8Vzbrfb699vZzNMvDDxwsQLEy9MvDDxwsQLEy9MvDDfNmP+f9s0CYU5m2HihYkXJl6YeGHihf0CyDRFEH/9h5IAAAAASUVORK5CYII=\"></img></td>\n",
       "      <td id=\"T_2a0be_row17_col5\" class=\"data row17 col5\" >0<br>(0.0%)</td>\n",
       "    </tr>\n",
       "    <tr>\n",
       "      <td id=\"T_2a0be_row18_col0\" class=\"data row18 col0\" >19</td>\n",
       "      <td id=\"T_2a0be_row18_col1\" class=\"data row18 col1\" ><strong>trans_num</strong><br>[object]</td>\n",
       "      <td id=\"T_2a0be_row18_col2\" class=\"data row18 col2\" >1. 0b242abb623afc578575680df30655<br>2. c85864e7e7cf0be6d1b8597977b8af<br>3. 1a8a2a05638a5503cc6bb8d5735efc<br>4. 4556eaf1f7def06eb500325cde4d05<br>5. 5e915d9f88bd09cee9655a470d9bc0<br>6. 4e0080ea32b67dc251ea824d55ba1f<br>7. 541a9a3880dae40c9e7778117adbc8<br>8. 2c602fbe0404b65cc431b059ed1675<br>9. 6f9d22d80c0c48e238ecc484d1c64a<br>10. c766663cba6e1a1df3623e4f9d6472<br>11. other</td>\n",
       "      <td id=\"T_2a0be_row18_col3\" class=\"data row18 col3\" >1 (0.0%)<br>1 (0.0%)<br>1 (0.0%)<br>1 (0.0%)<br>1 (0.0%)<br>1 (0.0%)<br>1 (0.0%)<br>1 (0.0%)<br>1 (0.0%)<br>1 (0.0%)<br>1,296,665 (100.0%)</td>\n",
       "      <td id=\"T_2a0be_row18_col4\" class=\"data row18 col4\" ><img src = \"data:image/png;base64, iVBORw0KGgoAAAANSUhEUgAAAG8AAACzCAYAAACHOUI0AAAAOXRFWHRTb2Z0d2FyZQBNYXRwbG90bGliIHZlcnNpb24zLjguMiwgaHR0cHM6Ly9tYXRwbG90bGliLm9yZy8g+/7EAAAACXBIWXMAAAsTAAALEwEAmpwYAAACCklEQVR4nO3asW3EMBQFQVJwyFS4Ds71uAL17dx1yDWcEmKBmQoILPADPc37vgdNx+4H8Jx4YeKFiRcmXph4YeKFHXPO792P4JljjPHe/QiecTbDxAsTL0y8MPHCxAsTL0y8MPHCxAs7xhi/ux/BM9MPSF3OZphJKMwkFOZshokXJl6YeGHihYkXJl6YeGHihYkXZhIKMwmFOZthJqEwk1CYsxkmXph4YeKFiRcmXph4YeKFiRcmXphJKMwkFOZshpmEwkxCYc5mmHhh4oWJFyZemHhh4oWJFyZemHhhJqEwk1CYsxlmEgozCYU5m2HihYkXJl6YeGHihYkXJl6YeGHihZmEwkxCYc5mmEkozCQU5myGiRcmXph4YeKFiRcmXph4YeKFiRdmEgozCYU5m2EmoTCTUJizGSZemHhh4oWJFyZemHhh4oWJFyZemEkozCQU5myGmYTCTEJhzmaYeGHihYkXJl6YeGHihYkXJl6YeGHihdnzwux5Yc5mmD0vzJ4X5myGiRcmXph4YeKFiRcmXph4YeKFiRdmEgozCYU5m2EmoTCTUJizGSZemHhh4oWJFyZemHhh4oWJFyZemEkozCQU5myGzfM8f9Zar90P4XNfa63XdV1/ux/C55zNMPHCxAsTL0y8MPHCxAsTL0y8MPHCfNsMMwmFOZth4oWJFyZemHhh4oX9A5gQNK7t5DBkAAAAAElFTkSuQmCC\"></img></td>\n",
       "      <td id=\"T_2a0be_row18_col5\" class=\"data row18 col5\" >0<br>(0.0%)</td>\n",
       "    </tr>\n",
       "    <tr>\n",
       "      <td id=\"T_2a0be_row19_col0\" class=\"data row19 col0\" >20</td>\n",
       "      <td id=\"T_2a0be_row19_col1\" class=\"data row19 col1\" ><strong>unix_time</strong><br>[int64]</td>\n",
       "      <td id=\"T_2a0be_row19_col2\" class=\"data row19 col2\" >Mean (sd) : 1349243636.7 (12841278.4)<br>min < med < max:<br>1325376018.0 < 1349249747.0 < 1371816817.0<br>IQR (CV) : 20634633.0 (105.1)</td>\n",
       "      <td id=\"T_2a0be_row19_col3\" class=\"data row19 col3\" >1,274,823 distinct values</td>\n",
       "      <td id=\"T_2a0be_row19_col4\" class=\"data row19 col4\" ><img src = \"data:image/png;base64, iVBORw0KGgoAAAANSUhEUgAAAHoAAAAyCAYAAACTUs/lAAAAOXRFWHRTb2Z0d2FyZQBNYXRwbG90bGliIHZlcnNpb24zLjguMiwgaHR0cHM6Ly9tYXRwbG90bGliLm9yZy8g+/7EAAAACXBIWXMAAAsTAAALEwEAmpwYAAABRUlEQVR4nO3YMU6EQBhA4dGY0GDLFnZcQC/gITwBrdfiBJ7KQmoaEhI8wSqzC8Mw7301xZ+8MPDPw7IsQeV7PHoApfF09AC5a5rmo67ry5pnx3H8GYbha++ZbmHof9R1fem67nvNs33fv+w9z608uiEMDWFoCENDGBrC0BCGhjA0RNYXJqXcSuUg69Cl3ErlIOvQMaZpemvb9nPNs8S3v5jQVVU9l/z23/sZSx46ZuB5nl9DCKvile7ez1jy0JEDv+89D0UxR/cZpTzdNgl9tuM45sdtz3lTnm6bhD7bcRz543b4vFvwZgzC0BCGhjA0hKEh3KM3FLO2hZB21bwa+my7cQ5i1rYQ0q5uV0OfbTfW3/xGQxgawtAQhoYwNIShIQwNYWgIQ0MYGsLQEIaGMDSEoSEMDWFoCENDGBrC0BCGhjA0xC+9SXShZXxiHAAAAABJRU5ErkJggg==\"></img></td>\n",
       "      <td id=\"T_2a0be_row19_col5\" class=\"data row19 col5\" >0<br>(0.0%)</td>\n",
       "    </tr>\n",
       "    <tr>\n",
       "      <td id=\"T_2a0be_row20_col0\" class=\"data row20 col0\" >21</td>\n",
       "      <td id=\"T_2a0be_row20_col1\" class=\"data row20 col1\" ><strong>merch_lat</strong><br>[float64]</td>\n",
       "      <td id=\"T_2a0be_row20_col2\" class=\"data row20 col2\" >Mean (sd) : 38.5 (5.1)<br>min < med < max:<br>19.0 < 39.4 < 67.5<br>IQR (CV) : 7.2 (7.5)</td>\n",
       "      <td id=\"T_2a0be_row20_col3\" class=\"data row20 col3\" >1,247,805 distinct values</td>\n",
       "      <td id=\"T_2a0be_row20_col4\" class=\"data row20 col4\" ><img src = \"data:image/png;base64, iVBORw0KGgoAAAANSUhEUgAAAHoAAAAyCAYAAACTUs/lAAAAOXRFWHRTb2Z0d2FyZQBNYXRwbG90bGliIHZlcnNpb24zLjguMiwgaHR0cHM6Ly9tYXRwbG90bGliLm9yZy8g+/7EAAAACXBIWXMAAAsTAAALEwEAmpwYAAABH0lEQVR4nO3bvQ2CQBxAcTQmNGeLhR0L6AIO4QS0rsUETmUhNQ0JCW6gkPBx3nu/+opLXgLJ/e92wzBkSt9+6w1oHYetNzCXoijuIYTTmLVt276bpnkuvaeYJBM6hHCqquo1Zm1d1+el9xMbP90QhoYwNIShIQwNYWgIQ0MYGsLQEIaGMDSEoSEMDWFoCENDGBrC0BCGhoj6KtGUe2B931+yLBt1lYgo6tAT74Hdlt7PP/PTDWFoCENDGBrC0BCGhjA0hKEhVj8w8bRrG6uHjuG0q+u6a1mWjzFrU3liG/UR6FLyPD/Sntj6j4YwNIShIQwNYWgIQ0MYGsLQEIaGMDSEoSFmOet2IhW/WULHMJHSd8jp1RSpjDQN/UMqI80PAh1JxSkLXU8AAAAASUVORK5CYII=\"></img></td>\n",
       "      <td id=\"T_2a0be_row20_col5\" class=\"data row20 col5\" >0<br>(0.0%)</td>\n",
       "    </tr>\n",
       "    <tr>\n",
       "      <td id=\"T_2a0be_row21_col0\" class=\"data row21 col0\" >22</td>\n",
       "      <td id=\"T_2a0be_row21_col1\" class=\"data row21 col1\" ><strong>merch_long</strong><br>[float64]</td>\n",
       "      <td id=\"T_2a0be_row21_col2\" class=\"data row21 col2\" >Mean (sd) : -90.2 (13.8)<br>min < med < max:<br>-166.7 < -87.4 < -67.0<br>IQR (CV) : 16.7 (-6.6)</td>\n",
       "      <td id=\"T_2a0be_row21_col3\" class=\"data row21 col3\" >1,275,745 distinct values</td>\n",
       "      <td id=\"T_2a0be_row21_col4\" class=\"data row21 col4\" ><img src = \"data:image/png;base64, iVBORw0KGgoAAAANSUhEUgAAAHoAAAAyCAYAAACTUs/lAAAAOXRFWHRTb2Z0d2FyZQBNYXRwbG90bGliIHZlcnNpb24zLjguMiwgaHR0cHM6Ly9tYXRwbG90bGliLm9yZy8g+/7EAAAACXBIWXMAAAsTAAALEwEAmpwYAAABPElEQVR4nO3cMWqEQBhA4T9hwWbSukU6L5BcIIfICWxzrTlBTrVFrG0EwbQpAuvEja6+99WCAw8HZkZ9mKYpdHyPWw9A6zhtPQCyuq7fU0rnOdf2ff/Vdd3nX+9l6A2llM5t217mXJtzfl5yL6duCENDGBrC0BCGhjA0hKEhXEffUMkGSETEOI4vETFrHb2UoW+oZAMkIiLn/Paf4/nJqRvC0BCGhjA0hKEhDA1haAhDQxgawtAQhoYwNIShIQwNYWgIz6N3YhiG16ZpPuZc+9tXHYbeiaqqnpZ81eHUDeETfUXJe2BrvgNWytBXFH4It9o7YKWcuiEMDWFoCENDGBrC0BCGhjjMOnrNP/zs0WFCr/mHnz1y6oY4zBNdouTI7573r0sgQxce+d3t/nUJp24IQ0MYGsLQEIaG+AZPr0nHzR0ZhgAAAABJRU5ErkJggg==\"></img></td>\n",
       "      <td id=\"T_2a0be_row21_col5\" class=\"data row21 col5\" >0<br>(0.0%)</td>\n",
       "    </tr>\n",
       "    <tr>\n",
       "      <td id=\"T_2a0be_row22_col0\" class=\"data row22 col0\" >23</td>\n",
       "      <td id=\"T_2a0be_row22_col1\" class=\"data row22 col1\" ><strong>is_fraud</strong><br>[int64]</td>\n",
       "      <td id=\"T_2a0be_row22_col2\" class=\"data row22 col2\" >1. 0<br>2. 1</td>\n",
       "      <td id=\"T_2a0be_row22_col3\" class=\"data row22 col3\" >1,289,169 (99.4%)<br>7,506 (0.6%)</td>\n",
       "      <td id=\"T_2a0be_row22_col4\" class=\"data row22 col4\" ><img src = \"data:image/png;base64, iVBORw0KGgoAAAANSUhEUgAAAG8AAAAgCAYAAAAcyybZAAAAOXRFWHRTb2Z0d2FyZQBNYXRwbG90bGliIHZlcnNpb24zLjguMiwgaHR0cHM6Ly9tYXRwbG90bGliLm9yZy8g+/7EAAAACXBIWXMAAAsTAAALEwEAmpwYAAAAnElEQVR4nO3ZsQkEIRQGYT0MX/rYurYCS7yqLjhjc7cGN5GB+Sr4YUBB61qriKlm5h0R1+kh2tci4uq9/04P0b7P6QF6z3hgxgMzHpjxwIwHZjww44EZD8x4YMYD82EarPolxOWxCVYz8y6llDHG9/QY7Wned1wem2DGAzMemPHAjAdmPDDjgRkPzHhgxgMzHpjxwNqc8396hN55AP3wEgzIzT6UAAAAAElFTkSuQmCC\"></img></td>\n",
       "      <td id=\"T_2a0be_row22_col5\" class=\"data row22 col5\" >0<br>(0.0%)</td>\n",
       "    </tr>\n",
       "  </tbody>\n",
       "</table>\n"
      ],
      "text/plain": [
       "<pandas.io.formats.style.Styler at 0x1360fc3d0>"
      ]
     },
     "execution_count": 7,
     "metadata": {},
     "output_type": "execute_result"
    }
   ],
   "source": [
    "# a general overview of the dataset\n",
    "dfSummary(df)"
   ]
  },
  {
   "cell_type": "code",
   "execution_count": 8,
   "metadata": {},
   "outputs": [],
   "source": [
    "# %%capture\n",
    "# df.columns, df.describe(), df.info(), df.isna().sum(), df.duplicated().sum(), df.nunique()"
   ]
  },
  {
   "cell_type": "markdown",
   "metadata": {},
   "source": [
    "## Univariate Analysis"
   ]
  },
  {
   "cell_type": "markdown",
   "metadata": {},
   "source": [
    "### Daily Transactions"
   ]
  },
  {
   "cell_type": "code",
   "execution_count": 9,
   "metadata": {},
   "outputs": [],
   "source": [
    "# Convert the 'trans_date_trans_time' column to datetime if not already done\n",
    "df['trans_date_trans_time'] = pd.to_datetime(df['trans_date_trans_time'])\n",
    "# Extract the date part from the 'trans_date_trans_time' column\n",
    "df['trans_date'] = df['trans_date_trans_time'].dt.date\n",
    "\n",
    "# Compute the number of transactions per day\n",
    "transactions_per_day = df.groupby('trans_date').size().reset_index(name='num_transactions')\n",
    "\n",
    "# Compute the number of fraudulent transactions per day\n",
    "fraud_transactions_per_day = df[df['is_fraud'] == 1].groupby('trans_date').size().reset_index(name='num_fraud_transactions')\n",
    "\n",
    "# Compute the number of fraudulent cards per day\n",
    "fraud_cards_per_day = df[df['is_fraud'] == 1].groupby('trans_date')['cc_num'].nunique().reset_index(name='num_fraud_cards')\n",
    "\n",
    "# Merge the dataframes to get a consolidated view\n",
    "daily_fraud_stats = transactions_per_day.merge(fraud_transactions_per_day, on='trans_date', how='left').merge(fraud_cards_per_day, on='trans_date', how='left')\n",
    "\n",
    "# Fill NaN values with 0\n",
    "daily_fraud_stats.fillna(0, inplace=True)"
   ]
  },
  {
   "cell_type": "code",
   "execution_count": 10,
   "metadata": {},
   "outputs": [
    {
     "data": {
      "application/vnd.plotly.v1+json": {
       "config": {
        "plotlyServerURL": "https://plot.ly"
       },
       "data": [
        {
         "hovertemplate": "Metric=num_transactions<br>trans_date=%{x}<br>Count=%{y}<extra></extra>",
         "legendgroup": "num_transactions",
         "line": {
          "color": "#636efa",
          "dash": "solid"
         },
         "marker": {
          "symbol": "circle"
         },
         "mode": "lines",
         "name": "num_transactions",
         "showlegend": true,
         "type": "scattergl",
         "x": [
          "2019-01-01",
          "2019-01-02",
          "2019-01-03",
          "2019-01-04",
          "2019-01-05",
          "2019-01-06",
          "2019-01-07",
          "2019-01-08",
          "2019-01-09",
          "2019-01-10",
          "2019-01-11",
          "2019-01-12",
          "2019-01-13",
          "2019-01-14",
          "2019-01-15",
          "2019-01-16",
          "2019-01-17",
          "2019-01-18",
          "2019-01-19",
          "2019-01-20",
          "2019-01-21",
          "2019-01-22",
          "2019-01-23",
          "2019-01-24",
          "2019-01-25",
          "2019-01-26",
          "2019-01-27",
          "2019-01-28",
          "2019-01-29",
          "2019-01-30",
          "2019-01-31",
          "2019-02-01",
          "2019-02-02",
          "2019-02-03",
          "2019-02-04",
          "2019-02-05",
          "2019-02-06",
          "2019-02-07",
          "2019-02-08",
          "2019-02-09",
          "2019-02-10",
          "2019-02-11",
          "2019-02-12",
          "2019-02-13",
          "2019-02-14",
          "2019-02-15",
          "2019-02-16",
          "2019-02-17",
          "2019-02-18",
          "2019-02-19",
          "2019-02-20",
          "2019-02-21",
          "2019-02-22",
          "2019-02-23",
          "2019-02-24",
          "2019-02-25",
          "2019-02-26",
          "2019-02-27",
          "2019-02-28",
          "2019-03-01",
          "2019-03-02",
          "2019-03-03",
          "2019-03-04",
          "2019-03-05",
          "2019-03-06",
          "2019-03-07",
          "2019-03-08",
          "2019-03-09",
          "2019-03-10",
          "2019-03-11",
          "2019-03-12",
          "2019-03-13",
          "2019-03-14",
          "2019-03-15",
          "2019-03-16",
          "2019-03-17",
          "2019-03-18",
          "2019-03-19",
          "2019-03-20",
          "2019-03-21",
          "2019-03-22",
          "2019-03-23",
          "2019-03-24",
          "2019-03-25",
          "2019-03-26",
          "2019-03-27",
          "2019-03-28",
          "2019-03-29",
          "2019-03-30",
          "2019-03-31",
          "2019-04-01",
          "2019-04-02",
          "2019-04-03",
          "2019-04-04",
          "2019-04-05",
          "2019-04-06",
          "2019-04-07",
          "2019-04-08",
          "2019-04-09",
          "2019-04-10",
          "2019-04-11",
          "2019-04-12",
          "2019-04-13",
          "2019-04-14",
          "2019-04-15",
          "2019-04-16",
          "2019-04-17",
          "2019-04-18",
          "2019-04-19",
          "2019-04-20",
          "2019-04-21",
          "2019-04-22",
          "2019-04-23",
          "2019-04-24",
          "2019-04-25",
          "2019-04-26",
          "2019-04-27",
          "2019-04-28",
          "2019-04-29",
          "2019-04-30",
          "2019-05-01",
          "2019-05-02",
          "2019-05-03",
          "2019-05-04",
          "2019-05-05",
          "2019-05-06",
          "2019-05-07",
          "2019-05-08",
          "2019-05-09",
          "2019-05-10",
          "2019-05-11",
          "2019-05-12",
          "2019-05-13",
          "2019-05-14",
          "2019-05-15",
          "2019-05-16",
          "2019-05-17",
          "2019-05-18",
          "2019-05-19",
          "2019-05-20",
          "2019-05-21",
          "2019-05-22",
          "2019-05-23",
          "2019-05-24",
          "2019-05-25",
          "2019-05-26",
          "2019-05-27",
          "2019-05-28",
          "2019-05-29",
          "2019-05-30",
          "2019-05-31",
          "2019-06-01",
          "2019-06-02",
          "2019-06-03",
          "2019-06-04",
          "2019-06-05",
          "2019-06-06",
          "2019-06-07",
          "2019-06-08",
          "2019-06-09",
          "2019-06-10",
          "2019-06-11",
          "2019-06-12",
          "2019-06-13",
          "2019-06-14",
          "2019-06-15",
          "2019-06-16",
          "2019-06-17",
          "2019-06-18",
          "2019-06-19",
          "2019-06-20",
          "2019-06-21",
          "2019-06-22",
          "2019-06-23",
          "2019-06-24",
          "2019-06-25",
          "2019-06-26",
          "2019-06-27",
          "2019-06-28",
          "2019-06-29",
          "2019-06-30",
          "2019-07-01",
          "2019-07-02",
          "2019-07-03",
          "2019-07-04",
          "2019-07-05",
          "2019-07-06",
          "2019-07-07",
          "2019-07-08",
          "2019-07-09",
          "2019-07-10",
          "2019-07-11",
          "2019-07-12",
          "2019-07-13",
          "2019-07-14",
          "2019-07-15",
          "2019-07-16",
          "2019-07-17",
          "2019-07-18",
          "2019-07-19",
          "2019-07-20",
          "2019-07-21",
          "2019-07-22",
          "2019-07-23",
          "2019-07-24",
          "2019-07-25",
          "2019-07-26",
          "2019-07-27",
          "2019-07-28",
          "2019-07-29",
          "2019-07-30",
          "2019-07-31",
          "2019-08-01",
          "2019-08-02",
          "2019-08-03",
          "2019-08-04",
          "2019-08-05",
          "2019-08-06",
          "2019-08-07",
          "2019-08-08",
          "2019-08-09",
          "2019-08-10",
          "2019-08-11",
          "2019-08-12",
          "2019-08-13",
          "2019-08-14",
          "2019-08-15",
          "2019-08-16",
          "2019-08-17",
          "2019-08-18",
          "2019-08-19",
          "2019-08-20",
          "2019-08-21",
          "2019-08-22",
          "2019-08-23",
          "2019-08-24",
          "2019-08-25",
          "2019-08-26",
          "2019-08-27",
          "2019-08-28",
          "2019-08-29",
          "2019-08-30",
          "2019-08-31",
          "2019-09-01",
          "2019-09-02",
          "2019-09-03",
          "2019-09-04",
          "2019-09-05",
          "2019-09-06",
          "2019-09-07",
          "2019-09-08",
          "2019-09-09",
          "2019-09-10",
          "2019-09-11",
          "2019-09-12",
          "2019-09-13",
          "2019-09-14",
          "2019-09-15",
          "2019-09-16",
          "2019-09-17",
          "2019-09-18",
          "2019-09-19",
          "2019-09-20",
          "2019-09-21",
          "2019-09-22",
          "2019-09-23",
          "2019-09-24",
          "2019-09-25",
          "2019-09-26",
          "2019-09-27",
          "2019-09-28",
          "2019-09-29",
          "2019-09-30",
          "2019-10-01",
          "2019-10-02",
          "2019-10-03",
          "2019-10-04",
          "2019-10-05",
          "2019-10-06",
          "2019-10-07",
          "2019-10-08",
          "2019-10-09",
          "2019-10-10",
          "2019-10-11",
          "2019-10-12",
          "2019-10-13",
          "2019-10-14",
          "2019-10-15",
          "2019-10-16",
          "2019-10-17",
          "2019-10-18",
          "2019-10-19",
          "2019-10-20",
          "2019-10-21",
          "2019-10-22",
          "2019-10-23",
          "2019-10-24",
          "2019-10-25",
          "2019-10-26",
          "2019-10-27",
          "2019-10-28",
          "2019-10-29",
          "2019-10-30",
          "2019-10-31",
          "2019-11-01",
          "2019-11-02",
          "2019-11-03",
          "2019-11-04",
          "2019-11-05",
          "2019-11-06",
          "2019-11-07",
          "2019-11-08",
          "2019-11-09",
          "2019-11-10",
          "2019-11-11",
          "2019-11-12",
          "2019-11-13",
          "2019-11-14",
          "2019-11-15",
          "2019-11-16",
          "2019-11-17",
          "2019-11-18",
          "2019-11-19",
          "2019-11-20",
          "2019-11-21",
          "2019-11-22",
          "2019-11-23",
          "2019-11-24",
          "2019-11-25",
          "2019-11-26",
          "2019-11-27",
          "2019-11-28",
          "2019-11-29",
          "2019-11-30",
          "2019-12-01",
          "2019-12-02",
          "2019-12-03",
          "2019-12-04",
          "2019-12-05",
          "2019-12-06",
          "2019-12-07",
          "2019-12-08",
          "2019-12-09",
          "2019-12-10",
          "2019-12-11",
          "2019-12-12",
          "2019-12-13",
          "2019-12-14",
          "2019-12-15",
          "2019-12-16",
          "2019-12-17",
          "2019-12-18",
          "2019-12-19",
          "2019-12-20",
          "2019-12-21",
          "2019-12-22",
          "2019-12-23",
          "2019-12-24",
          "2019-12-25",
          "2019-12-26",
          "2019-12-27",
          "2019-12-28",
          "2019-12-29",
          "2019-12-30",
          "2019-12-31",
          "2020-01-01",
          "2020-01-02",
          "2020-01-03",
          "2020-01-04",
          "2020-01-05",
          "2020-01-06",
          "2020-01-07",
          "2020-01-08",
          "2020-01-09",
          "2020-01-10",
          "2020-01-11",
          "2020-01-12",
          "2020-01-13",
          "2020-01-14",
          "2020-01-15",
          "2020-01-16",
          "2020-01-17",
          "2020-01-18",
          "2020-01-19",
          "2020-01-20",
          "2020-01-21",
          "2020-01-22",
          "2020-01-23",
          "2020-01-24",
          "2020-01-25",
          "2020-01-26",
          "2020-01-27",
          "2020-01-28",
          "2020-01-29",
          "2020-01-30",
          "2020-01-31",
          "2020-02-01",
          "2020-02-02",
          "2020-02-03",
          "2020-02-04",
          "2020-02-05",
          "2020-02-06",
          "2020-02-07",
          "2020-02-08",
          "2020-02-09",
          "2020-02-10",
          "2020-02-11",
          "2020-02-12",
          "2020-02-13",
          "2020-02-14",
          "2020-02-15",
          "2020-02-16",
          "2020-02-17",
          "2020-02-18",
          "2020-02-19",
          "2020-02-20",
          "2020-02-21",
          "2020-02-22",
          "2020-02-23",
          "2020-02-24",
          "2020-02-25",
          "2020-02-26",
          "2020-02-27",
          "2020-02-28",
          "2020-03-01",
          "2020-03-02",
          "2020-03-03",
          "2020-03-04",
          "2020-03-05",
          "2020-03-06",
          "2020-03-07",
          "2020-03-08",
          "2020-03-09",
          "2020-03-10",
          "2020-03-11",
          "2020-03-12",
          "2020-03-13",
          "2020-03-14",
          "2020-03-15",
          "2020-03-16",
          "2020-03-17",
          "2020-03-18",
          "2020-03-19",
          "2020-03-20",
          "2020-03-21",
          "2020-03-22",
          "2020-03-23",
          "2020-03-24",
          "2020-03-25",
          "2020-03-26",
          "2020-03-27",
          "2020-03-28",
          "2020-03-29",
          "2020-03-30",
          "2020-03-31",
          "2020-04-01",
          "2020-04-02",
          "2020-04-03",
          "2020-04-04",
          "2020-04-05",
          "2020-04-06",
          "2020-04-07",
          "2020-04-08",
          "2020-04-09",
          "2020-04-10",
          "2020-04-11",
          "2020-04-12",
          "2020-04-13",
          "2020-04-14",
          "2020-04-15",
          "2020-04-16",
          "2020-04-17",
          "2020-04-18",
          "2020-04-19",
          "2020-04-20",
          "2020-04-21",
          "2020-04-22",
          "2020-04-23",
          "2020-04-24",
          "2020-04-25",
          "2020-04-26",
          "2020-04-27",
          "2020-04-28",
          "2020-04-29",
          "2020-04-30",
          "2020-05-01",
          "2020-05-02",
          "2020-05-03",
          "2020-05-04",
          "2020-05-05",
          "2020-05-06",
          "2020-05-07",
          "2020-05-08",
          "2020-05-09",
          "2020-05-10",
          "2020-05-11",
          "2020-05-12",
          "2020-05-13",
          "2020-05-14",
          "2020-05-15",
          "2020-05-16",
          "2020-05-17",
          "2020-05-18",
          "2020-05-19",
          "2020-05-20",
          "2020-05-21",
          "2020-05-22",
          "2020-05-23",
          "2020-05-24",
          "2020-05-25",
          "2020-05-26",
          "2020-05-27",
          "2020-05-28",
          "2020-05-29",
          "2020-05-30",
          "2020-05-31",
          "2020-06-01",
          "2020-06-02",
          "2020-06-03",
          "2020-06-04",
          "2020-06-05",
          "2020-06-06",
          "2020-06-07",
          "2020-06-08",
          "2020-06-09",
          "2020-06-10",
          "2020-06-11",
          "2020-06-12",
          "2020-06-13",
          "2020-06-14",
          "2020-06-15",
          "2020-06-16",
          "2020-06-17",
          "2020-06-18",
          "2020-06-19",
          "2020-06-20",
          "2020-06-21"
         ],
         "xaxis": "x",
         "y": [
          2414,
          1118,
          1236,
          1474,
          1409,
          2029,
          2425,
          2314,
          1158,
          1249,
          1439,
          1456,
          1980,
          2443,
          2360,
          1186,
          1233,
          1360,
          1359,
          2011,
          2384,
          2302,
          1137,
          1288,
          1281,
          1391,
          2029,
          2410,
          2314,
          1109,
          1227,
          1477,
          1483,
          2020,
          2398,
          2349,
          1122,
          1287,
          1435,
          1433,
          2019,
          2386,
          2361,
          1181,
          1221,
          1375,
          1444,
          2022,
          2372,
          2293,
          1135,
          1256,
          1396,
          1435,
          2059,
          2342,
          2318,
          1106,
          3141,
          1841,
          2628,
          3136,
          3093,
          1560,
          1678,
          1876,
          1850,
          2696,
          3258,
          3045,
          1429,
          1641,
          1868,
          1891,
          2649,
          3117,
          3065,
          1476,
          1715,
          1829,
          1884,
          2755,
          3164,
          3039,
          1497,
          1674,
          1778,
          1932,
          2693,
          3182,
          3100,
          1429,
          1649,
          1937,
          1848,
          2719,
          3246,
          3095,
          1465,
          1685,
          1800,
          1932,
          2694,
          3078,
          3062,
          1496,
          1680,
          1772,
          1880,
          2767,
          3206,
          3133,
          1449,
          1729,
          1813,
          1894,
          2675,
          3147,
          3163,
          1535,
          1660,
          1752,
          1849,
          2636,
          3166,
          3041,
          1501,
          1757,
          1808,
          1878,
          2698,
          3218,
          3022,
          1470,
          1663,
          1857,
          1901,
          2598,
          3071,
          3177,
          1492,
          1648,
          1879,
          2258,
          3248,
          3933,
          3770,
          1826,
          2067,
          2360,
          2328,
          3291,
          4041,
          3792,
          1833,
          2050,
          2419,
          2303,
          3330,
          3900,
          3831,
          1863,
          2088,
          2326,
          2397,
          3335,
          4060,
          3890,
          1826,
          1997,
          2312,
          2400,
          3291,
          3936,
          3792,
          1813,
          2060,
          2265,
          2268,
          3357,
          3998,
          3787,
          1804,
          2073,
          2344,
          2305,
          3444,
          3982,
          3852,
          1872,
          2069,
          2340,
          2362,
          3301,
          3878,
          3742,
          1886,
          2036,
          2288,
          2288,
          3334,
          4023,
          3830,
          1837,
          2092,
          2307,
          2331,
          3300,
          4045,
          3798,
          1936,
          2110,
          2301,
          2413,
          3427,
          3964,
          3907,
          1820,
          2090,
          2290,
          2312,
          3344,
          4089,
          3850,
          1908,
          2128,
          2330,
          2313,
          3370,
          3940,
          3772,
          1852,
          2074,
          2257,
          2324,
          3433,
          3983,
          3799,
          1838,
          2053,
          2322,
          2485,
          3371,
          4129,
          3191,
          1501,
          1682,
          1822,
          1851,
          2640,
          3152,
          3052,
          1465,
          1593,
          1795,
          1903,
          2721,
          3243,
          3081,
          1505,
          1724,
          1877,
          1858,
          2688,
          3238,
          3155,
          1449,
          1643,
          1894,
          1877,
          2638,
          3198,
          3087,
          1499,
          1734,
          1869,
          1863,
          2744,
          3183,
          3095,
          1423,
          1670,
          1925,
          1882,
          2693,
          3172,
          3129,
          1436,
          1689,
          1888,
          1849,
          2684,
          3230,
          2997,
          1507,
          1710,
          1836,
          1940,
          2749,
          3194,
          3134,
          1525,
          1663,
          1846,
          1873,
          2675,
          3252,
          3094,
          1505,
          1630,
          1872,
          1894,
          2702,
          3131,
          3013,
          1458,
          1589,
          1880,
          1849,
          2652,
          3238,
          3155,
          1471,
          1670,
          1780,
          1838,
          2640,
          3166,
          3172,
          1486,
          1718,
          1820,
          1828,
          5370,
          6283,
          6150,
          2986,
          3341,
          3683,
          3697,
          5285,
          6428,
          6252,
          2926,
          3312,
          3731,
          3661,
          5299,
          6425,
          6127,
          2986,
          3271,
          3678,
          3607,
          5366,
          6325,
          5937,
          2885,
          3274,
          3639,
          3674,
          5552,
          6320,
          6064,
          2896,
          1294,
          1335,
          1424,
          2033,
          2461,
          2379,
          1107,
          1264,
          1404,
          1326,
          2103,
          2468,
          2386,
          1128,
          1252,
          1444,
          1418,
          2087,
          2441,
          2307,
          1073,
          1272,
          1384,
          1466,
          2073,
          2358,
          2342,
          1140,
          1270,
          1373,
          1390,
          2088,
          2384,
          2284,
          1131,
          1294,
          1363,
          1405,
          1964,
          2350,
          2338,
          1150,
          1278,
          1331,
          1386,
          2064,
          2366,
          2411,
          1100,
          1227,
          1393,
          1453,
          2048,
          2434,
          2324,
          1176,
          1233,
          1391,
          1425,
          2718,
          3130,
          3066,
          1533,
          1605,
          1895,
          1889,
          2714,
          3303,
          3075,
          1535,
          1722,
          1860,
          1849,
          2690,
          3334,
          3143,
          1502,
          1700,
          1860,
          1839,
          2748,
          3246,
          3153,
          1500,
          1602,
          1839,
          1845,
          2679,
          3228,
          3048,
          1561,
          1698,
          1805,
          1892,
          2714,
          3327,
          3211,
          1422,
          1640,
          1926,
          1812,
          2689,
          3327,
          3086,
          1488,
          1644,
          1867,
          1838,
          2721,
          3220,
          3016,
          1484,
          1667,
          1836,
          1828,
          2669,
          3146,
          3117,
          1519,
          1722,
          1754,
          1848,
          2606,
          3147,
          3068,
          1531,
          1737,
          1882,
          1869,
          2631,
          3262,
          3099,
          1514,
          1695,
          1841,
          1864,
          2755,
          3086,
          3118,
          1386,
          1688,
          1860,
          1890,
          3430,
          3942,
          3839,
          1846,
          2131,
          2325,
          2396,
          3303,
          4019,
          3935,
          1867,
          2084,
          2396,
          2292,
          3288,
          4135,
          3799,
          1858,
          2101,
          2372,
          2300,
          3359,
          4167,
          3802,
          1812,
          2028,
          2413,
          2354,
          1366
         ],
         "yaxis": "y"
        },
        {
         "hovertemplate": "Metric=num_fraud_transactions<br>trans_date=%{x}<br>Count=%{y}<extra></extra>",
         "legendgroup": "num_fraud_transactions",
         "line": {
          "color": "#EF553B",
          "dash": "solid"
         },
         "marker": {
          "symbol": "circle"
         },
         "mode": "lines",
         "name": "num_fraud_transactions",
         "showlegend": true,
         "type": "scattergl",
         "x": [
          "2019-01-01",
          "2019-01-02",
          "2019-01-03",
          "2019-01-04",
          "2019-01-05",
          "2019-01-06",
          "2019-01-07",
          "2019-01-08",
          "2019-01-09",
          "2019-01-10",
          "2019-01-11",
          "2019-01-12",
          "2019-01-13",
          "2019-01-14",
          "2019-01-15",
          "2019-01-16",
          "2019-01-17",
          "2019-01-18",
          "2019-01-19",
          "2019-01-20",
          "2019-01-21",
          "2019-01-22",
          "2019-01-23",
          "2019-01-24",
          "2019-01-25",
          "2019-01-26",
          "2019-01-27",
          "2019-01-28",
          "2019-01-29",
          "2019-01-30",
          "2019-01-31",
          "2019-02-01",
          "2019-02-02",
          "2019-02-03",
          "2019-02-04",
          "2019-02-05",
          "2019-02-06",
          "2019-02-07",
          "2019-02-08",
          "2019-02-09",
          "2019-02-10",
          "2019-02-11",
          "2019-02-12",
          "2019-02-13",
          "2019-02-14",
          "2019-02-15",
          "2019-02-16",
          "2019-02-17",
          "2019-02-18",
          "2019-02-19",
          "2019-02-20",
          "2019-02-21",
          "2019-02-22",
          "2019-02-23",
          "2019-02-24",
          "2019-02-25",
          "2019-02-26",
          "2019-02-27",
          "2019-02-28",
          "2019-03-01",
          "2019-03-02",
          "2019-03-03",
          "2019-03-04",
          "2019-03-05",
          "2019-03-06",
          "2019-03-07",
          "2019-03-08",
          "2019-03-09",
          "2019-03-10",
          "2019-03-11",
          "2019-03-12",
          "2019-03-13",
          "2019-03-14",
          "2019-03-15",
          "2019-03-16",
          "2019-03-17",
          "2019-03-18",
          "2019-03-19",
          "2019-03-20",
          "2019-03-21",
          "2019-03-22",
          "2019-03-23",
          "2019-03-24",
          "2019-03-25",
          "2019-03-26",
          "2019-03-27",
          "2019-03-28",
          "2019-03-29",
          "2019-03-30",
          "2019-03-31",
          "2019-04-01",
          "2019-04-02",
          "2019-04-03",
          "2019-04-04",
          "2019-04-05",
          "2019-04-06",
          "2019-04-07",
          "2019-04-08",
          "2019-04-09",
          "2019-04-10",
          "2019-04-11",
          "2019-04-12",
          "2019-04-13",
          "2019-04-14",
          "2019-04-15",
          "2019-04-16",
          "2019-04-17",
          "2019-04-18",
          "2019-04-19",
          "2019-04-20",
          "2019-04-21",
          "2019-04-22",
          "2019-04-23",
          "2019-04-24",
          "2019-04-25",
          "2019-04-26",
          "2019-04-27",
          "2019-04-28",
          "2019-04-29",
          "2019-04-30",
          "2019-05-01",
          "2019-05-02",
          "2019-05-03",
          "2019-05-04",
          "2019-05-05",
          "2019-05-06",
          "2019-05-07",
          "2019-05-08",
          "2019-05-09",
          "2019-05-10",
          "2019-05-11",
          "2019-05-12",
          "2019-05-13",
          "2019-05-14",
          "2019-05-15",
          "2019-05-16",
          "2019-05-17",
          "2019-05-18",
          "2019-05-19",
          "2019-05-20",
          "2019-05-21",
          "2019-05-22",
          "2019-05-23",
          "2019-05-24",
          "2019-05-25",
          "2019-05-26",
          "2019-05-27",
          "2019-05-28",
          "2019-05-29",
          "2019-05-30",
          "2019-05-31",
          "2019-06-01",
          "2019-06-02",
          "2019-06-03",
          "2019-06-04",
          "2019-06-05",
          "2019-06-06",
          "2019-06-07",
          "2019-06-08",
          "2019-06-09",
          "2019-06-10",
          "2019-06-11",
          "2019-06-12",
          "2019-06-13",
          "2019-06-14",
          "2019-06-15",
          "2019-06-16",
          "2019-06-17",
          "2019-06-18",
          "2019-06-19",
          "2019-06-20",
          "2019-06-21",
          "2019-06-22",
          "2019-06-23",
          "2019-06-24",
          "2019-06-25",
          "2019-06-26",
          "2019-06-27",
          "2019-06-28",
          "2019-06-29",
          "2019-06-30",
          "2019-07-01",
          "2019-07-02",
          "2019-07-03",
          "2019-07-04",
          "2019-07-05",
          "2019-07-06",
          "2019-07-07",
          "2019-07-08",
          "2019-07-09",
          "2019-07-10",
          "2019-07-11",
          "2019-07-12",
          "2019-07-13",
          "2019-07-14",
          "2019-07-15",
          "2019-07-16",
          "2019-07-17",
          "2019-07-18",
          "2019-07-19",
          "2019-07-20",
          "2019-07-21",
          "2019-07-22",
          "2019-07-23",
          "2019-07-24",
          "2019-07-25",
          "2019-07-26",
          "2019-07-27",
          "2019-07-28",
          "2019-07-29",
          "2019-07-30",
          "2019-07-31",
          "2019-08-01",
          "2019-08-02",
          "2019-08-03",
          "2019-08-04",
          "2019-08-05",
          "2019-08-06",
          "2019-08-07",
          "2019-08-08",
          "2019-08-09",
          "2019-08-10",
          "2019-08-11",
          "2019-08-12",
          "2019-08-13",
          "2019-08-14",
          "2019-08-15",
          "2019-08-16",
          "2019-08-17",
          "2019-08-18",
          "2019-08-19",
          "2019-08-20",
          "2019-08-21",
          "2019-08-22",
          "2019-08-23",
          "2019-08-24",
          "2019-08-25",
          "2019-08-26",
          "2019-08-27",
          "2019-08-28",
          "2019-08-29",
          "2019-08-30",
          "2019-08-31",
          "2019-09-01",
          "2019-09-02",
          "2019-09-03",
          "2019-09-04",
          "2019-09-05",
          "2019-09-06",
          "2019-09-07",
          "2019-09-08",
          "2019-09-09",
          "2019-09-10",
          "2019-09-11",
          "2019-09-12",
          "2019-09-13",
          "2019-09-14",
          "2019-09-15",
          "2019-09-16",
          "2019-09-17",
          "2019-09-18",
          "2019-09-19",
          "2019-09-20",
          "2019-09-21",
          "2019-09-22",
          "2019-09-23",
          "2019-09-24",
          "2019-09-25",
          "2019-09-26",
          "2019-09-27",
          "2019-09-28",
          "2019-09-29",
          "2019-09-30",
          "2019-10-01",
          "2019-10-02",
          "2019-10-03",
          "2019-10-04",
          "2019-10-05",
          "2019-10-06",
          "2019-10-07",
          "2019-10-08",
          "2019-10-09",
          "2019-10-10",
          "2019-10-11",
          "2019-10-12",
          "2019-10-13",
          "2019-10-14",
          "2019-10-15",
          "2019-10-16",
          "2019-10-17",
          "2019-10-18",
          "2019-10-19",
          "2019-10-20",
          "2019-10-21",
          "2019-10-22",
          "2019-10-23",
          "2019-10-24",
          "2019-10-25",
          "2019-10-26",
          "2019-10-27",
          "2019-10-28",
          "2019-10-29",
          "2019-10-30",
          "2019-10-31",
          "2019-11-01",
          "2019-11-02",
          "2019-11-03",
          "2019-11-04",
          "2019-11-05",
          "2019-11-06",
          "2019-11-07",
          "2019-11-08",
          "2019-11-09",
          "2019-11-10",
          "2019-11-11",
          "2019-11-12",
          "2019-11-13",
          "2019-11-14",
          "2019-11-15",
          "2019-11-16",
          "2019-11-17",
          "2019-11-18",
          "2019-11-19",
          "2019-11-20",
          "2019-11-21",
          "2019-11-22",
          "2019-11-23",
          "2019-11-24",
          "2019-11-25",
          "2019-11-26",
          "2019-11-27",
          "2019-11-28",
          "2019-11-29",
          "2019-11-30",
          "2019-12-01",
          "2019-12-02",
          "2019-12-03",
          "2019-12-04",
          "2019-12-05",
          "2019-12-06",
          "2019-12-07",
          "2019-12-08",
          "2019-12-09",
          "2019-12-10",
          "2019-12-11",
          "2019-12-12",
          "2019-12-13",
          "2019-12-14",
          "2019-12-15",
          "2019-12-16",
          "2019-12-17",
          "2019-12-18",
          "2019-12-19",
          "2019-12-20",
          "2019-12-21",
          "2019-12-22",
          "2019-12-23",
          "2019-12-24",
          "2019-12-25",
          "2019-12-26",
          "2019-12-27",
          "2019-12-28",
          "2019-12-29",
          "2019-12-30",
          "2019-12-31",
          "2020-01-01",
          "2020-01-02",
          "2020-01-03",
          "2020-01-04",
          "2020-01-05",
          "2020-01-06",
          "2020-01-07",
          "2020-01-08",
          "2020-01-09",
          "2020-01-10",
          "2020-01-11",
          "2020-01-12",
          "2020-01-13",
          "2020-01-14",
          "2020-01-15",
          "2020-01-16",
          "2020-01-17",
          "2020-01-18",
          "2020-01-19",
          "2020-01-20",
          "2020-01-21",
          "2020-01-22",
          "2020-01-23",
          "2020-01-24",
          "2020-01-25",
          "2020-01-26",
          "2020-01-27",
          "2020-01-28",
          "2020-01-29",
          "2020-01-30",
          "2020-01-31",
          "2020-02-01",
          "2020-02-02",
          "2020-02-03",
          "2020-02-04",
          "2020-02-05",
          "2020-02-06",
          "2020-02-07",
          "2020-02-08",
          "2020-02-09",
          "2020-02-10",
          "2020-02-11",
          "2020-02-12",
          "2020-02-13",
          "2020-02-14",
          "2020-02-15",
          "2020-02-16",
          "2020-02-17",
          "2020-02-18",
          "2020-02-19",
          "2020-02-20",
          "2020-02-21",
          "2020-02-22",
          "2020-02-23",
          "2020-02-24",
          "2020-02-25",
          "2020-02-26",
          "2020-02-27",
          "2020-02-28",
          "2020-03-01",
          "2020-03-02",
          "2020-03-03",
          "2020-03-04",
          "2020-03-05",
          "2020-03-06",
          "2020-03-07",
          "2020-03-08",
          "2020-03-09",
          "2020-03-10",
          "2020-03-11",
          "2020-03-12",
          "2020-03-13",
          "2020-03-14",
          "2020-03-15",
          "2020-03-16",
          "2020-03-17",
          "2020-03-18",
          "2020-03-19",
          "2020-03-20",
          "2020-03-21",
          "2020-03-22",
          "2020-03-23",
          "2020-03-24",
          "2020-03-25",
          "2020-03-26",
          "2020-03-27",
          "2020-03-28",
          "2020-03-29",
          "2020-03-30",
          "2020-03-31",
          "2020-04-01",
          "2020-04-02",
          "2020-04-03",
          "2020-04-04",
          "2020-04-05",
          "2020-04-06",
          "2020-04-07",
          "2020-04-08",
          "2020-04-09",
          "2020-04-10",
          "2020-04-11",
          "2020-04-12",
          "2020-04-13",
          "2020-04-14",
          "2020-04-15",
          "2020-04-16",
          "2020-04-17",
          "2020-04-18",
          "2020-04-19",
          "2020-04-20",
          "2020-04-21",
          "2020-04-22",
          "2020-04-23",
          "2020-04-24",
          "2020-04-25",
          "2020-04-26",
          "2020-04-27",
          "2020-04-28",
          "2020-04-29",
          "2020-04-30",
          "2020-05-01",
          "2020-05-02",
          "2020-05-03",
          "2020-05-04",
          "2020-05-05",
          "2020-05-06",
          "2020-05-07",
          "2020-05-08",
          "2020-05-09",
          "2020-05-10",
          "2020-05-11",
          "2020-05-12",
          "2020-05-13",
          "2020-05-14",
          "2020-05-15",
          "2020-05-16",
          "2020-05-17",
          "2020-05-18",
          "2020-05-19",
          "2020-05-20",
          "2020-05-21",
          "2020-05-22",
          "2020-05-23",
          "2020-05-24",
          "2020-05-25",
          "2020-05-26",
          "2020-05-27",
          "2020-05-28",
          "2020-05-29",
          "2020-05-30",
          "2020-05-31",
          "2020-06-01",
          "2020-06-02",
          "2020-06-03",
          "2020-06-04",
          "2020-06-05",
          "2020-06-06",
          "2020-06-07",
          "2020-06-08",
          "2020-06-09",
          "2020-06-10",
          "2020-06-11",
          "2020-06-12",
          "2020-06-13",
          "2020-06-14",
          "2020-06-15",
          "2020-06-16",
          "2020-06-17",
          "2020-06-18",
          "2020-06-19",
          "2020-06-20",
          "2020-06-21"
         ],
         "xaxis": "x",
         "y": [
          0,
          7,
          12,
          13,
          13,
          2,
          4,
          26,
          23,
          6,
          16,
          21,
          29,
          37,
          36,
          20,
          16,
          20,
          21,
          25,
          17,
          21,
          2,
          4,
          6,
          0,
          19,
          15,
          23,
          20,
          32,
          20,
          22,
          19,
          13,
          0,
          14,
          35,
          34,
          7,
          5,
          12,
          44,
          26,
          10,
          14,
          2,
          13,
          22,
          24,
          5,
          11,
          18,
          10,
          7,
          50,
          32,
          4,
          44,
          6,
          9,
          9,
          13,
          19,
          14,
          24,
          28,
          8,
          17,
          30,
          14,
          10,
          28,
          27,
          26,
          7,
          0,
          17,
          27,
          12,
          30,
          27,
          11,
          27,
          10,
          7,
          8,
          0,
          14,
          15,
          6,
          5,
          18,
          13,
          5,
          7,
          13,
          20,
          8,
          9,
          8,
          13,
          13,
          9,
          7,
          19,
          20,
          10,
          12,
          15,
          4,
          6,
          7,
          8,
          11,
          27,
          20,
          20,
          28,
          15,
          15,
          14,
          17,
          14,
          5,
          9,
          6,
          0,
          0,
          6,
          17,
          24,
          13,
          10,
          11,
          15,
          22,
          17,
          22,
          44,
          11,
          8,
          15,
          14,
          20,
          29,
          6,
          3,
          13,
          2,
          6,
          0,
          3,
          24,
          17,
          12,
          6,
          2,
          0,
          8,
          26,
          14,
          0,
          5,
          11,
          16,
          26,
          10,
          8,
          7,
          5,
          10,
          23,
          22,
          6,
          1,
          5,
          9,
          20,
          43,
          15,
          0,
          11,
          13,
          5,
          11,
          22,
          15,
          11,
          3,
          16,
          19,
          15,
          7,
          15,
          11,
          2,
          1,
          0,
          0,
          0,
          14,
          26,
          2,
          7,
          15,
          11,
          31,
          30,
          17,
          1,
          0,
          0,
          13,
          22,
          12,
          15,
          1,
          5,
          8,
          3,
          13,
          22,
          24,
          12,
          3,
          0,
          8,
          27,
          21,
          12,
          3,
          0,
          0,
          0,
          22,
          29,
          19,
          7,
          6,
          10,
          26,
          39,
          24,
          4,
          6,
          9,
          7,
          5,
          18,
          0,
          8,
          30,
          41,
          20,
          21,
          25,
          4,
          3,
          6,
          2,
          20,
          16,
          12,
          22,
          37,
          11,
          9,
          2,
          6,
          24,
          22,
          4,
          14,
          23,
          7,
          6,
          19,
          25,
          4,
          7,
          20,
          16,
          15,
          23,
          30,
          26,
          1,
          0,
          20,
          27,
          29,
          37,
          19,
          1,
          12,
          4,
          1,
          15,
          6,
          6,
          8,
          11,
          22,
          25,
          32,
          13,
          6,
          4,
          4,
          7,
          10,
          7,
          14,
          18,
          1,
          5,
          21,
          20,
          5,
          0,
          0,
          11,
          26,
          5,
          7,
          13,
          14,
          17,
          18,
          17,
          20,
          19,
          29,
          18,
          22,
          10,
          28,
          21,
          18,
          19,
          14,
          15,
          8,
          17,
          38,
          11,
          14,
          7,
          17,
          11,
          6,
          9,
          21,
          23,
          31,
          40,
          25,
          11,
          8,
          17,
          33,
          25,
          32,
          23,
          3,
          3,
          11,
          23,
          14,
          3,
          11,
          18,
          9,
          8,
          20,
          24,
          14,
          0,
          8,
          3,
          19,
          19,
          20,
          10,
          0,
          5,
          8,
          13,
          12,
          11,
          13,
          4,
          5,
          17,
          15,
          21,
          22,
          18,
          6,
          0,
          0,
          11,
          14,
          13,
          8,
          9,
          5,
          4,
          13,
          18,
          10,
          6,
          3,
          10,
          25,
          28,
          17,
          13,
          6,
          7,
          1,
          26,
          22,
          19,
          27,
          9,
          6,
          8,
          0,
          7,
          15,
          7,
          18,
          22,
          31,
          13,
          8,
          18,
          19,
          32,
          14,
          37,
          41,
          15,
          5,
          6,
          11,
          3,
          0,
          0,
          5,
          11,
          4,
          33,
          12,
          10,
          15,
          1,
          0,
          5,
          28,
          10,
          9,
          9,
          2,
          5,
          9,
          11,
          15,
          15,
          17,
          6,
          8,
          18,
          10,
          0,
          7,
          14,
          12,
          10,
          3,
          16,
          13,
          12,
          21,
          23,
          31,
          19,
          18,
          18,
          16,
          11,
          21,
          35,
          24,
          20,
          14,
          9,
          5,
          9,
          15,
          10,
          21,
          4,
          23,
          11,
          13,
          28,
          31,
          9,
          14,
          15,
          20,
          16,
          3,
          5,
          14,
          15,
          19,
          6,
          5,
          17,
          37,
          8,
          12,
          4,
          2,
          6,
          20,
          22,
          10,
          35,
          39,
          25,
          26,
          7
         ],
         "yaxis": "y"
        },
        {
         "hovertemplate": "Metric=num_fraud_cards<br>trans_date=%{x}<br>Count=%{y}<extra></extra>",
         "legendgroup": "num_fraud_cards",
         "line": {
          "color": "#00cc96",
          "dash": "solid"
         },
         "marker": {
          "symbol": "circle"
         },
         "mode": "lines",
         "name": "num_fraud_cards",
         "showlegend": true,
         "type": "scattergl",
         "x": [
          "2019-01-01",
          "2019-01-02",
          "2019-01-03",
          "2019-01-04",
          "2019-01-05",
          "2019-01-06",
          "2019-01-07",
          "2019-01-08",
          "2019-01-09",
          "2019-01-10",
          "2019-01-11",
          "2019-01-12",
          "2019-01-13",
          "2019-01-14",
          "2019-01-15",
          "2019-01-16",
          "2019-01-17",
          "2019-01-18",
          "2019-01-19",
          "2019-01-20",
          "2019-01-21",
          "2019-01-22",
          "2019-01-23",
          "2019-01-24",
          "2019-01-25",
          "2019-01-26",
          "2019-01-27",
          "2019-01-28",
          "2019-01-29",
          "2019-01-30",
          "2019-01-31",
          "2019-02-01",
          "2019-02-02",
          "2019-02-03",
          "2019-02-04",
          "2019-02-05",
          "2019-02-06",
          "2019-02-07",
          "2019-02-08",
          "2019-02-09",
          "2019-02-10",
          "2019-02-11",
          "2019-02-12",
          "2019-02-13",
          "2019-02-14",
          "2019-02-15",
          "2019-02-16",
          "2019-02-17",
          "2019-02-18",
          "2019-02-19",
          "2019-02-20",
          "2019-02-21",
          "2019-02-22",
          "2019-02-23",
          "2019-02-24",
          "2019-02-25",
          "2019-02-26",
          "2019-02-27",
          "2019-02-28",
          "2019-03-01",
          "2019-03-02",
          "2019-03-03",
          "2019-03-04",
          "2019-03-05",
          "2019-03-06",
          "2019-03-07",
          "2019-03-08",
          "2019-03-09",
          "2019-03-10",
          "2019-03-11",
          "2019-03-12",
          "2019-03-13",
          "2019-03-14",
          "2019-03-15",
          "2019-03-16",
          "2019-03-17",
          "2019-03-18",
          "2019-03-19",
          "2019-03-20",
          "2019-03-21",
          "2019-03-22",
          "2019-03-23",
          "2019-03-24",
          "2019-03-25",
          "2019-03-26",
          "2019-03-27",
          "2019-03-28",
          "2019-03-29",
          "2019-03-30",
          "2019-03-31",
          "2019-04-01",
          "2019-04-02",
          "2019-04-03",
          "2019-04-04",
          "2019-04-05",
          "2019-04-06",
          "2019-04-07",
          "2019-04-08",
          "2019-04-09",
          "2019-04-10",
          "2019-04-11",
          "2019-04-12",
          "2019-04-13",
          "2019-04-14",
          "2019-04-15",
          "2019-04-16",
          "2019-04-17",
          "2019-04-18",
          "2019-04-19",
          "2019-04-20",
          "2019-04-21",
          "2019-04-22",
          "2019-04-23",
          "2019-04-24",
          "2019-04-25",
          "2019-04-26",
          "2019-04-27",
          "2019-04-28",
          "2019-04-29",
          "2019-04-30",
          "2019-05-01",
          "2019-05-02",
          "2019-05-03",
          "2019-05-04",
          "2019-05-05",
          "2019-05-06",
          "2019-05-07",
          "2019-05-08",
          "2019-05-09",
          "2019-05-10",
          "2019-05-11",
          "2019-05-12",
          "2019-05-13",
          "2019-05-14",
          "2019-05-15",
          "2019-05-16",
          "2019-05-17",
          "2019-05-18",
          "2019-05-19",
          "2019-05-20",
          "2019-05-21",
          "2019-05-22",
          "2019-05-23",
          "2019-05-24",
          "2019-05-25",
          "2019-05-26",
          "2019-05-27",
          "2019-05-28",
          "2019-05-29",
          "2019-05-30",
          "2019-05-31",
          "2019-06-01",
          "2019-06-02",
          "2019-06-03",
          "2019-06-04",
          "2019-06-05",
          "2019-06-06",
          "2019-06-07",
          "2019-06-08",
          "2019-06-09",
          "2019-06-10",
          "2019-06-11",
          "2019-06-12",
          "2019-06-13",
          "2019-06-14",
          "2019-06-15",
          "2019-06-16",
          "2019-06-17",
          "2019-06-18",
          "2019-06-19",
          "2019-06-20",
          "2019-06-21",
          "2019-06-22",
          "2019-06-23",
          "2019-06-24",
          "2019-06-25",
          "2019-06-26",
          "2019-06-27",
          "2019-06-28",
          "2019-06-29",
          "2019-06-30",
          "2019-07-01",
          "2019-07-02",
          "2019-07-03",
          "2019-07-04",
          "2019-07-05",
          "2019-07-06",
          "2019-07-07",
          "2019-07-08",
          "2019-07-09",
          "2019-07-10",
          "2019-07-11",
          "2019-07-12",
          "2019-07-13",
          "2019-07-14",
          "2019-07-15",
          "2019-07-16",
          "2019-07-17",
          "2019-07-18",
          "2019-07-19",
          "2019-07-20",
          "2019-07-21",
          "2019-07-22",
          "2019-07-23",
          "2019-07-24",
          "2019-07-25",
          "2019-07-26",
          "2019-07-27",
          "2019-07-28",
          "2019-07-29",
          "2019-07-30",
          "2019-07-31",
          "2019-08-01",
          "2019-08-02",
          "2019-08-03",
          "2019-08-04",
          "2019-08-05",
          "2019-08-06",
          "2019-08-07",
          "2019-08-08",
          "2019-08-09",
          "2019-08-10",
          "2019-08-11",
          "2019-08-12",
          "2019-08-13",
          "2019-08-14",
          "2019-08-15",
          "2019-08-16",
          "2019-08-17",
          "2019-08-18",
          "2019-08-19",
          "2019-08-20",
          "2019-08-21",
          "2019-08-22",
          "2019-08-23",
          "2019-08-24",
          "2019-08-25",
          "2019-08-26",
          "2019-08-27",
          "2019-08-28",
          "2019-08-29",
          "2019-08-30",
          "2019-08-31",
          "2019-09-01",
          "2019-09-02",
          "2019-09-03",
          "2019-09-04",
          "2019-09-05",
          "2019-09-06",
          "2019-09-07",
          "2019-09-08",
          "2019-09-09",
          "2019-09-10",
          "2019-09-11",
          "2019-09-12",
          "2019-09-13",
          "2019-09-14",
          "2019-09-15",
          "2019-09-16",
          "2019-09-17",
          "2019-09-18",
          "2019-09-19",
          "2019-09-20",
          "2019-09-21",
          "2019-09-22",
          "2019-09-23",
          "2019-09-24",
          "2019-09-25",
          "2019-09-26",
          "2019-09-27",
          "2019-09-28",
          "2019-09-29",
          "2019-09-30",
          "2019-10-01",
          "2019-10-02",
          "2019-10-03",
          "2019-10-04",
          "2019-10-05",
          "2019-10-06",
          "2019-10-07",
          "2019-10-08",
          "2019-10-09",
          "2019-10-10",
          "2019-10-11",
          "2019-10-12",
          "2019-10-13",
          "2019-10-14",
          "2019-10-15",
          "2019-10-16",
          "2019-10-17",
          "2019-10-18",
          "2019-10-19",
          "2019-10-20",
          "2019-10-21",
          "2019-10-22",
          "2019-10-23",
          "2019-10-24",
          "2019-10-25",
          "2019-10-26",
          "2019-10-27",
          "2019-10-28",
          "2019-10-29",
          "2019-10-30",
          "2019-10-31",
          "2019-11-01",
          "2019-11-02",
          "2019-11-03",
          "2019-11-04",
          "2019-11-05",
          "2019-11-06",
          "2019-11-07",
          "2019-11-08",
          "2019-11-09",
          "2019-11-10",
          "2019-11-11",
          "2019-11-12",
          "2019-11-13",
          "2019-11-14",
          "2019-11-15",
          "2019-11-16",
          "2019-11-17",
          "2019-11-18",
          "2019-11-19",
          "2019-11-20",
          "2019-11-21",
          "2019-11-22",
          "2019-11-23",
          "2019-11-24",
          "2019-11-25",
          "2019-11-26",
          "2019-11-27",
          "2019-11-28",
          "2019-11-29",
          "2019-11-30",
          "2019-12-01",
          "2019-12-02",
          "2019-12-03",
          "2019-12-04",
          "2019-12-05",
          "2019-12-06",
          "2019-12-07",
          "2019-12-08",
          "2019-12-09",
          "2019-12-10",
          "2019-12-11",
          "2019-12-12",
          "2019-12-13",
          "2019-12-14",
          "2019-12-15",
          "2019-12-16",
          "2019-12-17",
          "2019-12-18",
          "2019-12-19",
          "2019-12-20",
          "2019-12-21",
          "2019-12-22",
          "2019-12-23",
          "2019-12-24",
          "2019-12-25",
          "2019-12-26",
          "2019-12-27",
          "2019-12-28",
          "2019-12-29",
          "2019-12-30",
          "2019-12-31",
          "2020-01-01",
          "2020-01-02",
          "2020-01-03",
          "2020-01-04",
          "2020-01-05",
          "2020-01-06",
          "2020-01-07",
          "2020-01-08",
          "2020-01-09",
          "2020-01-10",
          "2020-01-11",
          "2020-01-12",
          "2020-01-13",
          "2020-01-14",
          "2020-01-15",
          "2020-01-16",
          "2020-01-17",
          "2020-01-18",
          "2020-01-19",
          "2020-01-20",
          "2020-01-21",
          "2020-01-22",
          "2020-01-23",
          "2020-01-24",
          "2020-01-25",
          "2020-01-26",
          "2020-01-27",
          "2020-01-28",
          "2020-01-29",
          "2020-01-30",
          "2020-01-31",
          "2020-02-01",
          "2020-02-02",
          "2020-02-03",
          "2020-02-04",
          "2020-02-05",
          "2020-02-06",
          "2020-02-07",
          "2020-02-08",
          "2020-02-09",
          "2020-02-10",
          "2020-02-11",
          "2020-02-12",
          "2020-02-13",
          "2020-02-14",
          "2020-02-15",
          "2020-02-16",
          "2020-02-17",
          "2020-02-18",
          "2020-02-19",
          "2020-02-20",
          "2020-02-21",
          "2020-02-22",
          "2020-02-23",
          "2020-02-24",
          "2020-02-25",
          "2020-02-26",
          "2020-02-27",
          "2020-02-28",
          "2020-03-01",
          "2020-03-02",
          "2020-03-03",
          "2020-03-04",
          "2020-03-05",
          "2020-03-06",
          "2020-03-07",
          "2020-03-08",
          "2020-03-09",
          "2020-03-10",
          "2020-03-11",
          "2020-03-12",
          "2020-03-13",
          "2020-03-14",
          "2020-03-15",
          "2020-03-16",
          "2020-03-17",
          "2020-03-18",
          "2020-03-19",
          "2020-03-20",
          "2020-03-21",
          "2020-03-22",
          "2020-03-23",
          "2020-03-24",
          "2020-03-25",
          "2020-03-26",
          "2020-03-27",
          "2020-03-28",
          "2020-03-29",
          "2020-03-30",
          "2020-03-31",
          "2020-04-01",
          "2020-04-02",
          "2020-04-03",
          "2020-04-04",
          "2020-04-05",
          "2020-04-06",
          "2020-04-07",
          "2020-04-08",
          "2020-04-09",
          "2020-04-10",
          "2020-04-11",
          "2020-04-12",
          "2020-04-13",
          "2020-04-14",
          "2020-04-15",
          "2020-04-16",
          "2020-04-17",
          "2020-04-18",
          "2020-04-19",
          "2020-04-20",
          "2020-04-21",
          "2020-04-22",
          "2020-04-23",
          "2020-04-24",
          "2020-04-25",
          "2020-04-26",
          "2020-04-27",
          "2020-04-28",
          "2020-04-29",
          "2020-04-30",
          "2020-05-01",
          "2020-05-02",
          "2020-05-03",
          "2020-05-04",
          "2020-05-05",
          "2020-05-06",
          "2020-05-07",
          "2020-05-08",
          "2020-05-09",
          "2020-05-10",
          "2020-05-11",
          "2020-05-12",
          "2020-05-13",
          "2020-05-14",
          "2020-05-15",
          "2020-05-16",
          "2020-05-17",
          "2020-05-18",
          "2020-05-19",
          "2020-05-20",
          "2020-05-21",
          "2020-05-22",
          "2020-05-23",
          "2020-05-24",
          "2020-05-25",
          "2020-05-26",
          "2020-05-27",
          "2020-05-28",
          "2020-05-29",
          "2020-05-30",
          "2020-05-31",
          "2020-06-01",
          "2020-06-02",
          "2020-06-03",
          "2020-06-04",
          "2020-06-05",
          "2020-06-06",
          "2020-06-07",
          "2020-06-08",
          "2020-06-09",
          "2020-06-10",
          "2020-06-11",
          "2020-06-12",
          "2020-06-13",
          "2020-06-14",
          "2020-06-15",
          "2020-06-16",
          "2020-06-17",
          "2020-06-18",
          "2020-06-19",
          "2020-06-20",
          "2020-06-21"
         ],
         "xaxis": "x",
         "y": [
          0,
          2,
          3,
          2,
          2,
          1,
          1,
          4,
          5,
          2,
          2,
          5,
          5,
          6,
          6,
          4,
          4,
          3,
          5,
          4,
          2,
          3,
          1,
          1,
          1,
          0,
          3,
          3,
          4,
          6,
          6,
          4,
          4,
          4,
          2,
          0,
          3,
          8,
          6,
          2,
          1,
          3,
          7,
          5,
          3,
          2,
          1,
          3,
          5,
          4,
          2,
          2,
          4,
          3,
          2,
          7,
          7,
          2,
          4,
          2,
          2,
          1,
          3,
          4,
          2,
          5,
          5,
          2,
          2,
          4,
          4,
          2,
          4,
          6,
          5,
          2,
          0,
          3,
          5,
          3,
          7,
          6,
          1,
          4,
          3,
          2,
          2,
          0,
          2,
          3,
          2,
          2,
          4,
          4,
          1,
          1,
          2,
          3,
          2,
          1,
          2,
          3,
          2,
          2,
          1,
          3,
          5,
          2,
          3,
          3,
          1,
          1,
          1,
          1,
          2,
          5,
          4,
          5,
          6,
          4,
          3,
          3,
          4,
          3,
          1,
          2,
          2,
          0,
          0,
          1,
          3,
          5,
          3,
          1,
          2,
          3,
          4,
          3,
          4,
          6,
          3,
          2,
          3,
          3,
          4,
          4,
          1,
          3,
          3,
          1,
          1,
          0,
          1,
          4,
          5,
          2,
          1,
          1,
          0,
          1,
          5,
          4,
          0,
          1,
          2,
          4,
          4,
          2,
          1,
          1,
          1,
          1,
          4,
          4,
          1,
          1,
          1,
          1,
          6,
          8,
          2,
          0,
          2,
          2,
          1,
          3,
          4,
          3,
          2,
          1,
          3,
          5,
          3,
          2,
          3,
          2,
          1,
          1,
          0,
          0,
          0,
          3,
          4,
          1,
          2,
          3,
          4,
          7,
          6,
          3,
          1,
          0,
          0,
          3,
          4,
          3,
          2,
          1,
          2,
          2,
          1,
          2,
          3,
          3,
          3,
          1,
          0,
          2,
          5,
          4,
          2,
          1,
          0,
          0,
          0,
          4,
          5,
          3,
          2,
          1,
          3,
          6,
          7,
          4,
          1,
          2,
          2,
          1,
          2,
          2,
          0,
          1,
          8,
          9,
          4,
          5,
          4,
          1,
          1,
          1,
          1,
          3,
          3,
          2,
          3,
          5,
          4,
          2,
          1,
          2,
          4,
          4,
          2,
          3,
          4,
          2,
          2,
          3,
          4,
          2,
          2,
          4,
          3,
          3,
          4,
          6,
          5,
          1,
          0,
          3,
          7,
          6,
          7,
          4,
          1,
          2,
          1,
          1,
          3,
          2,
          1,
          2,
          2,
          4,
          5,
          4,
          3,
          1,
          1,
          1,
          2,
          2,
          2,
          3,
          3,
          1,
          1,
          4,
          4,
          1,
          0,
          0,
          3,
          5,
          1,
          1,
          3,
          3,
          2,
          3,
          4,
          4,
          3,
          4,
          4,
          3,
          3,
          5,
          5,
          3,
          4,
          4,
          3,
          2,
          3,
          6,
          4,
          2,
          1,
          3,
          3,
          1,
          2,
          4,
          4,
          5,
          7,
          6,
          2,
          3,
          5,
          5,
          5,
          5,
          5,
          2,
          1,
          3,
          4,
          2,
          1,
          3,
          3,
          1,
          3,
          4,
          4,
          3,
          0,
          2,
          2,
          4,
          5,
          3,
          1,
          0,
          1,
          2,
          3,
          3,
          2,
          2,
          1,
          1,
          3,
          4,
          4,
          2,
          4,
          3,
          0,
          0,
          2,
          4,
          2,
          1,
          2,
          1,
          1,
          2,
          3,
          2,
          1,
          1,
          2,
          6,
          6,
          3,
          2,
          1,
          1,
          1,
          4,
          5,
          4,
          4,
          2,
          2,
          1,
          0,
          2,
          3,
          1,
          2,
          5,
          5,
          4,
          2,
          2,
          4,
          4,
          4,
          6,
          7,
          4,
          1,
          1,
          2,
          2,
          0,
          0,
          2,
          2,
          1,
          5,
          4,
          2,
          2,
          1,
          0,
          2,
          5,
          3,
          2,
          2,
          1,
          1,
          2,
          2,
          2,
          3,
          3,
          2,
          2,
          3,
          2,
          0,
          2,
          4,
          3,
          2,
          1,
          3,
          3,
          2,
          4,
          4,
          6,
          4,
          3,
          5,
          3,
          2,
          5,
          5,
          5,
          5,
          2,
          2,
          1,
          2,
          3,
          3,
          4,
          3,
          3,
          3,
          3,
          5,
          5,
          2,
          3,
          4,
          3,
          3,
          1,
          1,
          2,
          3,
          3,
          2,
          1,
          4,
          5,
          3,
          3,
          1,
          1,
          2,
          4,
          4,
          2,
          6,
          8,
          6,
          4,
          3
         ],
         "yaxis": "y"
        }
       ],
       "layout": {
        "legend": {
         "title": {
          "text": "Metric"
         },
         "tracegroupgap": 0
        },
        "template": {
         "data": {
          "bar": [
           {
            "error_x": {
             "color": "#2a3f5f"
            },
            "error_y": {
             "color": "#2a3f5f"
            },
            "marker": {
             "line": {
              "color": "#E5ECF6",
              "width": 0.5
             },
             "pattern": {
              "fillmode": "overlay",
              "size": 10,
              "solidity": 0.2
             }
            },
            "type": "bar"
           }
          ],
          "barpolar": [
           {
            "marker": {
             "line": {
              "color": "#E5ECF6",
              "width": 0.5
             },
             "pattern": {
              "fillmode": "overlay",
              "size": 10,
              "solidity": 0.2
             }
            },
            "type": "barpolar"
           }
          ],
          "carpet": [
           {
            "aaxis": {
             "endlinecolor": "#2a3f5f",
             "gridcolor": "white",
             "linecolor": "white",
             "minorgridcolor": "white",
             "startlinecolor": "#2a3f5f"
            },
            "baxis": {
             "endlinecolor": "#2a3f5f",
             "gridcolor": "white",
             "linecolor": "white",
             "minorgridcolor": "white",
             "startlinecolor": "#2a3f5f"
            },
            "type": "carpet"
           }
          ],
          "choropleth": [
           {
            "colorbar": {
             "outlinewidth": 0,
             "ticks": ""
            },
            "type": "choropleth"
           }
          ],
          "contour": [
           {
            "colorbar": {
             "outlinewidth": 0,
             "ticks": ""
            },
            "colorscale": [
             [
              0,
              "#0d0887"
             ],
             [
              0.1111111111111111,
              "#46039f"
             ],
             [
              0.2222222222222222,
              "#7201a8"
             ],
             [
              0.3333333333333333,
              "#9c179e"
             ],
             [
              0.4444444444444444,
              "#bd3786"
             ],
             [
              0.5555555555555556,
              "#d8576b"
             ],
             [
              0.6666666666666666,
              "#ed7953"
             ],
             [
              0.7777777777777778,
              "#fb9f3a"
             ],
             [
              0.8888888888888888,
              "#fdca26"
             ],
             [
              1,
              "#f0f921"
             ]
            ],
            "type": "contour"
           }
          ],
          "contourcarpet": [
           {
            "colorbar": {
             "outlinewidth": 0,
             "ticks": ""
            },
            "type": "contourcarpet"
           }
          ],
          "heatmap": [
           {
            "colorbar": {
             "outlinewidth": 0,
             "ticks": ""
            },
            "colorscale": [
             [
              0,
              "#0d0887"
             ],
             [
              0.1111111111111111,
              "#46039f"
             ],
             [
              0.2222222222222222,
              "#7201a8"
             ],
             [
              0.3333333333333333,
              "#9c179e"
             ],
             [
              0.4444444444444444,
              "#bd3786"
             ],
             [
              0.5555555555555556,
              "#d8576b"
             ],
             [
              0.6666666666666666,
              "#ed7953"
             ],
             [
              0.7777777777777778,
              "#fb9f3a"
             ],
             [
              0.8888888888888888,
              "#fdca26"
             ],
             [
              1,
              "#f0f921"
             ]
            ],
            "type": "heatmap"
           }
          ],
          "heatmapgl": [
           {
            "colorbar": {
             "outlinewidth": 0,
             "ticks": ""
            },
            "colorscale": [
             [
              0,
              "#0d0887"
             ],
             [
              0.1111111111111111,
              "#46039f"
             ],
             [
              0.2222222222222222,
              "#7201a8"
             ],
             [
              0.3333333333333333,
              "#9c179e"
             ],
             [
              0.4444444444444444,
              "#bd3786"
             ],
             [
              0.5555555555555556,
              "#d8576b"
             ],
             [
              0.6666666666666666,
              "#ed7953"
             ],
             [
              0.7777777777777778,
              "#fb9f3a"
             ],
             [
              0.8888888888888888,
              "#fdca26"
             ],
             [
              1,
              "#f0f921"
             ]
            ],
            "type": "heatmapgl"
           }
          ],
          "histogram": [
           {
            "marker": {
             "pattern": {
              "fillmode": "overlay",
              "size": 10,
              "solidity": 0.2
             }
            },
            "type": "histogram"
           }
          ],
          "histogram2d": [
           {
            "colorbar": {
             "outlinewidth": 0,
             "ticks": ""
            },
            "colorscale": [
             [
              0,
              "#0d0887"
             ],
             [
              0.1111111111111111,
              "#46039f"
             ],
             [
              0.2222222222222222,
              "#7201a8"
             ],
             [
              0.3333333333333333,
              "#9c179e"
             ],
             [
              0.4444444444444444,
              "#bd3786"
             ],
             [
              0.5555555555555556,
              "#d8576b"
             ],
             [
              0.6666666666666666,
              "#ed7953"
             ],
             [
              0.7777777777777778,
              "#fb9f3a"
             ],
             [
              0.8888888888888888,
              "#fdca26"
             ],
             [
              1,
              "#f0f921"
             ]
            ],
            "type": "histogram2d"
           }
          ],
          "histogram2dcontour": [
           {
            "colorbar": {
             "outlinewidth": 0,
             "ticks": ""
            },
            "colorscale": [
             [
              0,
              "#0d0887"
             ],
             [
              0.1111111111111111,
              "#46039f"
             ],
             [
              0.2222222222222222,
              "#7201a8"
             ],
             [
              0.3333333333333333,
              "#9c179e"
             ],
             [
              0.4444444444444444,
              "#bd3786"
             ],
             [
              0.5555555555555556,
              "#d8576b"
             ],
             [
              0.6666666666666666,
              "#ed7953"
             ],
             [
              0.7777777777777778,
              "#fb9f3a"
             ],
             [
              0.8888888888888888,
              "#fdca26"
             ],
             [
              1,
              "#f0f921"
             ]
            ],
            "type": "histogram2dcontour"
           }
          ],
          "mesh3d": [
           {
            "colorbar": {
             "outlinewidth": 0,
             "ticks": ""
            },
            "type": "mesh3d"
           }
          ],
          "parcoords": [
           {
            "line": {
             "colorbar": {
              "outlinewidth": 0,
              "ticks": ""
             }
            },
            "type": "parcoords"
           }
          ],
          "pie": [
           {
            "automargin": true,
            "type": "pie"
           }
          ],
          "scatter": [
           {
            "fillpattern": {
             "fillmode": "overlay",
             "size": 10,
             "solidity": 0.2
            },
            "type": "scatter"
           }
          ],
          "scatter3d": [
           {
            "line": {
             "colorbar": {
              "outlinewidth": 0,
              "ticks": ""
             }
            },
            "marker": {
             "colorbar": {
              "outlinewidth": 0,
              "ticks": ""
             }
            },
            "type": "scatter3d"
           }
          ],
          "scattercarpet": [
           {
            "marker": {
             "colorbar": {
              "outlinewidth": 0,
              "ticks": ""
             }
            },
            "type": "scattercarpet"
           }
          ],
          "scattergeo": [
           {
            "marker": {
             "colorbar": {
              "outlinewidth": 0,
              "ticks": ""
             }
            },
            "type": "scattergeo"
           }
          ],
          "scattergl": [
           {
            "marker": {
             "colorbar": {
              "outlinewidth": 0,
              "ticks": ""
             }
            },
            "type": "scattergl"
           }
          ],
          "scattermapbox": [
           {
            "marker": {
             "colorbar": {
              "outlinewidth": 0,
              "ticks": ""
             }
            },
            "type": "scattermapbox"
           }
          ],
          "scatterpolar": [
           {
            "marker": {
             "colorbar": {
              "outlinewidth": 0,
              "ticks": ""
             }
            },
            "type": "scatterpolar"
           }
          ],
          "scatterpolargl": [
           {
            "marker": {
             "colorbar": {
              "outlinewidth": 0,
              "ticks": ""
             }
            },
            "type": "scatterpolargl"
           }
          ],
          "scatterternary": [
           {
            "marker": {
             "colorbar": {
              "outlinewidth": 0,
              "ticks": ""
             }
            },
            "type": "scatterternary"
           }
          ],
          "surface": [
           {
            "colorbar": {
             "outlinewidth": 0,
             "ticks": ""
            },
            "colorscale": [
             [
              0,
              "#0d0887"
             ],
             [
              0.1111111111111111,
              "#46039f"
             ],
             [
              0.2222222222222222,
              "#7201a8"
             ],
             [
              0.3333333333333333,
              "#9c179e"
             ],
             [
              0.4444444444444444,
              "#bd3786"
             ],
             [
              0.5555555555555556,
              "#d8576b"
             ],
             [
              0.6666666666666666,
              "#ed7953"
             ],
             [
              0.7777777777777778,
              "#fb9f3a"
             ],
             [
              0.8888888888888888,
              "#fdca26"
             ],
             [
              1,
              "#f0f921"
             ]
            ],
            "type": "surface"
           }
          ],
          "table": [
           {
            "cells": {
             "fill": {
              "color": "#EBF0F8"
             },
             "line": {
              "color": "white"
             }
            },
            "header": {
             "fill": {
              "color": "#C8D4E3"
             },
             "line": {
              "color": "white"
             }
            },
            "type": "table"
           }
          ]
         },
         "layout": {
          "annotationdefaults": {
           "arrowcolor": "#2a3f5f",
           "arrowhead": 0,
           "arrowwidth": 1
          },
          "autotypenumbers": "strict",
          "coloraxis": {
           "colorbar": {
            "outlinewidth": 0,
            "ticks": ""
           }
          },
          "colorscale": {
           "diverging": [
            [
             0,
             "#8e0152"
            ],
            [
             0.1,
             "#c51b7d"
            ],
            [
             0.2,
             "#de77ae"
            ],
            [
             0.3,
             "#f1b6da"
            ],
            [
             0.4,
             "#fde0ef"
            ],
            [
             0.5,
             "#f7f7f7"
            ],
            [
             0.6,
             "#e6f5d0"
            ],
            [
             0.7,
             "#b8e186"
            ],
            [
             0.8,
             "#7fbc41"
            ],
            [
             0.9,
             "#4d9221"
            ],
            [
             1,
             "#276419"
            ]
           ],
           "sequential": [
            [
             0,
             "#0d0887"
            ],
            [
             0.1111111111111111,
             "#46039f"
            ],
            [
             0.2222222222222222,
             "#7201a8"
            ],
            [
             0.3333333333333333,
             "#9c179e"
            ],
            [
             0.4444444444444444,
             "#bd3786"
            ],
            [
             0.5555555555555556,
             "#d8576b"
            ],
            [
             0.6666666666666666,
             "#ed7953"
            ],
            [
             0.7777777777777778,
             "#fb9f3a"
            ],
            [
             0.8888888888888888,
             "#fdca26"
            ],
            [
             1,
             "#f0f921"
            ]
           ],
           "sequentialminus": [
            [
             0,
             "#0d0887"
            ],
            [
             0.1111111111111111,
             "#46039f"
            ],
            [
             0.2222222222222222,
             "#7201a8"
            ],
            [
             0.3333333333333333,
             "#9c179e"
            ],
            [
             0.4444444444444444,
             "#bd3786"
            ],
            [
             0.5555555555555556,
             "#d8576b"
            ],
            [
             0.6666666666666666,
             "#ed7953"
            ],
            [
             0.7777777777777778,
             "#fb9f3a"
            ],
            [
             0.8888888888888888,
             "#fdca26"
            ],
            [
             1,
             "#f0f921"
            ]
           ]
          },
          "colorway": [
           "#636efa",
           "#EF553B",
           "#00cc96",
           "#ab63fa",
           "#FFA15A",
           "#19d3f3",
           "#FF6692",
           "#B6E880",
           "#FF97FF",
           "#FECB52"
          ],
          "font": {
           "color": "#2a3f5f"
          },
          "geo": {
           "bgcolor": "white",
           "lakecolor": "white",
           "landcolor": "#E5ECF6",
           "showlakes": true,
           "showland": true,
           "subunitcolor": "white"
          },
          "hoverlabel": {
           "align": "left"
          },
          "hovermode": "closest",
          "mapbox": {
           "style": "light"
          },
          "paper_bgcolor": "white",
          "plot_bgcolor": "#E5ECF6",
          "polar": {
           "angularaxis": {
            "gridcolor": "white",
            "linecolor": "white",
            "ticks": ""
           },
           "bgcolor": "#E5ECF6",
           "radialaxis": {
            "gridcolor": "white",
            "linecolor": "white",
            "ticks": ""
           }
          },
          "scene": {
           "xaxis": {
            "backgroundcolor": "#E5ECF6",
            "gridcolor": "white",
            "gridwidth": 2,
            "linecolor": "white",
            "showbackground": true,
            "ticks": "",
            "zerolinecolor": "white"
           },
           "yaxis": {
            "backgroundcolor": "#E5ECF6",
            "gridcolor": "white",
            "gridwidth": 2,
            "linecolor": "white",
            "showbackground": true,
            "ticks": "",
            "zerolinecolor": "white"
           },
           "zaxis": {
            "backgroundcolor": "#E5ECF6",
            "gridcolor": "white",
            "gridwidth": 2,
            "linecolor": "white",
            "showbackground": true,
            "ticks": "",
            "zerolinecolor": "white"
           }
          },
          "shapedefaults": {
           "line": {
            "color": "#2a3f5f"
           }
          },
          "ternary": {
           "aaxis": {
            "gridcolor": "white",
            "linecolor": "white",
            "ticks": ""
           },
           "baxis": {
            "gridcolor": "white",
            "linecolor": "white",
            "ticks": ""
           },
           "bgcolor": "#E5ECF6",
           "caxis": {
            "gridcolor": "white",
            "linecolor": "white",
            "ticks": ""
           }
          },
          "title": {
           "x": 0.05
          },
          "xaxis": {
           "automargin": true,
           "gridcolor": "white",
           "linecolor": "white",
           "ticks": "",
           "title": {
            "standoff": 15
           },
           "zerolinecolor": "white",
           "zerolinewidth": 2
          },
          "yaxis": {
           "automargin": true,
           "gridcolor": "white",
           "linecolor": "white",
           "ticks": "",
           "title": {
            "standoff": 15
           },
           "zerolinecolor": "white",
           "zerolinewidth": 2
          }
         }
        },
        "title": {
         "text": "Daily Transactions, Fraudulent Transactions, and Fraudulent Cards"
        },
        "xaxis": {
         "anchor": "y",
         "domain": [
          0,
          1
         ],
         "title": {
          "text": "trans_date"
         }
        },
        "yaxis": {
         "anchor": "x",
         "domain": [
          0,
          1
         ],
         "title": {
          "text": "Count"
         }
        }
       }
      }
     },
     "metadata": {},
     "output_type": "display_data"
    }
   ],
   "source": [
    "import plotly.express as px\n",
    "# Plot all three metrics on the same plot\n",
    "fig = px.line(daily_fraud_stats, x='trans_date', y=['num_transactions', 'num_fraud_transactions', 'num_fraud_cards'],\n",
    "              labels={'value': 'Count', 'variable': 'Metric'},\n",
    "              title='Daily Transactions, Fraudulent Transactions, and Fraudulent Cards')\n",
    "fig.show()"
   ]
  },
  {
   "cell_type": "markdown",
   "metadata": {},
   "source": [
    "December has the peak transaction volume due to christimas and new year. Transaction volume show a homogenous behaviour on a granular monthly level. And typycally the peak of number of fraud transaction detected is at one week after the peak of transaction volum, meaning that there is (potentially) an average of one week delay. "
   ]
  },
  {
   "cell_type": "markdown",
   "metadata": {},
   "source": [
    "### Transaction Consistency "
   ]
  },
  {
   "cell_type": "code",
   "execution_count": 26,
   "metadata": {},
   "outputs": [
    {
     "name": "stdout",
     "output_type": "stream",
     "text": [
      "\n",
      "Card Transaction Amount Consistency:\n",
      " 0.7566313765966384\n",
      "\n",
      "MerchantTransaction  Amount Consistency:\n",
      " 3.2026186971901316\n"
     ]
    }
   ],
   "source": [
    "# Calculate transaction counts\n",
    "card_counts = df.groupby('cc_num')['amt'].count() \n",
    "card_amounts = df.groupby('cc_num')['amt'].sum()\n",
    "merchant_counts = df.groupby('merchant')['amt'].count() \n",
    "merchant_amounts = df.groupby('merchant')['amt'].sum() \n",
    "\n",
    "card_amount_consistency = (card_amounts/card_counts).mean()/((card_amounts/card_counts).std()+0.1) #Add 0.1 to avoid explosion\n",
    "merchant_amount_consistency = (merchant_amounts/merchant_counts).mean()/((merchant_amounts/merchant_counts).std()+0.1) #Add 0.1 to avoid explosion\n",
    "\n",
    "print(\"\\nCard Transaction Amount Consistency:\\n\", card_amount_consistency)\n",
    "print(\"\\nMerchantTransaction  Amount Consistency:\\n\", merchant_amount_consistency)"
   ]
  },
  {
   "cell_type": "markdown",
   "metadata": {},
   "source": [
    "### Transaction Density and Sparsity"
   ]
  },
  {
   "cell_type": "code",
   "execution_count": 27,
   "metadata": {},
   "outputs": [
    {
     "name": "stdout",
     "output_type": "stream",
     "text": [
      "Card Transaction Count Sparsity:\n",
      " 0.40709584128636706\n",
      "\n",
      "MerchantTransaction Count Sparsity:\n",
      " 0.2869963560645497\n",
      "\n",
      "Card Transaction Amount Sparsity:\n",
      " 0.005786636097780993\n",
      "\n",
      "MerchantTransaction  Amount Sparsity:\n",
      " 0.004079490148283039\n"
     ]
    }
   ],
   "source": [
    " #Calculate sparsity as average transaction counts per card per day\n",
    "cards_count_sparsity, per_card_count_sparsity = len(df['trans_date'].unique())/ card_counts, len(df['trans_date'].unique())/ card_counts.mean()\n",
    "merchants_count_sparsity, per_merchant_count_sparsity = len(df['trans_date'].unique())/ merchant_counts, len(df['trans_date'].unique())/ merchant_counts.mean()\n",
    "\n",
    "# #Calculate sparsity as average transaction amounts (per card) per day\n",
    "cards_amount_sparsity, per_card_amount_sparsity = len(df['trans_date'].unique())/ card_amounts, len(df['trans_date'].unique())/ card_amounts.mean()\n",
    "merchants_amount_sparsity, per_merchant_amount_sparsity = len(df['trans_date'].unique())/ merchant_amounts, len(df['trans_date'].unique())/ merchant_amounts.mean()\n",
    "\n",
    "print(\"Card Transaction Count Sparsity:\\n\", per_card_count_sparsity)\n",
    "print(\"\\nMerchantTransaction Count Sparsity:\\n\", per_merchant_count_sparsity)\n",
    "print(\"\\nCard Transaction Amount Sparsity:\\n\", per_card_amount_sparsity)\n",
    "print(\"\\nMerchantTransaction  Amount Sparsity:\\n\", per_merchant_amount_sparsity)"
   ]
  },
  {
   "cell_type": "markdown",
   "metadata": {},
   "source": [
    "### Fraud by Location"
   ]
  },
  {
   "cell_type": "code",
   "execution_count": 17,
   "metadata": {},
   "outputs": [
    {
     "data": {
      "text/html": [
       "\n",
       "        <iframe\n",
       "            width=\"100%\"\n",
       "            height=\"650\"\n",
       "            src=\"http://127.0.0.1:8040/\"\n",
       "            frameborder=\"0\"\n",
       "            allowfullscreen\n",
       "            \n",
       "        ></iframe>\n",
       "        "
      ],
      "text/plain": [
       "<IPython.lib.display.IFrame at 0x13e230850>"
      ]
     },
     "metadata": {},
     "output_type": "display_data"
    }
   ],
   "source": [
    "fraud_transactions = df[df[\"is_fraud\"] == 1]\n",
    "fraud_map = FraudMap(fraud_transactions).run(port=8040)"
   ]
  },
  {
   "cell_type": "markdown",
   "metadata": {},
   "source": [
    "### Fraud by Gender"
   ]
  },
  {
   "cell_type": "code",
   "execution_count": 29,
   "metadata": {
    "vscode": {
     "languageId": "ruby"
    }
   },
   "outputs": [
    {
     "data": {
      "application/vnd.plotly.v1+json": {
       "config": {
        "plotlyServerURL": "https://plot.ly"
       },
       "data": [
        {
         "alignmentgroup": "True",
         "hovertemplate": "Gender=%{x}<br>Fraud Ratio=%{marker.color}<extra></extra>",
         "legendgroup": "",
         "marker": {
          "color": [
           0.005261578642639495,
           0.006426248951964172
          ],
          "coloraxis": "coloraxis",
          "pattern": {
           "shape": ""
          }
         },
         "name": "",
         "offsetgroup": "",
         "orientation": "v",
         "showlegend": false,
         "textposition": "auto",
         "type": "bar",
         "x": [
          "F",
          "M"
         ],
         "xaxis": "x",
         "y": [
          0.005261578642639495,
          0.006426248951964172
         ],
         "yaxis": "y"
        }
       ],
       "layout": {
        "barmode": "relative",
        "coloraxis": {
         "colorbar": {
          "title": {
           "text": "Fraud Ratio"
          }
         },
         "colorscale": [
          [
           0,
           "#440154"
          ],
          [
           0.1111111111111111,
           "#482878"
          ],
          [
           0.2222222222222222,
           "#3e4989"
          ],
          [
           0.3333333333333333,
           "#31688e"
          ],
          [
           0.4444444444444444,
           "#26828e"
          ],
          [
           0.5555555555555556,
           "#1f9e89"
          ],
          [
           0.6666666666666666,
           "#35b779"
          ],
          [
           0.7777777777777778,
           "#6ece58"
          ],
          [
           0.8888888888888888,
           "#b5de2b"
          ],
          [
           1,
           "#fde725"
          ]
         ]
        },
        "legend": {
         "tracegroupgap": 0
        },
        "template": {
         "data": {
          "bar": [
           {
            "error_x": {
             "color": "#2a3f5f"
            },
            "error_y": {
             "color": "#2a3f5f"
            },
            "marker": {
             "line": {
              "color": "#E5ECF6",
              "width": 0.5
             },
             "pattern": {
              "fillmode": "overlay",
              "size": 10,
              "solidity": 0.2
             }
            },
            "type": "bar"
           }
          ],
          "barpolar": [
           {
            "marker": {
             "line": {
              "color": "#E5ECF6",
              "width": 0.5
             },
             "pattern": {
              "fillmode": "overlay",
              "size": 10,
              "solidity": 0.2
             }
            },
            "type": "barpolar"
           }
          ],
          "carpet": [
           {
            "aaxis": {
             "endlinecolor": "#2a3f5f",
             "gridcolor": "white",
             "linecolor": "white",
             "minorgridcolor": "white",
             "startlinecolor": "#2a3f5f"
            },
            "baxis": {
             "endlinecolor": "#2a3f5f",
             "gridcolor": "white",
             "linecolor": "white",
             "minorgridcolor": "white",
             "startlinecolor": "#2a3f5f"
            },
            "type": "carpet"
           }
          ],
          "choropleth": [
           {
            "colorbar": {
             "outlinewidth": 0,
             "ticks": ""
            },
            "type": "choropleth"
           }
          ],
          "contour": [
           {
            "colorbar": {
             "outlinewidth": 0,
             "ticks": ""
            },
            "colorscale": [
             [
              0,
              "#0d0887"
             ],
             [
              0.1111111111111111,
              "#46039f"
             ],
             [
              0.2222222222222222,
              "#7201a8"
             ],
             [
              0.3333333333333333,
              "#9c179e"
             ],
             [
              0.4444444444444444,
              "#bd3786"
             ],
             [
              0.5555555555555556,
              "#d8576b"
             ],
             [
              0.6666666666666666,
              "#ed7953"
             ],
             [
              0.7777777777777778,
              "#fb9f3a"
             ],
             [
              0.8888888888888888,
              "#fdca26"
             ],
             [
              1,
              "#f0f921"
             ]
            ],
            "type": "contour"
           }
          ],
          "contourcarpet": [
           {
            "colorbar": {
             "outlinewidth": 0,
             "ticks": ""
            },
            "type": "contourcarpet"
           }
          ],
          "heatmap": [
           {
            "colorbar": {
             "outlinewidth": 0,
             "ticks": ""
            },
            "colorscale": [
             [
              0,
              "#0d0887"
             ],
             [
              0.1111111111111111,
              "#46039f"
             ],
             [
              0.2222222222222222,
              "#7201a8"
             ],
             [
              0.3333333333333333,
              "#9c179e"
             ],
             [
              0.4444444444444444,
              "#bd3786"
             ],
             [
              0.5555555555555556,
              "#d8576b"
             ],
             [
              0.6666666666666666,
              "#ed7953"
             ],
             [
              0.7777777777777778,
              "#fb9f3a"
             ],
             [
              0.8888888888888888,
              "#fdca26"
             ],
             [
              1,
              "#f0f921"
             ]
            ],
            "type": "heatmap"
           }
          ],
          "heatmapgl": [
           {
            "colorbar": {
             "outlinewidth": 0,
             "ticks": ""
            },
            "colorscale": [
             [
              0,
              "#0d0887"
             ],
             [
              0.1111111111111111,
              "#46039f"
             ],
             [
              0.2222222222222222,
              "#7201a8"
             ],
             [
              0.3333333333333333,
              "#9c179e"
             ],
             [
              0.4444444444444444,
              "#bd3786"
             ],
             [
              0.5555555555555556,
              "#d8576b"
             ],
             [
              0.6666666666666666,
              "#ed7953"
             ],
             [
              0.7777777777777778,
              "#fb9f3a"
             ],
             [
              0.8888888888888888,
              "#fdca26"
             ],
             [
              1,
              "#f0f921"
             ]
            ],
            "type": "heatmapgl"
           }
          ],
          "histogram": [
           {
            "marker": {
             "pattern": {
              "fillmode": "overlay",
              "size": 10,
              "solidity": 0.2
             }
            },
            "type": "histogram"
           }
          ],
          "histogram2d": [
           {
            "colorbar": {
             "outlinewidth": 0,
             "ticks": ""
            },
            "colorscale": [
             [
              0,
              "#0d0887"
             ],
             [
              0.1111111111111111,
              "#46039f"
             ],
             [
              0.2222222222222222,
              "#7201a8"
             ],
             [
              0.3333333333333333,
              "#9c179e"
             ],
             [
              0.4444444444444444,
              "#bd3786"
             ],
             [
              0.5555555555555556,
              "#d8576b"
             ],
             [
              0.6666666666666666,
              "#ed7953"
             ],
             [
              0.7777777777777778,
              "#fb9f3a"
             ],
             [
              0.8888888888888888,
              "#fdca26"
             ],
             [
              1,
              "#f0f921"
             ]
            ],
            "type": "histogram2d"
           }
          ],
          "histogram2dcontour": [
           {
            "colorbar": {
             "outlinewidth": 0,
             "ticks": ""
            },
            "colorscale": [
             [
              0,
              "#0d0887"
             ],
             [
              0.1111111111111111,
              "#46039f"
             ],
             [
              0.2222222222222222,
              "#7201a8"
             ],
             [
              0.3333333333333333,
              "#9c179e"
             ],
             [
              0.4444444444444444,
              "#bd3786"
             ],
             [
              0.5555555555555556,
              "#d8576b"
             ],
             [
              0.6666666666666666,
              "#ed7953"
             ],
             [
              0.7777777777777778,
              "#fb9f3a"
             ],
             [
              0.8888888888888888,
              "#fdca26"
             ],
             [
              1,
              "#f0f921"
             ]
            ],
            "type": "histogram2dcontour"
           }
          ],
          "mesh3d": [
           {
            "colorbar": {
             "outlinewidth": 0,
             "ticks": ""
            },
            "type": "mesh3d"
           }
          ],
          "parcoords": [
           {
            "line": {
             "colorbar": {
              "outlinewidth": 0,
              "ticks": ""
             }
            },
            "type": "parcoords"
           }
          ],
          "pie": [
           {
            "automargin": true,
            "type": "pie"
           }
          ],
          "scatter": [
           {
            "fillpattern": {
             "fillmode": "overlay",
             "size": 10,
             "solidity": 0.2
            },
            "type": "scatter"
           }
          ],
          "scatter3d": [
           {
            "line": {
             "colorbar": {
              "outlinewidth": 0,
              "ticks": ""
             }
            },
            "marker": {
             "colorbar": {
              "outlinewidth": 0,
              "ticks": ""
             }
            },
            "type": "scatter3d"
           }
          ],
          "scattercarpet": [
           {
            "marker": {
             "colorbar": {
              "outlinewidth": 0,
              "ticks": ""
             }
            },
            "type": "scattercarpet"
           }
          ],
          "scattergeo": [
           {
            "marker": {
             "colorbar": {
              "outlinewidth": 0,
              "ticks": ""
             }
            },
            "type": "scattergeo"
           }
          ],
          "scattergl": [
           {
            "marker": {
             "colorbar": {
              "outlinewidth": 0,
              "ticks": ""
             }
            },
            "type": "scattergl"
           }
          ],
          "scattermapbox": [
           {
            "marker": {
             "colorbar": {
              "outlinewidth": 0,
              "ticks": ""
             }
            },
            "type": "scattermapbox"
           }
          ],
          "scatterpolar": [
           {
            "marker": {
             "colorbar": {
              "outlinewidth": 0,
              "ticks": ""
             }
            },
            "type": "scatterpolar"
           }
          ],
          "scatterpolargl": [
           {
            "marker": {
             "colorbar": {
              "outlinewidth": 0,
              "ticks": ""
             }
            },
            "type": "scatterpolargl"
           }
          ],
          "scatterternary": [
           {
            "marker": {
             "colorbar": {
              "outlinewidth": 0,
              "ticks": ""
             }
            },
            "type": "scatterternary"
           }
          ],
          "surface": [
           {
            "colorbar": {
             "outlinewidth": 0,
             "ticks": ""
            },
            "colorscale": [
             [
              0,
              "#0d0887"
             ],
             [
              0.1111111111111111,
              "#46039f"
             ],
             [
              0.2222222222222222,
              "#7201a8"
             ],
             [
              0.3333333333333333,
              "#9c179e"
             ],
             [
              0.4444444444444444,
              "#bd3786"
             ],
             [
              0.5555555555555556,
              "#d8576b"
             ],
             [
              0.6666666666666666,
              "#ed7953"
             ],
             [
              0.7777777777777778,
              "#fb9f3a"
             ],
             [
              0.8888888888888888,
              "#fdca26"
             ],
             [
              1,
              "#f0f921"
             ]
            ],
            "type": "surface"
           }
          ],
          "table": [
           {
            "cells": {
             "fill": {
              "color": "#EBF0F8"
             },
             "line": {
              "color": "white"
             }
            },
            "header": {
             "fill": {
              "color": "#C8D4E3"
             },
             "line": {
              "color": "white"
             }
            },
            "type": "table"
           }
          ]
         },
         "layout": {
          "annotationdefaults": {
           "arrowcolor": "#2a3f5f",
           "arrowhead": 0,
           "arrowwidth": 1
          },
          "autotypenumbers": "strict",
          "coloraxis": {
           "colorbar": {
            "outlinewidth": 0,
            "ticks": ""
           }
          },
          "colorscale": {
           "diverging": [
            [
             0,
             "#8e0152"
            ],
            [
             0.1,
             "#c51b7d"
            ],
            [
             0.2,
             "#de77ae"
            ],
            [
             0.3,
             "#f1b6da"
            ],
            [
             0.4,
             "#fde0ef"
            ],
            [
             0.5,
             "#f7f7f7"
            ],
            [
             0.6,
             "#e6f5d0"
            ],
            [
             0.7,
             "#b8e186"
            ],
            [
             0.8,
             "#7fbc41"
            ],
            [
             0.9,
             "#4d9221"
            ],
            [
             1,
             "#276419"
            ]
           ],
           "sequential": [
            [
             0,
             "#0d0887"
            ],
            [
             0.1111111111111111,
             "#46039f"
            ],
            [
             0.2222222222222222,
             "#7201a8"
            ],
            [
             0.3333333333333333,
             "#9c179e"
            ],
            [
             0.4444444444444444,
             "#bd3786"
            ],
            [
             0.5555555555555556,
             "#d8576b"
            ],
            [
             0.6666666666666666,
             "#ed7953"
            ],
            [
             0.7777777777777778,
             "#fb9f3a"
            ],
            [
             0.8888888888888888,
             "#fdca26"
            ],
            [
             1,
             "#f0f921"
            ]
           ],
           "sequentialminus": [
            [
             0,
             "#0d0887"
            ],
            [
             0.1111111111111111,
             "#46039f"
            ],
            [
             0.2222222222222222,
             "#7201a8"
            ],
            [
             0.3333333333333333,
             "#9c179e"
            ],
            [
             0.4444444444444444,
             "#bd3786"
            ],
            [
             0.5555555555555556,
             "#d8576b"
            ],
            [
             0.6666666666666666,
             "#ed7953"
            ],
            [
             0.7777777777777778,
             "#fb9f3a"
            ],
            [
             0.8888888888888888,
             "#fdca26"
            ],
            [
             1,
             "#f0f921"
            ]
           ]
          },
          "colorway": [
           "#636efa",
           "#EF553B",
           "#00cc96",
           "#ab63fa",
           "#FFA15A",
           "#19d3f3",
           "#FF6692",
           "#B6E880",
           "#FF97FF",
           "#FECB52"
          ],
          "font": {
           "color": "#2a3f5f"
          },
          "geo": {
           "bgcolor": "white",
           "lakecolor": "white",
           "landcolor": "#E5ECF6",
           "showlakes": true,
           "showland": true,
           "subunitcolor": "white"
          },
          "hoverlabel": {
           "align": "left"
          },
          "hovermode": "closest",
          "mapbox": {
           "style": "light"
          },
          "paper_bgcolor": "white",
          "plot_bgcolor": "#E5ECF6",
          "polar": {
           "angularaxis": {
            "gridcolor": "white",
            "linecolor": "white",
            "ticks": ""
           },
           "bgcolor": "#E5ECF6",
           "radialaxis": {
            "gridcolor": "white",
            "linecolor": "white",
            "ticks": ""
           }
          },
          "scene": {
           "xaxis": {
            "backgroundcolor": "#E5ECF6",
            "gridcolor": "white",
            "gridwidth": 2,
            "linecolor": "white",
            "showbackground": true,
            "ticks": "",
            "zerolinecolor": "white"
           },
           "yaxis": {
            "backgroundcolor": "#E5ECF6",
            "gridcolor": "white",
            "gridwidth": 2,
            "linecolor": "white",
            "showbackground": true,
            "ticks": "",
            "zerolinecolor": "white"
           },
           "zaxis": {
            "backgroundcolor": "#E5ECF6",
            "gridcolor": "white",
            "gridwidth": 2,
            "linecolor": "white",
            "showbackground": true,
            "ticks": "",
            "zerolinecolor": "white"
           }
          },
          "shapedefaults": {
           "line": {
            "color": "#2a3f5f"
           }
          },
          "ternary": {
           "aaxis": {
            "gridcolor": "white",
            "linecolor": "white",
            "ticks": ""
           },
           "baxis": {
            "gridcolor": "white",
            "linecolor": "white",
            "ticks": ""
           },
           "bgcolor": "#E5ECF6",
           "caxis": {
            "gridcolor": "white",
            "linecolor": "white",
            "ticks": ""
           }
          },
          "title": {
           "x": 0.05
          },
          "xaxis": {
           "automargin": true,
           "gridcolor": "white",
           "linecolor": "white",
           "ticks": "",
           "title": {
            "standoff": 15
           },
           "zerolinecolor": "white",
           "zerolinewidth": 2
          },
          "yaxis": {
           "automargin": true,
           "gridcolor": "white",
           "linecolor": "white",
           "ticks": "",
           "title": {
            "standoff": 15
           },
           "zerolinecolor": "white",
           "zerolinewidth": 2
          }
         }
        },
        "title": {
         "text": "Ratio of Fraud Transactions by Gender"
        },
        "xaxis": {
         "anchor": "y",
         "domain": [
          0,
          1
         ],
         "tickangle": -45,
         "title": {
          "text": "Gender"
         }
        },
        "yaxis": {
         "anchor": "x",
         "domain": [
          0,
          1
         ],
         "title": {
          "text": "Fraud Ratio"
         }
        }
       }
      }
     },
     "metadata": {},
     "output_type": "display_data"
    }
   ],
   "source": [
    "# Calculate the fraud ratio by gender\n",
    "fraud_ratio_by_gender = df.groupby(\"gender\")[\"is_fraud\"].mean().reset_index()\n",
    "import plotly.express as px\n",
    "\n",
    "# Plot the fraud ratio by gender using plotly\n",
    "fig = px.bar(fraud_ratio_by_gender, x=\"gender\", y=\"is_fraud\", \n",
    "             title=\"Ratio of Fraud Transactions by Gender\", \n",
    "             labels={\"gender\": \"Gender\", \"is_fraud\": \"Fraud Ratio\"},\n",
    "             color=\"is_fraud\", color_continuous_scale=\"viridis\")\n",
    "\n",
    "fig.update_layout(xaxis_tickangle=-45)\n",
    "fig.show()"
   ]
  },
  {
   "cell_type": "markdown",
   "metadata": {},
   "source": [
    "### Fraud by Job"
   ]
  },
  {
   "cell_type": "markdown",
   "metadata": {},
   "source": [
    "I divide the jobs into 12 categories with the help from Gemini and Chatgpt: \n",
    "1. Healthcare & Medical\n",
    "2. Engineering & Technology\n",
    "3. Finance, Banking & Insurance\n",
    "4. Education & Research\n",
    "5. Creative Arts, Design & Media\n",
    "6. Legal & Public Sector\n",
    "7. Business, Management & Consultancy\n",
    "8. Science & Research\n",
    "9. Logistics, Transport & Supply Chain\n",
    "10. Construction & Property\n",
    "11. Hospitality, Tourism & Leisure\n",
    "12. Other"
   ]
  },
  {
   "cell_type": "code",
   "execution_count": 30,
   "metadata": {},
   "outputs": [],
   "source": [
    "# Load job normalisation gazetteer\n",
    "with open('../jobs_by_category.json', 'r') as f:\n",
    "    job_categories = json.load(f)"
   ]
  },
  {
   "cell_type": "code",
   "execution_count": 31,
   "metadata": {},
   "outputs": [],
   "source": [
    "# normalize and categorize the job column \n",
    "df_cat_job = categorize_jobs(df_enc_gender, \"job\", job_categories)"
   ]
  },
  {
   "cell_type": "code",
   "execution_count": 32,
   "metadata": {},
   "outputs": [
    {
     "data": {
      "application/vnd.plotly.v1+json": {
       "config": {
        "plotlyServerURL": "https://plot.ly"
       },
       "data": [
        {
         "alignmentgroup": "True",
         "hovertemplate": "Job Category=%{x}<br>Number of Fraud Transactions=%{marker.color}<extra></extra>",
         "legendgroup": "",
         "marker": {
          "color": [
           0.01032586831165348,
           0.007214742904824414,
           0.006689560295306806,
           0.00616342039912635,
           0.0061400247208851285,
           0.005716766417411748,
           0.00565275344922641,
           0.005570228692310581,
           0.005406724691398882,
           0.005309763165136872,
           0.004705999900084928
          ],
          "coloraxis": "coloraxis",
          "pattern": {
           "shape": ""
          }
         },
         "name": "",
         "offsetgroup": "",
         "orientation": "v",
         "showlegend": false,
         "textposition": "auto",
         "type": "bar",
         "x": [
          "Logistics, Transport & Supply Chain",
          "Legal & Public Sector",
          "Business, Management & Consultancy",
          "Hospitality, Tourism & Leisure",
          "Education & Research",
          "Healthcare & Medical",
          "Science & Research",
          "Construction & Property",
          "Creative Arts, Design & Media",
          "Engineering & Technology",
          "Finance, Banking & Insurance"
         ],
         "xaxis": "x",
         "y": [
          0.01032586831165348,
          0.007214742904824414,
          0.006689560295306806,
          0.00616342039912635,
          0.0061400247208851285,
          0.005716766417411748,
          0.00565275344922641,
          0.005570228692310581,
          0.005406724691398882,
          0.005309763165136872,
          0.004705999900084928
         ],
         "yaxis": "y"
        }
       ],
       "layout": {
        "barmode": "relative",
        "coloraxis": {
         "colorbar": {
          "title": {
           "text": "Number of Fraud Transactions"
          }
         },
         "colorscale": [
          [
           0,
           "#440154"
          ],
          [
           0.1111111111111111,
           "#482878"
          ],
          [
           0.2222222222222222,
           "#3e4989"
          ],
          [
           0.3333333333333333,
           "#31688e"
          ],
          [
           0.4444444444444444,
           "#26828e"
          ],
          [
           0.5555555555555556,
           "#1f9e89"
          ],
          [
           0.6666666666666666,
           "#35b779"
          ],
          [
           0.7777777777777778,
           "#6ece58"
          ],
          [
           0.8888888888888888,
           "#b5de2b"
          ],
          [
           1,
           "#fde725"
          ]
         ]
        },
        "legend": {
         "tracegroupgap": 0
        },
        "template": {
         "data": {
          "bar": [
           {
            "error_x": {
             "color": "#2a3f5f"
            },
            "error_y": {
             "color": "#2a3f5f"
            },
            "marker": {
             "line": {
              "color": "#E5ECF6",
              "width": 0.5
             },
             "pattern": {
              "fillmode": "overlay",
              "size": 10,
              "solidity": 0.2
             }
            },
            "type": "bar"
           }
          ],
          "barpolar": [
           {
            "marker": {
             "line": {
              "color": "#E5ECF6",
              "width": 0.5
             },
             "pattern": {
              "fillmode": "overlay",
              "size": 10,
              "solidity": 0.2
             }
            },
            "type": "barpolar"
           }
          ],
          "carpet": [
           {
            "aaxis": {
             "endlinecolor": "#2a3f5f",
             "gridcolor": "white",
             "linecolor": "white",
             "minorgridcolor": "white",
             "startlinecolor": "#2a3f5f"
            },
            "baxis": {
             "endlinecolor": "#2a3f5f",
             "gridcolor": "white",
             "linecolor": "white",
             "minorgridcolor": "white",
             "startlinecolor": "#2a3f5f"
            },
            "type": "carpet"
           }
          ],
          "choropleth": [
           {
            "colorbar": {
             "outlinewidth": 0,
             "ticks": ""
            },
            "type": "choropleth"
           }
          ],
          "contour": [
           {
            "colorbar": {
             "outlinewidth": 0,
             "ticks": ""
            },
            "colorscale": [
             [
              0,
              "#0d0887"
             ],
             [
              0.1111111111111111,
              "#46039f"
             ],
             [
              0.2222222222222222,
              "#7201a8"
             ],
             [
              0.3333333333333333,
              "#9c179e"
             ],
             [
              0.4444444444444444,
              "#bd3786"
             ],
             [
              0.5555555555555556,
              "#d8576b"
             ],
             [
              0.6666666666666666,
              "#ed7953"
             ],
             [
              0.7777777777777778,
              "#fb9f3a"
             ],
             [
              0.8888888888888888,
              "#fdca26"
             ],
             [
              1,
              "#f0f921"
             ]
            ],
            "type": "contour"
           }
          ],
          "contourcarpet": [
           {
            "colorbar": {
             "outlinewidth": 0,
             "ticks": ""
            },
            "type": "contourcarpet"
           }
          ],
          "heatmap": [
           {
            "colorbar": {
             "outlinewidth": 0,
             "ticks": ""
            },
            "colorscale": [
             [
              0,
              "#0d0887"
             ],
             [
              0.1111111111111111,
              "#46039f"
             ],
             [
              0.2222222222222222,
              "#7201a8"
             ],
             [
              0.3333333333333333,
              "#9c179e"
             ],
             [
              0.4444444444444444,
              "#bd3786"
             ],
             [
              0.5555555555555556,
              "#d8576b"
             ],
             [
              0.6666666666666666,
              "#ed7953"
             ],
             [
              0.7777777777777778,
              "#fb9f3a"
             ],
             [
              0.8888888888888888,
              "#fdca26"
             ],
             [
              1,
              "#f0f921"
             ]
            ],
            "type": "heatmap"
           }
          ],
          "heatmapgl": [
           {
            "colorbar": {
             "outlinewidth": 0,
             "ticks": ""
            },
            "colorscale": [
             [
              0,
              "#0d0887"
             ],
             [
              0.1111111111111111,
              "#46039f"
             ],
             [
              0.2222222222222222,
              "#7201a8"
             ],
             [
              0.3333333333333333,
              "#9c179e"
             ],
             [
              0.4444444444444444,
              "#bd3786"
             ],
             [
              0.5555555555555556,
              "#d8576b"
             ],
             [
              0.6666666666666666,
              "#ed7953"
             ],
             [
              0.7777777777777778,
              "#fb9f3a"
             ],
             [
              0.8888888888888888,
              "#fdca26"
             ],
             [
              1,
              "#f0f921"
             ]
            ],
            "type": "heatmapgl"
           }
          ],
          "histogram": [
           {
            "marker": {
             "pattern": {
              "fillmode": "overlay",
              "size": 10,
              "solidity": 0.2
             }
            },
            "type": "histogram"
           }
          ],
          "histogram2d": [
           {
            "colorbar": {
             "outlinewidth": 0,
             "ticks": ""
            },
            "colorscale": [
             [
              0,
              "#0d0887"
             ],
             [
              0.1111111111111111,
              "#46039f"
             ],
             [
              0.2222222222222222,
              "#7201a8"
             ],
             [
              0.3333333333333333,
              "#9c179e"
             ],
             [
              0.4444444444444444,
              "#bd3786"
             ],
             [
              0.5555555555555556,
              "#d8576b"
             ],
             [
              0.6666666666666666,
              "#ed7953"
             ],
             [
              0.7777777777777778,
              "#fb9f3a"
             ],
             [
              0.8888888888888888,
              "#fdca26"
             ],
             [
              1,
              "#f0f921"
             ]
            ],
            "type": "histogram2d"
           }
          ],
          "histogram2dcontour": [
           {
            "colorbar": {
             "outlinewidth": 0,
             "ticks": ""
            },
            "colorscale": [
             [
              0,
              "#0d0887"
             ],
             [
              0.1111111111111111,
              "#46039f"
             ],
             [
              0.2222222222222222,
              "#7201a8"
             ],
             [
              0.3333333333333333,
              "#9c179e"
             ],
             [
              0.4444444444444444,
              "#bd3786"
             ],
             [
              0.5555555555555556,
              "#d8576b"
             ],
             [
              0.6666666666666666,
              "#ed7953"
             ],
             [
              0.7777777777777778,
              "#fb9f3a"
             ],
             [
              0.8888888888888888,
              "#fdca26"
             ],
             [
              1,
              "#f0f921"
             ]
            ],
            "type": "histogram2dcontour"
           }
          ],
          "mesh3d": [
           {
            "colorbar": {
             "outlinewidth": 0,
             "ticks": ""
            },
            "type": "mesh3d"
           }
          ],
          "parcoords": [
           {
            "line": {
             "colorbar": {
              "outlinewidth": 0,
              "ticks": ""
             }
            },
            "type": "parcoords"
           }
          ],
          "pie": [
           {
            "automargin": true,
            "type": "pie"
           }
          ],
          "scatter": [
           {
            "fillpattern": {
             "fillmode": "overlay",
             "size": 10,
             "solidity": 0.2
            },
            "type": "scatter"
           }
          ],
          "scatter3d": [
           {
            "line": {
             "colorbar": {
              "outlinewidth": 0,
              "ticks": ""
             }
            },
            "marker": {
             "colorbar": {
              "outlinewidth": 0,
              "ticks": ""
             }
            },
            "type": "scatter3d"
           }
          ],
          "scattercarpet": [
           {
            "marker": {
             "colorbar": {
              "outlinewidth": 0,
              "ticks": ""
             }
            },
            "type": "scattercarpet"
           }
          ],
          "scattergeo": [
           {
            "marker": {
             "colorbar": {
              "outlinewidth": 0,
              "ticks": ""
             }
            },
            "type": "scattergeo"
           }
          ],
          "scattergl": [
           {
            "marker": {
             "colorbar": {
              "outlinewidth": 0,
              "ticks": ""
             }
            },
            "type": "scattergl"
           }
          ],
          "scattermapbox": [
           {
            "marker": {
             "colorbar": {
              "outlinewidth": 0,
              "ticks": ""
             }
            },
            "type": "scattermapbox"
           }
          ],
          "scatterpolar": [
           {
            "marker": {
             "colorbar": {
              "outlinewidth": 0,
              "ticks": ""
             }
            },
            "type": "scatterpolar"
           }
          ],
          "scatterpolargl": [
           {
            "marker": {
             "colorbar": {
              "outlinewidth": 0,
              "ticks": ""
             }
            },
            "type": "scatterpolargl"
           }
          ],
          "scatterternary": [
           {
            "marker": {
             "colorbar": {
              "outlinewidth": 0,
              "ticks": ""
             }
            },
            "type": "scatterternary"
           }
          ],
          "surface": [
           {
            "colorbar": {
             "outlinewidth": 0,
             "ticks": ""
            },
            "colorscale": [
             [
              0,
              "#0d0887"
             ],
             [
              0.1111111111111111,
              "#46039f"
             ],
             [
              0.2222222222222222,
              "#7201a8"
             ],
             [
              0.3333333333333333,
              "#9c179e"
             ],
             [
              0.4444444444444444,
              "#bd3786"
             ],
             [
              0.5555555555555556,
              "#d8576b"
             ],
             [
              0.6666666666666666,
              "#ed7953"
             ],
             [
              0.7777777777777778,
              "#fb9f3a"
             ],
             [
              0.8888888888888888,
              "#fdca26"
             ],
             [
              1,
              "#f0f921"
             ]
            ],
            "type": "surface"
           }
          ],
          "table": [
           {
            "cells": {
             "fill": {
              "color": "#EBF0F8"
             },
             "line": {
              "color": "white"
             }
            },
            "header": {
             "fill": {
              "color": "#C8D4E3"
             },
             "line": {
              "color": "white"
             }
            },
            "type": "table"
           }
          ]
         },
         "layout": {
          "annotationdefaults": {
           "arrowcolor": "#2a3f5f",
           "arrowhead": 0,
           "arrowwidth": 1
          },
          "autotypenumbers": "strict",
          "coloraxis": {
           "colorbar": {
            "outlinewidth": 0,
            "ticks": ""
           }
          },
          "colorscale": {
           "diverging": [
            [
             0,
             "#8e0152"
            ],
            [
             0.1,
             "#c51b7d"
            ],
            [
             0.2,
             "#de77ae"
            ],
            [
             0.3,
             "#f1b6da"
            ],
            [
             0.4,
             "#fde0ef"
            ],
            [
             0.5,
             "#f7f7f7"
            ],
            [
             0.6,
             "#e6f5d0"
            ],
            [
             0.7,
             "#b8e186"
            ],
            [
             0.8,
             "#7fbc41"
            ],
            [
             0.9,
             "#4d9221"
            ],
            [
             1,
             "#276419"
            ]
           ],
           "sequential": [
            [
             0,
             "#0d0887"
            ],
            [
             0.1111111111111111,
             "#46039f"
            ],
            [
             0.2222222222222222,
             "#7201a8"
            ],
            [
             0.3333333333333333,
             "#9c179e"
            ],
            [
             0.4444444444444444,
             "#bd3786"
            ],
            [
             0.5555555555555556,
             "#d8576b"
            ],
            [
             0.6666666666666666,
             "#ed7953"
            ],
            [
             0.7777777777777778,
             "#fb9f3a"
            ],
            [
             0.8888888888888888,
             "#fdca26"
            ],
            [
             1,
             "#f0f921"
            ]
           ],
           "sequentialminus": [
            [
             0,
             "#0d0887"
            ],
            [
             0.1111111111111111,
             "#46039f"
            ],
            [
             0.2222222222222222,
             "#7201a8"
            ],
            [
             0.3333333333333333,
             "#9c179e"
            ],
            [
             0.4444444444444444,
             "#bd3786"
            ],
            [
             0.5555555555555556,
             "#d8576b"
            ],
            [
             0.6666666666666666,
             "#ed7953"
            ],
            [
             0.7777777777777778,
             "#fb9f3a"
            ],
            [
             0.8888888888888888,
             "#fdca26"
            ],
            [
             1,
             "#f0f921"
            ]
           ]
          },
          "colorway": [
           "#636efa",
           "#EF553B",
           "#00cc96",
           "#ab63fa",
           "#FFA15A",
           "#19d3f3",
           "#FF6692",
           "#B6E880",
           "#FF97FF",
           "#FECB52"
          ],
          "font": {
           "color": "#2a3f5f"
          },
          "geo": {
           "bgcolor": "white",
           "lakecolor": "white",
           "landcolor": "#E5ECF6",
           "showlakes": true,
           "showland": true,
           "subunitcolor": "white"
          },
          "hoverlabel": {
           "align": "left"
          },
          "hovermode": "closest",
          "mapbox": {
           "style": "light"
          },
          "paper_bgcolor": "white",
          "plot_bgcolor": "#E5ECF6",
          "polar": {
           "angularaxis": {
            "gridcolor": "white",
            "linecolor": "white",
            "ticks": ""
           },
           "bgcolor": "#E5ECF6",
           "radialaxis": {
            "gridcolor": "white",
            "linecolor": "white",
            "ticks": ""
           }
          },
          "scene": {
           "xaxis": {
            "backgroundcolor": "#E5ECF6",
            "gridcolor": "white",
            "gridwidth": 2,
            "linecolor": "white",
            "showbackground": true,
            "ticks": "",
            "zerolinecolor": "white"
           },
           "yaxis": {
            "backgroundcolor": "#E5ECF6",
            "gridcolor": "white",
            "gridwidth": 2,
            "linecolor": "white",
            "showbackground": true,
            "ticks": "",
            "zerolinecolor": "white"
           },
           "zaxis": {
            "backgroundcolor": "#E5ECF6",
            "gridcolor": "white",
            "gridwidth": 2,
            "linecolor": "white",
            "showbackground": true,
            "ticks": "",
            "zerolinecolor": "white"
           }
          },
          "shapedefaults": {
           "line": {
            "color": "#2a3f5f"
           }
          },
          "ternary": {
           "aaxis": {
            "gridcolor": "white",
            "linecolor": "white",
            "ticks": ""
           },
           "baxis": {
            "gridcolor": "white",
            "linecolor": "white",
            "ticks": ""
           },
           "bgcolor": "#E5ECF6",
           "caxis": {
            "gridcolor": "white",
            "linecolor": "white",
            "ticks": ""
           }
          },
          "title": {
           "x": 0.05
          },
          "xaxis": {
           "automargin": true,
           "gridcolor": "white",
           "linecolor": "white",
           "ticks": "",
           "title": {
            "standoff": 15
           },
           "zerolinecolor": "white",
           "zerolinewidth": 2
          },
          "yaxis": {
           "automargin": true,
           "gridcolor": "white",
           "linecolor": "white",
           "ticks": "",
           "title": {
            "standoff": 15
           },
           "zerolinecolor": "white",
           "zerolinewidth": 2
          }
         }
        },
        "title": {
         "text": "Fraud Transactions by Job Category"
        },
        "xaxis": {
         "anchor": "y",
         "domain": [
          0,
          1
         ],
         "tickangle": -45,
         "title": {
          "text": "Job Category"
         }
        },
        "yaxis": {
         "anchor": "x",
         "domain": [
          0,
          1
         ],
         "title": {
          "text": "Number of Fraud Transactions"
         }
        }
       }
      }
     },
     "metadata": {},
     "output_type": "display_data"
    }
   ],
   "source": [
    "fraud_by_job_category = df_cat_job.groupby(\"job_category\")[\"is_fraud\"].mean().reset_index(name=\"fraud_count\")\n",
    "# Sort the dataframe by fraud_count\n",
    "fraud_by_job_category = fraud_by_job_category.sort_values(by=\"fraud_count\", ascending=False)\n",
    "\n",
    "# Plot the fraud transactions by job category using plotly\n",
    "fig = px.bar(fraud_by_job_category, x=\"job_category\", y=\"fraud_count\", \n",
    "             title=\"Fraud Transactions by Job Category\", \n",
    "             labels={\"job_category\": \"Job Category\", \"fraud_count\": \"Number of Fraud Transactions\"},\n",
    "             color=\"fraud_count\", color_continuous_scale=\"viridis\")\n",
    "\n",
    "fig.update_layout(xaxis_tickangle=-45)\n",
    "fig.show()"
   ]
  },
  {
   "cell_type": "markdown",
   "metadata": {},
   "source": [
    "### Fraud by Merchant Category"
   ]
  },
  {
   "cell_type": "code",
   "execution_count": 33,
   "metadata": {},
   "outputs": [
    {
     "data": {
      "text/plain": [
       "array(['misc_net', 'grocery_pos', 'entertainment', 'gas_transport',\n",
       "       'misc_pos', 'grocery_net', 'shopping_net', 'shopping_pos',\n",
       "       'food_dining', 'personal_care', 'health_fitness', 'travel',\n",
       "       'kids_pets', 'home'], dtype=object)"
      ]
     },
     "execution_count": 33,
     "metadata": {},
     "output_type": "execute_result"
    }
   ],
   "source": [
    "df_enc_gender.category.unique()"
   ]
  },
  {
   "cell_type": "code",
   "execution_count": 34,
   "metadata": {},
   "outputs": [
    {
     "data": {
      "application/vnd.plotly.v1+json": {
       "config": {
        "plotlyServerURL": "https://plot.ly"
       },
       "data": [
        {
         "alignmentgroup": "True",
         "hovertemplate": "Category=%{x}<br>Fraud Transaction Rate=%{marker.color}<extra></extra>",
         "legendgroup": "",
         "marker": {
          "color": [
           0.017561485703740914,
           0.014457945549638947,
           0.014097607531665023,
           0.007225383982446517,
           0.004693944204346076,
           0.003138534931893792,
           0.0029481650972454456,
           0.0028637025699261858,
           0.0024783542876592847,
           0.002424028735758831,
           0.0021143893484319018,
           0.0016509769191239982,
           0.0016082524468992406,
           0.0015486905995645036
          ],
          "coloraxis": "coloraxis",
          "pattern": {
           "shape": ""
          }
         },
         "name": "",
         "offsetgroup": "",
         "orientation": "v",
         "showlegend": false,
         "textposition": "auto",
         "type": "bar",
         "x": [
          "shopping_net",
          "misc_net",
          "grocery_pos",
          "shopping_pos",
          "gas_transport",
          "misc_pos",
          "grocery_net",
          "travel",
          "entertainment",
          "personal_care",
          "kids_pets",
          "food_dining",
          "home",
          "health_fitness"
         ],
         "xaxis": "x",
         "y": [
          0.017561485703740914,
          0.014457945549638947,
          0.014097607531665023,
          0.007225383982446517,
          0.004693944204346076,
          0.003138534931893792,
          0.0029481650972454456,
          0.0028637025699261858,
          0.0024783542876592847,
          0.002424028735758831,
          0.0021143893484319018,
          0.0016509769191239982,
          0.0016082524468992406,
          0.0015486905995645036
         ],
         "yaxis": "y"
        }
       ],
       "layout": {
        "barmode": "relative",
        "coloraxis": {
         "colorbar": {
          "title": {
           "text": "Fraud Transaction Rate"
          }
         },
         "colorscale": [
          [
           0,
           "#440154"
          ],
          [
           0.1111111111111111,
           "#482878"
          ],
          [
           0.2222222222222222,
           "#3e4989"
          ],
          [
           0.3333333333333333,
           "#31688e"
          ],
          [
           0.4444444444444444,
           "#26828e"
          ],
          [
           0.5555555555555556,
           "#1f9e89"
          ],
          [
           0.6666666666666666,
           "#35b779"
          ],
          [
           0.7777777777777778,
           "#6ece58"
          ],
          [
           0.8888888888888888,
           "#b5de2b"
          ],
          [
           1,
           "#fde725"
          ]
         ]
        },
        "legend": {
         "tracegroupgap": 0
        },
        "template": {
         "data": {
          "bar": [
           {
            "error_x": {
             "color": "#2a3f5f"
            },
            "error_y": {
             "color": "#2a3f5f"
            },
            "marker": {
             "line": {
              "color": "#E5ECF6",
              "width": 0.5
             },
             "pattern": {
              "fillmode": "overlay",
              "size": 10,
              "solidity": 0.2
             }
            },
            "type": "bar"
           }
          ],
          "barpolar": [
           {
            "marker": {
             "line": {
              "color": "#E5ECF6",
              "width": 0.5
             },
             "pattern": {
              "fillmode": "overlay",
              "size": 10,
              "solidity": 0.2
             }
            },
            "type": "barpolar"
           }
          ],
          "carpet": [
           {
            "aaxis": {
             "endlinecolor": "#2a3f5f",
             "gridcolor": "white",
             "linecolor": "white",
             "minorgridcolor": "white",
             "startlinecolor": "#2a3f5f"
            },
            "baxis": {
             "endlinecolor": "#2a3f5f",
             "gridcolor": "white",
             "linecolor": "white",
             "minorgridcolor": "white",
             "startlinecolor": "#2a3f5f"
            },
            "type": "carpet"
           }
          ],
          "choropleth": [
           {
            "colorbar": {
             "outlinewidth": 0,
             "ticks": ""
            },
            "type": "choropleth"
           }
          ],
          "contour": [
           {
            "colorbar": {
             "outlinewidth": 0,
             "ticks": ""
            },
            "colorscale": [
             [
              0,
              "#0d0887"
             ],
             [
              0.1111111111111111,
              "#46039f"
             ],
             [
              0.2222222222222222,
              "#7201a8"
             ],
             [
              0.3333333333333333,
              "#9c179e"
             ],
             [
              0.4444444444444444,
              "#bd3786"
             ],
             [
              0.5555555555555556,
              "#d8576b"
             ],
             [
              0.6666666666666666,
              "#ed7953"
             ],
             [
              0.7777777777777778,
              "#fb9f3a"
             ],
             [
              0.8888888888888888,
              "#fdca26"
             ],
             [
              1,
              "#f0f921"
             ]
            ],
            "type": "contour"
           }
          ],
          "contourcarpet": [
           {
            "colorbar": {
             "outlinewidth": 0,
             "ticks": ""
            },
            "type": "contourcarpet"
           }
          ],
          "heatmap": [
           {
            "colorbar": {
             "outlinewidth": 0,
             "ticks": ""
            },
            "colorscale": [
             [
              0,
              "#0d0887"
             ],
             [
              0.1111111111111111,
              "#46039f"
             ],
             [
              0.2222222222222222,
              "#7201a8"
             ],
             [
              0.3333333333333333,
              "#9c179e"
             ],
             [
              0.4444444444444444,
              "#bd3786"
             ],
             [
              0.5555555555555556,
              "#d8576b"
             ],
             [
              0.6666666666666666,
              "#ed7953"
             ],
             [
              0.7777777777777778,
              "#fb9f3a"
             ],
             [
              0.8888888888888888,
              "#fdca26"
             ],
             [
              1,
              "#f0f921"
             ]
            ],
            "type": "heatmap"
           }
          ],
          "heatmapgl": [
           {
            "colorbar": {
             "outlinewidth": 0,
             "ticks": ""
            },
            "colorscale": [
             [
              0,
              "#0d0887"
             ],
             [
              0.1111111111111111,
              "#46039f"
             ],
             [
              0.2222222222222222,
              "#7201a8"
             ],
             [
              0.3333333333333333,
              "#9c179e"
             ],
             [
              0.4444444444444444,
              "#bd3786"
             ],
             [
              0.5555555555555556,
              "#d8576b"
             ],
             [
              0.6666666666666666,
              "#ed7953"
             ],
             [
              0.7777777777777778,
              "#fb9f3a"
             ],
             [
              0.8888888888888888,
              "#fdca26"
             ],
             [
              1,
              "#f0f921"
             ]
            ],
            "type": "heatmapgl"
           }
          ],
          "histogram": [
           {
            "marker": {
             "pattern": {
              "fillmode": "overlay",
              "size": 10,
              "solidity": 0.2
             }
            },
            "type": "histogram"
           }
          ],
          "histogram2d": [
           {
            "colorbar": {
             "outlinewidth": 0,
             "ticks": ""
            },
            "colorscale": [
             [
              0,
              "#0d0887"
             ],
             [
              0.1111111111111111,
              "#46039f"
             ],
             [
              0.2222222222222222,
              "#7201a8"
             ],
             [
              0.3333333333333333,
              "#9c179e"
             ],
             [
              0.4444444444444444,
              "#bd3786"
             ],
             [
              0.5555555555555556,
              "#d8576b"
             ],
             [
              0.6666666666666666,
              "#ed7953"
             ],
             [
              0.7777777777777778,
              "#fb9f3a"
             ],
             [
              0.8888888888888888,
              "#fdca26"
             ],
             [
              1,
              "#f0f921"
             ]
            ],
            "type": "histogram2d"
           }
          ],
          "histogram2dcontour": [
           {
            "colorbar": {
             "outlinewidth": 0,
             "ticks": ""
            },
            "colorscale": [
             [
              0,
              "#0d0887"
             ],
             [
              0.1111111111111111,
              "#46039f"
             ],
             [
              0.2222222222222222,
              "#7201a8"
             ],
             [
              0.3333333333333333,
              "#9c179e"
             ],
             [
              0.4444444444444444,
              "#bd3786"
             ],
             [
              0.5555555555555556,
              "#d8576b"
             ],
             [
              0.6666666666666666,
              "#ed7953"
             ],
             [
              0.7777777777777778,
              "#fb9f3a"
             ],
             [
              0.8888888888888888,
              "#fdca26"
             ],
             [
              1,
              "#f0f921"
             ]
            ],
            "type": "histogram2dcontour"
           }
          ],
          "mesh3d": [
           {
            "colorbar": {
             "outlinewidth": 0,
             "ticks": ""
            },
            "type": "mesh3d"
           }
          ],
          "parcoords": [
           {
            "line": {
             "colorbar": {
              "outlinewidth": 0,
              "ticks": ""
             }
            },
            "type": "parcoords"
           }
          ],
          "pie": [
           {
            "automargin": true,
            "type": "pie"
           }
          ],
          "scatter": [
           {
            "fillpattern": {
             "fillmode": "overlay",
             "size": 10,
             "solidity": 0.2
            },
            "type": "scatter"
           }
          ],
          "scatter3d": [
           {
            "line": {
             "colorbar": {
              "outlinewidth": 0,
              "ticks": ""
             }
            },
            "marker": {
             "colorbar": {
              "outlinewidth": 0,
              "ticks": ""
             }
            },
            "type": "scatter3d"
           }
          ],
          "scattercarpet": [
           {
            "marker": {
             "colorbar": {
              "outlinewidth": 0,
              "ticks": ""
             }
            },
            "type": "scattercarpet"
           }
          ],
          "scattergeo": [
           {
            "marker": {
             "colorbar": {
              "outlinewidth": 0,
              "ticks": ""
             }
            },
            "type": "scattergeo"
           }
          ],
          "scattergl": [
           {
            "marker": {
             "colorbar": {
              "outlinewidth": 0,
              "ticks": ""
             }
            },
            "type": "scattergl"
           }
          ],
          "scattermapbox": [
           {
            "marker": {
             "colorbar": {
              "outlinewidth": 0,
              "ticks": ""
             }
            },
            "type": "scattermapbox"
           }
          ],
          "scatterpolar": [
           {
            "marker": {
             "colorbar": {
              "outlinewidth": 0,
              "ticks": ""
             }
            },
            "type": "scatterpolar"
           }
          ],
          "scatterpolargl": [
           {
            "marker": {
             "colorbar": {
              "outlinewidth": 0,
              "ticks": ""
             }
            },
            "type": "scatterpolargl"
           }
          ],
          "scatterternary": [
           {
            "marker": {
             "colorbar": {
              "outlinewidth": 0,
              "ticks": ""
             }
            },
            "type": "scatterternary"
           }
          ],
          "surface": [
           {
            "colorbar": {
             "outlinewidth": 0,
             "ticks": ""
            },
            "colorscale": [
             [
              0,
              "#0d0887"
             ],
             [
              0.1111111111111111,
              "#46039f"
             ],
             [
              0.2222222222222222,
              "#7201a8"
             ],
             [
              0.3333333333333333,
              "#9c179e"
             ],
             [
              0.4444444444444444,
              "#bd3786"
             ],
             [
              0.5555555555555556,
              "#d8576b"
             ],
             [
              0.6666666666666666,
              "#ed7953"
             ],
             [
              0.7777777777777778,
              "#fb9f3a"
             ],
             [
              0.8888888888888888,
              "#fdca26"
             ],
             [
              1,
              "#f0f921"
             ]
            ],
            "type": "surface"
           }
          ],
          "table": [
           {
            "cells": {
             "fill": {
              "color": "#EBF0F8"
             },
             "line": {
              "color": "white"
             }
            },
            "header": {
             "fill": {
              "color": "#C8D4E3"
             },
             "line": {
              "color": "white"
             }
            },
            "type": "table"
           }
          ]
         },
         "layout": {
          "annotationdefaults": {
           "arrowcolor": "#2a3f5f",
           "arrowhead": 0,
           "arrowwidth": 1
          },
          "autotypenumbers": "strict",
          "coloraxis": {
           "colorbar": {
            "outlinewidth": 0,
            "ticks": ""
           }
          },
          "colorscale": {
           "diverging": [
            [
             0,
             "#8e0152"
            ],
            [
             0.1,
             "#c51b7d"
            ],
            [
             0.2,
             "#de77ae"
            ],
            [
             0.3,
             "#f1b6da"
            ],
            [
             0.4,
             "#fde0ef"
            ],
            [
             0.5,
             "#f7f7f7"
            ],
            [
             0.6,
             "#e6f5d0"
            ],
            [
             0.7,
             "#b8e186"
            ],
            [
             0.8,
             "#7fbc41"
            ],
            [
             0.9,
             "#4d9221"
            ],
            [
             1,
             "#276419"
            ]
           ],
           "sequential": [
            [
             0,
             "#0d0887"
            ],
            [
             0.1111111111111111,
             "#46039f"
            ],
            [
             0.2222222222222222,
             "#7201a8"
            ],
            [
             0.3333333333333333,
             "#9c179e"
            ],
            [
             0.4444444444444444,
             "#bd3786"
            ],
            [
             0.5555555555555556,
             "#d8576b"
            ],
            [
             0.6666666666666666,
             "#ed7953"
            ],
            [
             0.7777777777777778,
             "#fb9f3a"
            ],
            [
             0.8888888888888888,
             "#fdca26"
            ],
            [
             1,
             "#f0f921"
            ]
           ],
           "sequentialminus": [
            [
             0,
             "#0d0887"
            ],
            [
             0.1111111111111111,
             "#46039f"
            ],
            [
             0.2222222222222222,
             "#7201a8"
            ],
            [
             0.3333333333333333,
             "#9c179e"
            ],
            [
             0.4444444444444444,
             "#bd3786"
            ],
            [
             0.5555555555555556,
             "#d8576b"
            ],
            [
             0.6666666666666666,
             "#ed7953"
            ],
            [
             0.7777777777777778,
             "#fb9f3a"
            ],
            [
             0.8888888888888888,
             "#fdca26"
            ],
            [
             1,
             "#f0f921"
            ]
           ]
          },
          "colorway": [
           "#636efa",
           "#EF553B",
           "#00cc96",
           "#ab63fa",
           "#FFA15A",
           "#19d3f3",
           "#FF6692",
           "#B6E880",
           "#FF97FF",
           "#FECB52"
          ],
          "font": {
           "color": "#2a3f5f"
          },
          "geo": {
           "bgcolor": "white",
           "lakecolor": "white",
           "landcolor": "#E5ECF6",
           "showlakes": true,
           "showland": true,
           "subunitcolor": "white"
          },
          "hoverlabel": {
           "align": "left"
          },
          "hovermode": "closest",
          "mapbox": {
           "style": "light"
          },
          "paper_bgcolor": "white",
          "plot_bgcolor": "#E5ECF6",
          "polar": {
           "angularaxis": {
            "gridcolor": "white",
            "linecolor": "white",
            "ticks": ""
           },
           "bgcolor": "#E5ECF6",
           "radialaxis": {
            "gridcolor": "white",
            "linecolor": "white",
            "ticks": ""
           }
          },
          "scene": {
           "xaxis": {
            "backgroundcolor": "#E5ECF6",
            "gridcolor": "white",
            "gridwidth": 2,
            "linecolor": "white",
            "showbackground": true,
            "ticks": "",
            "zerolinecolor": "white"
           },
           "yaxis": {
            "backgroundcolor": "#E5ECF6",
            "gridcolor": "white",
            "gridwidth": 2,
            "linecolor": "white",
            "showbackground": true,
            "ticks": "",
            "zerolinecolor": "white"
           },
           "zaxis": {
            "backgroundcolor": "#E5ECF6",
            "gridcolor": "white",
            "gridwidth": 2,
            "linecolor": "white",
            "showbackground": true,
            "ticks": "",
            "zerolinecolor": "white"
           }
          },
          "shapedefaults": {
           "line": {
            "color": "#2a3f5f"
           }
          },
          "ternary": {
           "aaxis": {
            "gridcolor": "white",
            "linecolor": "white",
            "ticks": ""
           },
           "baxis": {
            "gridcolor": "white",
            "linecolor": "white",
            "ticks": ""
           },
           "bgcolor": "#E5ECF6",
           "caxis": {
            "gridcolor": "white",
            "linecolor": "white",
            "ticks": ""
           }
          },
          "title": {
           "x": 0.05
          },
          "xaxis": {
           "automargin": true,
           "gridcolor": "white",
           "linecolor": "white",
           "ticks": "",
           "title": {
            "standoff": 15
           },
           "zerolinecolor": "white",
           "zerolinewidth": 2
          },
          "yaxis": {
           "automargin": true,
           "gridcolor": "white",
           "linecolor": "white",
           "ticks": "",
           "title": {
            "standoff": 15
           },
           "zerolinecolor": "white",
           "zerolinewidth": 2
          }
         }
        },
        "title": {
         "text": "Fraud Transaction Rate by Category"
        },
        "xaxis": {
         "anchor": "y",
         "domain": [
          0,
          1
         ],
         "tickangle": -45,
         "title": {
          "text": "Category"
         }
        },
        "yaxis": {
         "anchor": "x",
         "domain": [
          0,
          1
         ],
         "title": {
          "text": "Fraud Transaction Rate"
         }
        }
       }
      }
     },
     "metadata": {},
     "output_type": "display_data"
    }
   ],
   "source": [
    "# Calculate the fraud transaction rate by category\n",
    "fraud_rate_by_category = df_cat_job.groupby(\"category\")[\"is_fraud\"].mean().reset_index()\n",
    "fraud_rate_by_category = fraud_rate_by_category.sort_values(by=\"is_fraud\", ascending=False)\n",
    "# Plot the fraud transaction rate by category\n",
    "fig = px.bar(fraud_rate_by_category, x='category', y='is_fraud', \n",
    "             title='Fraud Transaction Rate by Category', \n",
    "             labels={'category': 'Category', 'is_fraud': 'Fraud Transaction Rate'},\n",
    "             color='is_fraud', color_continuous_scale='viridis')\n",
    "\n",
    "fig.update_layout(xaxis_tickangle=-45)\n",
    "fig.show()"
   ]
  },
  {
   "cell_type": "markdown",
   "metadata": {},
   "source": [
    "## Multi-variate Analysis"
   ]
  },
  {
   "cell_type": "code",
   "execution_count": null,
   "metadata": {},
   "outputs": [],
   "source": []
  },
  {
   "cell_type": "code",
   "execution_count": null,
   "metadata": {},
   "outputs": [],
   "source": []
  }
 ],
 "metadata": {
  "kernelspec": {
   "display_name": "fraud_detection",
   "language": "python",
   "name": "fraud_detection"
  },
  "language_info": {
   "codemirror_mode": {
    "name": "ipython",
    "version": 3
   },
   "file_extension": ".py",
   "mimetype": "text/x-python",
   "name": "python",
   "nbconvert_exporter": "python",
   "pygments_lexer": "ipython3",
   "version": "3.10.4"
  }
 },
 "nbformat": 4,
 "nbformat_minor": 2
}
