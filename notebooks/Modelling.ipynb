{
 "cells": [
  {
   "cell_type": "code",
   "execution_count": 4,
   "metadata": {},
   "outputs": [],
   "source": [
    "import warnings\n",
    "import pandas as pd\n",
    "import numpy as np\n",
    "from datetime import datetime, timedelta\n",
    "import os\n",
    "import sys\n",
    "# Add the src directory to the Python path\n",
    "sys.path.append(os.path.abspath(os.path.join('..', 'src')))\n",
    "\n",
    "warnings.filterwarnings(\"ignore\")\n",
    "\n",
    "%load_ext autoreload\n",
    "%autoreload 2"
   ]
  },
  {
   "cell_type": "markdown",
   "metadata": {},
   "source": [
    "## Data"
   ]
  },
  {
   "cell_type": "code",
   "execution_count": 5,
   "metadata": {},
   "outputs": [
    {
     "name": "stdout",
     "output_type": "stream",
     "text": [
      "Load transaction data\n",
      "CPU times: user 22.8 s, sys: 4.52 s, total: 27.3 s\n",
      "Wall time: 29.2 s\n",
      "1296675 transaction data loaded, containing 7506 fraudulent transactions\n"
     ]
    }
   ],
   "source": [
    "print(\"Load transaction data\")\n",
    "%time df = pd.read_csv('../data/processed/train_data.csv', index_col=0)\n",
    "print(\"{0} transaction data loaded, containing {1} fraudulent transactions\".format(len(df),df['is_fraud'].sum()))"
   ]
  },
  {
   "cell_type": "code",
   "execution_count": 6,
   "metadata": {},
   "outputs": [],
   "source": [
    "# df.info()"
   ]
  },
  {
   "cell_type": "markdown",
   "metadata": {},
   "source": [
    "### Train-Validation Split"
   ]
  },
  {
   "cell_type": "markdown",
   "metadata": {},
   "source": [
    "Before splitting, let's a sanity check on if a credict card is going to be compromised once being falgged. This is important for splitting since if it would be compromised, we should remove all the known compromised card number from the validation set."
   ]
  },
  {
   "cell_type": "code",
   "execution_count": null,
   "metadata": {},
   "outputs": [
    {
     "name": "stdout",
     "output_type": "stream",
     "text": [
      "At least 0.9175991861648016 percent card not compromised after 3 days of being flagged fraud\n"
     ]
    }
   ],
   "source": [
    "# Ensure the 'trans_date_trans_time' and 'first_fraud_date' columns are in datetime format\n",
    "df['trans_date_trans_time'] = pd.to_datetime(df['trans_date_trans_time'])\n",
    "\n",
    "# Identify the first fraud transaction for each cc_num\n",
    "first_fraud_transactions = df[df['is_fraud'] == 1].groupby('cc_num')['trans_date_trans_time'].min().reset_index()\n",
    "first_fraud_transactions.columns = ['cc_num', 'first_fraud_date']\n",
    "\n",
    "# Merge the first fraud transaction date back to the original dataframe\n",
    "df_checkcompromised_card = df.merge(first_fraud_transactions, on='cc_num', how='left')\n",
    "\n",
    "# Ensure the 'first_fraud_date' column is in datetime format\n",
    "df_checkcompromised_card['first_fraud_date'] = pd.to_datetime(df_checkcompromised_card['first_fraud_date'])\n",
    "# Fill NaT values in 'first_fraud_date' with a date far in the future to avoid comparison issues\n",
    "df_checkcompromised_card['first_fraud_date'].fillna(pd.Timestamp.max, inplace=True)\n",
    "# Check for non-fraud transactions that occur after the first fraud transaction for the same cc_num with a delay of one month\n",
    "future_non_fraud_transactions = df_checkcompromised_card[(df_checkcompromised_card['is_fraud'] == 0) & (df_checkcompromised_card['trans_date_trans_time'] > (df_checkcompromised_card['first_fraud_date'] + pd.DateOffset(days=3)))]\n",
    "non_compromised_card_numbers = future_non_fraud_transactions['cc_num'].unique()\n",
    "\n",
    "print(\"At least {} percent card not compromised after 3 days of being flagged fraud\".format(len(non_compromised_card_numbers)/df['cc_num'].nunique()))"
   ]
  },
  {
   "cell_type": "markdown",
   "metadata": {},
   "source": [
    "Now we can split the data into train and validation sets. The goal of our model is to be able to predict potential fraudulent transactions given new data from the **future**, thus it's very important that during training, there is no 'data leakage'. The transaction times in the validation set should typically occur after those in the training set. Additionally, to mimic real-world fraud detection, the label indicating whether a transaction is fraudulent is often only available after a customer complaint or a fraud investigation. This means we need to account for a delay period. Therefore, in a realistic scenario, data available for training a model and making predictions for a given day would be from transactions occurring before that day counting the delay period. In addition, to make our prediction more robust and less prone to data distribution shifts, we use a rolling window on the time axis for training, delaying and validation. This way, we also made better usage of the historical data given. Below is an illustration on how we split our data.\n",
    "\n",
    "<p align=\"center\">\n",
    "    <img src=\"../out/data_splitting.jpg\" width=1000>\n",
    "</p>"
   ]
  },
  {
   "cell_type": "code",
   "execution_count": null,
   "metadata": {},
   "outputs": [],
   "source": []
  },
  {
   "cell_type": "markdown",
   "metadata": {},
   "source": [
    "### Feature Selection"
   ]
  },
  {
   "cell_type": "code",
   "execution_count": 9,
   "metadata": {},
   "outputs": [],
   "source": [
    "drop_col = ['trans_date_trans_time', 'cc_num', 'merchant', 'category', \n",
    "'first', 'last', 'street', 'city', 'state', 'zip', 'job', 'dob', 'unix_time', \n",
    "'job_category', 'trans_date', 'trans_num', 'is_fraud']"
   ]
  },
  {
   "cell_type": "code",
   "execution_count": 10,
   "metadata": {},
   "outputs": [],
   "source": [
    "input_features = [col for col in df.columns if col not in drop_col]\n",
    "target_feature = ['is_fraud']"
   ]
  },
  {
   "cell_type": "markdown",
   "metadata": {},
   "source": [
    "alternatively, one could fit a simple tree-based classifier and calculated feature importance. Combining with domain knowlwdge and the results from feature importance, one can get a more coherent feature list. However, as an preliminary step, I decided to use all columns with numerical values and drop columns that are clearly irrelevant (e.g., indices, cc_num, names) or redundant (e.g., date components already captured in other features)."
   ]
  },
  {
   "cell_type": "code",
   "execution_count": 17,
   "metadata": {},
   "outputs": [],
   "source": [
    "# from sklearn.classifier import RandomForestClassifier\n",
    "# X = df[input_feature]\n",
    "# y = df['is_fraud']\n",
    "# clf = RandomForestClassifier(n_estimators=100, max_depth=2, random_state=0)\n",
    "# clf.fit(X, y)\n",
    "# feature_importances = clf.feature_importances_\n",
    "# feature_importances = pd.DataFrame({'feature': input_feature, 'importance': feature_importances})\n",
    "# feature_importances = feature_importances.sort_values('importance', ascending=False)[:20]"
   ]
  },
  {
   "cell_type": "markdown",
   "metadata": {},
   "source": [
    "## Models"
   ]
  },
  {
   "cell_type": "markdown",
   "metadata": {},
   "source": [
    "Before diving in, there are several issues to be addressed:\n",
    "- **Target Imbalance**: we need to deal with very sparse transaction data being flagged as fraud (by sparse, here we have around 0.5% in training data)\n",
    "- **Data Distribution shifts**: we need to take into account complexity and performance, decide on metrics and retrain window as frauding schemes changes quickly over time and it's a very dynamic activity.\n",
    "- **Interpretability and Explainability**: if we need to explain to clients and have reasoning on why we would want to flag a certain transactions being predicted as fraud"
   ]
  },
  {
   "cell_type": "markdown",
   "metadata": {},
   "source": [
    "### Evaluation Metrics"
   ]
  },
  {
   "cell_type": "markdown",
   "metadata": {},
   "source": [
    "Fraud detection is inherently a cost-sensitive challenge. Missing a fraudulent transaction incurs significant costs, including the transaction amount to be reimbursed, potential subsequent fraudulent activities, customer service expenses, and damage to the company's reputation. On the other hand, false alerts on legitimate transactions generally involve lower costs, such as verifying the transaction with the customer. However, in real-time scenarios, false alerts can also lead to customer inconvenience due to blocked legitimate payments. The overall cost should also include the time taken by the detection system to react. The shorter the reaction time, the larger the number of frauds that can be prevented. Taking all in account, the evaluation metrics that I use are:\n",
    "\n",
    "- **classification wise**:\n",
    "1. F1 score\n",
    "2. Roc_auc\n",
    "3. Average Precision\n",
    "4. Top K Precision: \n",
    "5. Confusion Matrix\n",
    "\n",
    "- **impact wise**: fraud losses (amount of money loss due to FN predictions) "
   ]
  },
  {
   "cell_type": "markdown",
   "metadata": {},
   "source": [
    "***\n",
    "- Top K Precision:\n",
    "The TKP can be computed by ranking all fraud probabilities by decreasing order, and computing the precision for the top K ranked transactions per day and average over the validation/test time window."
   ]
  },
  {
   "cell_type": "markdown",
   "metadata": {},
   "source": [
    "### Baseline"
   ]
  },
  {
   "cell_type": "code",
   "execution_count": null,
   "metadata": {
    "vscode": {
     "languageId": "ruby"
    }
   },
   "outputs": [],
   "source": [
    "# def Naive_classifier(val_df):\n",
    "#     # Naive classifier: predict every transaction as non-fraud\n",
    "#     val_df['fraud_detected'] = 0\n",
    "#     return val_df"
   ]
  },
  {
   "cell_type": "code",
   "execution_count": 63,
   "metadata": {
    "vscode": {
     "languageId": "ruby"
    }
   },
   "outputs": [],
   "source": [
    "from data.data_splitting import create_data_splits\n",
    "# the create_data_splits functio/n will return a dictionary containing the train and validation sets in batches\n",
    "splits =  create_data_splits(df, 'trans_date_trans_time', freq='30D', rolling_window=180, gap=30, val_duration=180) #in theroy, val_duration should be the same as test set time length"
   ]
  },
  {
   "cell_type": "code",
   "execution_count": null,
   "metadata": {},
   "outputs": [],
   "source": [
    "from models.tree_based import evaluate_model_on_splits\n",
    "# from xgboost import XGBClassifier\n",
    "# from sklearn.ensemble import RandomForestClassifier\n",
    "from sklearn.tree import DecisionTreeClassifier\n",
    "\n",
    "# classifier = XGBClassifier(n_estimators=100, random_state=0)\n",
    "# splits, classifier, input_features, top_k_list=[100], summary=\"Default\"\n",
    "classifier = DecisionTreeClassifier(max_depth = max_depth, random_state=0)\n",
    "performance_df, performance_df_folds = evaluate_model_on_splits(splits, classifier, input_features, summary=2)\n",
    "list_params = [2, 4, 6, 8, 10, 20, 50]\n",
    "\n",
    "performances_df=pd.DataFrame()\n",
    "\n",
    "for max_depth in list_params:\n",
    "    \n",
    "    classifier = RandomForestClassifier(max_depth = max_depth, random_state=0)\n",
    "    splits = create_data_splits(df, 'trans_date_trans_time', freq='30D', rolling_window=180, gap=30, val_duration=180) #in theroy, val_duration should be the same as test set time length\n",
    "    performances_df=performances_df.append(\n",
    "        evaluate_model_on_splits(splits, classifier, \n",
    "                                         input_features, top_k_list=[100], summary=max_depth\n",
    "                           )\n",
    "    )\n",
    "    \n",
    "performances_df.reset_index(inplace=True,drop=True)"
   ]
  },
  {
   "cell_type": "code",
   "execution_count": 90,
   "metadata": {},
   "outputs": [
    {
     "data": {
      "text/html": [
       "<div>\n",
       "<style scoped>\n",
       "    .dataframe tbody tr th:only-of-type {\n",
       "        vertical-align: middle;\n",
       "    }\n",
       "\n",
       "    .dataframe tbody tr th {\n",
       "        vertical-align: top;\n",
       "    }\n",
       "\n",
       "    .dataframe thead th {\n",
       "        text-align: right;\n",
       "    }\n",
       "</style>\n",
       "<table border=\"1\" class=\"dataframe\">\n",
       "  <thead>\n",
       "    <tr style=\"text-align: right;\">\n",
       "      <th></th>\n",
       "      <th>Parameters summary</th>\n",
       "      <th>auc_roc val</th>\n",
       "      <th>average precision val</th>\n",
       "      <th>f1 score val</th>\n",
       "      <th>precision_top_100 val</th>\n",
       "      <th>auc_roc train</th>\n",
       "      <th>average precision train</th>\n",
       "      <th>f1 score train</th>\n",
       "      <th>precision_top_100 train</th>\n",
       "      <th>auc_roc val Std</th>\n",
       "      <th>average precision val Std</th>\n",
       "      <th>f1 score val Std</th>\n",
       "      <th>precision_top_100 val Std</th>\n",
       "      <th>auc_roc train Std</th>\n",
       "      <th>average precision train Std</th>\n",
       "      <th>f1 score train Std</th>\n",
       "      <th>precision_top_100 train Std</th>\n",
       "      <th>Execution time</th>\n",
       "    </tr>\n",
       "  </thead>\n",
       "  <tbody>\n",
       "    <tr>\n",
       "      <th>0</th>\n",
       "      <td>2.0</td>\n",
       "      <td>0.976571</td>\n",
       "      <td>0.715569</td>\n",
       "      <td>0.162686</td>\n",
       "      <td>0.1210</td>\n",
       "      <td>0.974908</td>\n",
       "      <td>0.700800</td>\n",
       "      <td>0.149118</td>\n",
       "      <td>0.1140</td>\n",
       "      <td>0.002212</td>\n",
       "      <td>0.005613</td>\n",
       "      <td>0.014395</td>\n",
       "      <td>0.002966</td>\n",
       "      <td>1.376681e-03</td>\n",
       "      <td>0.014126</td>\n",
       "      <td>0.026651</td>\n",
       "      <td>0.008649</td>\n",
       "      <td>450.849384</td>\n",
       "    </tr>\n",
       "    <tr>\n",
       "      <th>1</th>\n",
       "      <td>4.0</td>\n",
       "      <td>0.983215</td>\n",
       "      <td>0.779155</td>\n",
       "      <td>0.589482</td>\n",
       "      <td>0.1288</td>\n",
       "      <td>0.982513</td>\n",
       "      <td>0.768013</td>\n",
       "      <td>0.582766</td>\n",
       "      <td>0.1212</td>\n",
       "      <td>0.001316</td>\n",
       "      <td>0.003097</td>\n",
       "      <td>0.014146</td>\n",
       "      <td>0.003487</td>\n",
       "      <td>1.798031e-03</td>\n",
       "      <td>0.012101</td>\n",
       "      <td>0.009798</td>\n",
       "      <td>0.008352</td>\n",
       "      <td>860.088006</td>\n",
       "    </tr>\n",
       "    <tr>\n",
       "      <th>2</th>\n",
       "      <td>6.0</td>\n",
       "      <td>0.990087</td>\n",
       "      <td>0.849664</td>\n",
       "      <td>0.708684</td>\n",
       "      <td>0.1308</td>\n",
       "      <td>0.990163</td>\n",
       "      <td>0.847268</td>\n",
       "      <td>0.699579</td>\n",
       "      <td>0.1230</td>\n",
       "      <td>0.001987</td>\n",
       "      <td>0.006145</td>\n",
       "      <td>0.006182</td>\n",
       "      <td>0.003487</td>\n",
       "      <td>1.988453e-03</td>\n",
       "      <td>0.011102</td>\n",
       "      <td>0.004345</td>\n",
       "      <td>0.008485</td>\n",
       "      <td>1164.093392</td>\n",
       "    </tr>\n",
       "    <tr>\n",
       "      <th>3</th>\n",
       "      <td>8.0</td>\n",
       "      <td>0.993684</td>\n",
       "      <td>0.883500</td>\n",
       "      <td>0.747866</td>\n",
       "      <td>0.1342</td>\n",
       "      <td>0.995294</td>\n",
       "      <td>0.901567</td>\n",
       "      <td>0.758341</td>\n",
       "      <td>0.1276</td>\n",
       "      <td>0.001385</td>\n",
       "      <td>0.008140</td>\n",
       "      <td>0.004271</td>\n",
       "      <td>0.003059</td>\n",
       "      <td>3.841626e-04</td>\n",
       "      <td>0.007207</td>\n",
       "      <td>0.008378</td>\n",
       "      <td>0.008452</td>\n",
       "      <td>1566.943522</td>\n",
       "    </tr>\n",
       "    <tr>\n",
       "      <th>4</th>\n",
       "      <td>10.0</td>\n",
       "      <td>0.995078</td>\n",
       "      <td>0.904228</td>\n",
       "      <td>0.803305</td>\n",
       "      <td>0.1358</td>\n",
       "      <td>0.998449</td>\n",
       "      <td>0.950151</td>\n",
       "      <td>0.840003</td>\n",
       "      <td>0.1310</td>\n",
       "      <td>0.001257</td>\n",
       "      <td>0.010362</td>\n",
       "      <td>0.002846</td>\n",
       "      <td>0.003487</td>\n",
       "      <td>7.332772e-05</td>\n",
       "      <td>0.003438</td>\n",
       "      <td>0.007769</td>\n",
       "      <td>0.008124</td>\n",
       "      <td>1919.878681</td>\n",
       "    </tr>\n",
       "    <tr>\n",
       "      <th>5</th>\n",
       "      <td>20.0</td>\n",
       "      <td>0.995495</td>\n",
       "      <td>0.932224</td>\n",
       "      <td>0.853781</td>\n",
       "      <td>0.1364</td>\n",
       "      <td>1.000000</td>\n",
       "      <td>0.999995</td>\n",
       "      <td>0.992378</td>\n",
       "      <td>0.1322</td>\n",
       "      <td>0.001204</td>\n",
       "      <td>0.007878</td>\n",
       "      <td>0.004046</td>\n",
       "      <td>0.003200</td>\n",
       "      <td>7.871057e-09</td>\n",
       "      <td>0.000002</td>\n",
       "      <td>0.000759</td>\n",
       "      <td>0.008280</td>\n",
       "      <td>2829.802791</td>\n",
       "    </tr>\n",
       "    <tr>\n",
       "      <th>6</th>\n",
       "      <td>50.0</td>\n",
       "      <td>0.992449</td>\n",
       "      <td>0.932059</td>\n",
       "      <td>0.855938</td>\n",
       "      <td>0.1366</td>\n",
       "      <td>1.000000</td>\n",
       "      <td>1.000000</td>\n",
       "      <td>0.999955</td>\n",
       "      <td>0.1322</td>\n",
       "      <td>0.001151</td>\n",
       "      <td>0.008857</td>\n",
       "      <td>0.004839</td>\n",
       "      <td>0.003262</td>\n",
       "      <td>0.000000e+00</td>\n",
       "      <td>0.000000</td>\n",
       "      <td>0.000090</td>\n",
       "      <td>0.008280</td>\n",
       "      <td>2896.671504</td>\n",
       "    </tr>\n",
       "  </tbody>\n",
       "</table>\n",
       "</div>"
      ],
      "text/plain": [
       "   Parameters summary  auc_roc val  average precision val  f1 score val  \\\n",
       "0                 2.0     0.976571               0.715569      0.162686   \n",
       "1                 4.0     0.983215               0.779155      0.589482   \n",
       "2                 6.0     0.990087               0.849664      0.708684   \n",
       "3                 8.0     0.993684               0.883500      0.747866   \n",
       "4                10.0     0.995078               0.904228      0.803305   \n",
       "5                20.0     0.995495               0.932224      0.853781   \n",
       "6                50.0     0.992449               0.932059      0.855938   \n",
       "\n",
       "   precision_top_100 val  auc_roc train  average precision train  \\\n",
       "0                 0.1210       0.974908                 0.700800   \n",
       "1                 0.1288       0.982513                 0.768013   \n",
       "2                 0.1308       0.990163                 0.847268   \n",
       "3                 0.1342       0.995294                 0.901567   \n",
       "4                 0.1358       0.998449                 0.950151   \n",
       "5                 0.1364       1.000000                 0.999995   \n",
       "6                 0.1366       1.000000                 1.000000   \n",
       "\n",
       "   f1 score train  precision_top_100 train  auc_roc val Std  \\\n",
       "0        0.149118                   0.1140         0.002212   \n",
       "1        0.582766                   0.1212         0.001316   \n",
       "2        0.699579                   0.1230         0.001987   \n",
       "3        0.758341                   0.1276         0.001385   \n",
       "4        0.840003                   0.1310         0.001257   \n",
       "5        0.992378                   0.1322         0.001204   \n",
       "6        0.999955                   0.1322         0.001151   \n",
       "\n",
       "   average precision val Std  f1 score val Std  precision_top_100 val Std  \\\n",
       "0                   0.005613          0.014395                   0.002966   \n",
       "1                   0.003097          0.014146                   0.003487   \n",
       "2                   0.006145          0.006182                   0.003487   \n",
       "3                   0.008140          0.004271                   0.003059   \n",
       "4                   0.010362          0.002846                   0.003487   \n",
       "5                   0.007878          0.004046                   0.003200   \n",
       "6                   0.008857          0.004839                   0.003262   \n",
       "\n",
       "   auc_roc train Std  average precision train Std  f1 score train Std  \\\n",
       "0       1.376681e-03                     0.014126            0.026651   \n",
       "1       1.798031e-03                     0.012101            0.009798   \n",
       "2       1.988453e-03                     0.011102            0.004345   \n",
       "3       3.841626e-04                     0.007207            0.008378   \n",
       "4       7.332772e-05                     0.003438            0.007769   \n",
       "5       7.871057e-09                     0.000002            0.000759   \n",
       "6       0.000000e+00                     0.000000            0.000090   \n",
       "\n",
       "   precision_top_100 train Std  Execution time  \n",
       "0                     0.008649      450.849384  \n",
       "1                     0.008352      860.088006  \n",
       "2                     0.008485     1164.093392  \n",
       "3                     0.008452     1566.943522  \n",
       "4                     0.008124     1919.878681  \n",
       "5                     0.008280     2829.802791  \n",
       "6                     0.008280     2896.671504  "
      ]
     },
     "execution_count": 90,
     "metadata": {},
     "output_type": "execute_result"
    }
   ],
   "source": [
    "df_test = performances_df.groupby('Parameters summary').mean().reset_index()\n",
    "df_test"
   ]
  },
  {
   "cell_type": "code",
   "execution_count": 91,
   "metadata": {},
   "outputs": [],
   "source": [
    "performances_df.columns\n",
    "a = df"
   ]
  },
  {
   "cell_type": "code",
   "execution_count": 93,
   "metadata": {},
   "outputs": [
    {
     "data": {
      "image/png": "[encoded data removed]",
      "text/plain": [
       "<Figure size 1296x432 with 3 Axes>"
      ]
     },
     "metadata": {
      "needs_background": "light"
     },
     "output_type": "display_data"
    }
   ],
   "source": [
    "import matplotlib.pyplot as plt\n",
    "df = df_test\n",
    "# Create a figure and set up subplots (1 row, 3 columns)\n",
    "fig, axs = plt.subplots(1, 3, figsize=(18, 6))\n",
    "\n",
    "# ROC AUC Plot\n",
    "axs[0].plot(df['auc_roc val'], label=\"Validation AUC\", color='blue', marker='o', linestyle='-')\n",
    "axs[0].plot(df['auc_roc train'], label=\"Train AUC\", color='green', marker='o', linestyle='--')\n",
    "axs[0].fill_between(df.index, df['auc_roc val'] - df['auc_roc val Std'], df['auc_roc val'] + df['auc_roc val Std'], color='blue', alpha=0.2)\n",
    "axs[0].fill_between(df.index, df['auc_roc train'] - df['auc_roc train Std'], df['auc_roc train'] + df['auc_roc train Std'], color='green', alpha=0.2)\n",
    "axs[0].set_title('ROC AUC')\n",
    "axs[0].set_xlabel('Max Depth')\n",
    "axs[0].set_ylabel('ROC AUC Score')\n",
    "axs[0].legend()\n",
    "\n",
    "# Average Precision Plot\n",
    "axs[1].plot(df['average precision val'], label=\"Validation Average Precision\", color='orange', marker='o', linestyle='-')\n",
    "axs[1].plot(df['average precision train'], label=\"Train Average Precision\", color='red', marker='o', linestyle='--')\n",
    "axs[1].fill_between(df.index, df['average precision val'] - df['average precision val Std'], df['average precision val'] + df['average precision val Std'], color='orange', alpha=0.2)\n",
    "axs[1].fill_between(df.index, df['average precision train'] - df['average precision train Std'], df['average precision train'] + df['average precision train Std'], color='red', alpha=0.2)\n",
    "axs[1].set_title('Average Precision')\n",
    "axs[1].set_xlabel('Max Depth')\n",
    "axs[1].set_ylabel('Average Precision')\n",
    "axs[1].legend()\n",
    "\n",
    "# Precision Top K Plot\n",
    "axs[2].plot(df['precision_top_100 val'], label=\"Validation Precision Top 100\", color='purple', marker='o', linestyle='-')\n",
    "axs[2].plot(df['precision_top_100 train'], label=\"Train Precision Top 100\", color='brown', marker='o', linestyle='--')\n",
    "axs[2].fill_between(df.index, df['precision_top_100 val'] - df['precision_top_100 val Std'], df['precision_top_100 val'] + df['precision_top_100 val Std'], color='purple', alpha=0.2)\n",
    "axs[2].fill_between(df.index, df['precision_top_100 train'] - df['precision_top_100 train Std'], df['precision_top_100 train'] + df['precision_top_100 train Std'], color='brown', alpha=0.2)\n",
    "axs[2].set_title('Precision Top 100')\n",
    "axs[2].set_xlabel('Max Depth')\n",
    "axs[2].set_ylabel('Precision Top 100')\n",
    "axs[2].legend()\n",
    "\n",
    "# Adjust layout to prevent overlap\n",
    "plt.tight_layout()\n",
    "\n",
    "# Show the plot\n",
    "plt.show()\n"
   ]
  },
  {
   "cell_type": "code",
   "execution_count": 74,
   "metadata": {},
   "outputs": [
    {
     "data": {
      "text/plain": [
       "Index(['auc_roc val', 'average precision val', 'f1 score val',\n",
       "       'precision_top_100 val', 'auc_roc train', 'average precision train',\n",
       "       'f1 score train', 'precision_top_100 train', 'auc_roc val Std',\n",
       "       'average precision val Std', 'f1 score val Std',\n",
       "       'precision_top_100 val Std', 'auc_roc train Std',\n",
       "       'average precision train Std', 'f1 score train Std',\n",
       "       'precision_top_100 train Std', 'Execution time', 'Parameters summary'],\n",
       "      dtype='object')"
      ]
     },
     "execution_count": 74,
     "metadata": {},
     "output_type": "execute_result"
    }
   ],
   "source": [
    "performance_df.columns"
   ]
  },
  {
   "cell_type": "code",
   "execution_count": 77,
   "metadata": {},
   "outputs": [
    {
     "data": {
      "image/png": "[encoded data removed]",
      "text/plain": [
       "<Figure size 864x432 with 1 Axes>"
      ]
     },
     "metadata": {
      "needs_background": "light"
     },
     "output_type": "display_data"
    }
   ],
   "source": [
    "import pandas as pd\n",
    "import matplotlib.pyplot as plt\n",
    "import seaborn as sns\n",
    "\n",
    "# Define base metrics\n",
    "metrics = ['auc_roc', 'average precision', 'f1 score', 'precision_top_100']\n",
    "\n",
    "# Separate train and validation metrics and their standard deviations\n",
    "train_metrics = ['auc_roc train', 'average precision train', 'f1 score train', 'precision_top_100 train']\n",
    "train_stds = ['auc_roc train Std', 'average precision train Std', 'f1 score train Std', 'precision_top_100 train Std']\n",
    "val_metrics = ['auc_roc val', 'average precision val', 'f1 score val', 'precision_top_100 val']\n",
    "val_stds = ['auc_roc val Std', 'average precision val Std', 'f1 score val Std', 'precision_top_100 val Std']\n",
    "\n",
    "# Prepare data for plotting\n",
    "plot_data = pd.DataFrame({\n",
    "    'Metric': metrics,\n",
    "    'Train': [performance_df[metric].iloc[0] for metric in train_metrics],\n",
    "    'Train Std': [performance_df[std].iloc[0] for std in train_stds],\n",
    "    'Validation': [performance_df[metric].iloc[0] for metric in val_metrics],\n",
    "    'Validation Std': [performance_df[std].iloc[0] for std in val_stds],\n",
    "})\n",
    "\n",
    "# Reshape the data for seaborn barplot\n",
    "plot_data_melted = plot_data.melt(\n",
    "    id_vars='Metric', \n",
    "    value_vars=['Train', 'Validation'], \n",
    "    var_name='Dataset', \n",
    "    value_name='Value'\n",
    ")\n",
    "\n",
    "# Add standard deviation for error bars\n",
    "plot_data_melted['Std'] = plot_data_melted.apply(\n",
    "    lambda row: plot_data[f\"{row['Dataset']} Std\"].iloc[row.name % len(metrics)],\n",
    "    axis=1\n",
    ")\n",
    "\n",
    "# Plot the metrics with error bars\n",
    "plt.figure(figsize=(12, 6))\n",
    "sns.barplot(\n",
    "    x='Metric', y='Value', hue='Dataset', data=plot_data_melted, \n",
    "    palette='viridis', ci=None\n",
    ")\n",
    "\n",
    "# Add error bars manually\n",
    "for i, bar in enumerate(plt.gca().patches):\n",
    "    metric_index = i % len(metrics)\n",
    "    dataset = 'Train' if i < len(metrics) else 'Validation'\n",
    "    y_err = plot_data.loc[metric_index, f\"{dataset} Std\"]\n",
    "    bar_x = bar.get_x() + bar.get_width() / 2\n",
    "    plt.errorbar(bar_x, bar.get_height(), yerr=y_err, fmt='none', c='black', capsize=5)\n",
    "\n",
    "# Customize plot\n",
    "plt.title('Performance Metrics with Confidence Intervals (Train vs Validation)', fontsize=16)\n",
    "plt.ylabel('Score', fontsize=12)\n",
    "plt.xlabel('Metric', fontsize=12)\n",
    "plt.ylim(0, 1.1)\n",
    "plt.legend(title='Dataset', loc='upper right')\n",
    "plt.tight_layout()\n",
    "plt.show()\n"
   ]
  },
  {
   "cell_type": "markdown",
   "metadata": {},
   "source": [
    "### Model Selection"
   ]
  },
  {
   "cell_type": "code",
   "execution_count": null,
   "metadata": {},
   "outputs": [],
   "source": []
  },
  {
   "cell_type": "code",
   "execution_count": null,
   "metadata": {},
   "outputs": [],
   "source": []
  },
  {
   "cell_type": "code",
   "execution_count": null,
   "metadata": {},
   "outputs": [],
   "source": []
  },
  {
   "cell_type": "code",
   "execution_count": null,
   "metadata": {},
   "outputs": [],
   "source": []
  },
  {
   "cell_type": "code",
   "execution_count": null,
   "metadata": {},
   "outputs": [],
   "source": []
  },
  {
   "cell_type": "code",
   "execution_count": null,
   "metadata": {},
   "outputs": [],
   "source": []
  },
  {
   "cell_type": "code",
   "execution_count": null,
   "metadata": {},
   "outputs": [],
   "source": []
  },
  {
   "cell_type": "code",
   "execution_count": 27,
   "metadata": {},
   "outputs": [
    {
     "data": {
      "text/plain": [
       "{'classifier': XGBClassifier(base_score=None, booster=None, callbacks=None,\n",
       "               colsample_bylevel=None, colsample_bynode=None,\n",
       "               colsample_bytree=None, device=None, early_stopping_rounds=None,\n",
       "               enable_categorical=False, eval_metric=None, feature_types=None,\n",
       "               gamma=None, grow_policy=None, importance_type=None,\n",
       "               interaction_constraints=None, learning_rate=None, max_bin=None,\n",
       "               max_cat_threshold=None, max_cat_to_onehot=None,\n",
       "               max_delta_step=None, max_depth=None, max_leaves=None,\n",
       "               min_child_weight=None, missing=nan, monotone_constraints=None,\n",
       "               multi_strategy=None, n_estimators=100, n_jobs=None,\n",
       "               num_parallel_tree=None, random_state=0, ...),\n",
       " 'predictions_val': array([1.6462594e-06, 1.5635929e-06, 9.1262478e-08, ..., 2.6917294e-05,\n",
       "        5.1675875e-06, 4.5495035e-08], dtype=float32),\n",
       " 'training_execution_time': 7.148949861526489,\n",
       " 'prediction_execution_time': 1.3586318492889404}"
      ]
     },
     "execution_count": 27,
     "metadata": {},
     "output_type": "execute_result"
    }
   ],
   "source": [
    "from sklearn.tree import DecisionTreeClassifier\n",
    "from utils.eval_metrics import fit_model_and_get_predictions\n",
    "from xgboost import XGBClassifier\n",
    "\n",
    "# classifier = RandomForestClassifier(n_estimators=100, random_state=0)\n",
    "classifier = XGBClassifier(n_estimators=100, random_state=0)\n",
    "\n",
    "model_and_predictions_dictionary = fit_model_and_get_predictions(classifier, train_df, val_df, \n",
    "                                                                 input_features, \"xgboost\", \"is_fraud\",\n",
    "                                                                 scale=False)\n",
    "model_and_predictions_dictionary"
   ]
  },
  {
   "cell_type": "code",
   "execution_count": 28,
   "metadata": {},
   "outputs": [],
   "source": [
    "val_df['predictions']=(model_and_predictions_dictionary['predictions_val']>0.5).round()"
   ]
  },
  {
   "cell_type": "code",
   "execution_count": 30,
   "metadata": {},
   "outputs": [
    {
     "data": {
      "text/html": [
       "<div>\n",
       "<style scoped>\n",
       "    .dataframe tbody tr th:only-of-type {\n",
       "        vertical-align: middle;\n",
       "    }\n",
       "\n",
       "    .dataframe tbody tr th {\n",
       "        vertical-align: top;\n",
       "    }\n",
       "\n",
       "    .dataframe thead th {\n",
       "        text-align: right;\n",
       "    }\n",
       "</style>\n",
       "<table border=\"1\" class=\"dataframe\">\n",
       "  <thead>\n",
       "    <tr style=\"text-align: right;\">\n",
       "      <th></th>\n",
       "      <th>auc_roc</th>\n",
       "      <th>Average precision</th>\n",
       "      <th>F1 score</th>\n",
       "    </tr>\n",
       "  </thead>\n",
       "  <tbody>\n",
       "    <tr>\n",
       "      <th>0</th>\n",
       "      <td>0.924</td>\n",
       "      <td>0.833</td>\n",
       "      <td>0.91</td>\n",
       "    </tr>\n",
       "  </tbody>\n",
       "</table>\n",
       "</div>"
      ],
      "text/plain": [
       "   auc_roc  Average precision  F1 score\n",
       "0    0.924              0.833      0.91"
      ]
     },
     "execution_count": 30,
     "metadata": {},
     "output_type": "execute_result"
    }
   ],
   "source": [
    "from utils.eval_metrics import performance_assessment\n",
    "performance_assessment(val_df)"
   ]
  },
  {
   "cell_type": "code",
   "execution_count": 31,
   "metadata": {},
   "outputs": [
    {
     "data": {
      "image/png": "[encoded data removed]",
      "text/plain": [
       "<Figure size 720x504 with 2 Axes>"
      ]
     },
     "metadata": {
      "needs_background": "light"
     },
     "output_type": "display_data"
    }
   ],
   "source": [
    "import seaborn as sns\n",
    "from sklearn.metrics import confusion_matrix\n",
    "\n",
    "import matplotlib.pyplot as plt\n",
    "\n",
    "# Compute confusion matrix\n",
    "cm = confusion_matrix(val_df['is_fraud'], val_df['predictions'])\n",
    "\n",
    "# Plot confusion matrix\n",
    "plt.figure(figsize=(10, 7))\n",
    "sns.heatmap(cm, annot=True, fmt='d', cmap='Blues', xticklabels=['Not Fraud', 'Fraud'], yticklabels=['Not Fraud', 'Fraud'])\n",
    "plt.xlabel('Predicted')\n",
    "plt.ylabel('Actual')\n",
    "plt.title('Confusion Matrix')\n",
    "plt.show()"
   ]
  },
  {
   "cell_type": "code",
   "execution_count": null,
   "metadata": {},
   "outputs": [],
   "source": []
  },
  {
   "cell_type": "code",
   "execution_count": null,
   "metadata": {},
   "outputs": [],
   "source": []
  },
  {
   "cell_type": "code",
   "execution_count": null,
   "metadata": {},
   "outputs": [],
   "source": []
  },
  {
   "cell_type": "code",
   "execution_count": null,
   "metadata": {},
   "outputs": [],
   "source": []
  },
  {
   "cell_type": "code",
   "execution_count": null,
   "metadata": {},
   "outputs": [],
   "source": []
  },
  {
   "cell_type": "code",
   "execution_count": null,
   "metadata": {},
   "outputs": [],
   "source": []
  },
  {
   "cell_type": "markdown",
   "metadata": {},
   "source": [
    "***\n",
    "- The formula for F1 Score is:\n",
    "\n",
    "$$\n",
    "\\small{F1 = 2 \\cdot \\frac{Precision \\cdot Recall}{Precision + Recall}}\n",
    "$$\n",
    "\n",
    "where:\n",
    "\n",
    "- $\\small{Precision = \\frac{TP}{TP + FP}}$\n",
    "- $\\small{Recall = \\frac{TP}{TP + FN}}$\n",
    "\n",
    "$TP$ is True Positives, $FP$ is False Positives, and $FN$ is False Negatives.\n",
    "The formula for ROC AUC (Receiver Operating Characteristic Area Under the Curve) is:\n",
    "\n",
    "$$\n",
    "\\small{ROC\\_AUC = \\int_0^1 TPR(FPR) \\, dFPR}\n",
    "$$\n",
    "\n",
    "where  $TPR$  is the True Positive Rate and $FPR$ is the False Positive Rate.  The integral is taken over the range of FPR from 0 to 1. \n",
    "***\n",
    "- The formula for Average Precision (AP) is:\n",
    "\n",
    "$$\n",
    "\\small{AP = \\sum_{n=1}^N (R_n - R_{n-1}) P_n}\n",
    "$$\n",
    "\n",
    "where $P_n$ and $R_n$ are the precision and recall at the nth threshold, and $N$ is the total number of thresholds. $R_0$ is defined as 0."
   ]
  },
  {
   "cell_type": "code",
   "execution_count": null,
   "metadata": {},
   "outputs": [],
   "source": []
  }
 ],
 "metadata": {
  "kernelspec": {
   "display_name": "fraud_detection",
   "language": "python",
   "name": "fraud_detection"
  },
  "language_info": {
   "codemirror_mode": {
    "name": "ipython",
    "version": 3
   },
   "file_extension": ".py",
   "mimetype": "text/x-python",
   "name": "python",
   "nbconvert_exporter": "python",
   "pygments_lexer": "ipython3",
   "version": "3.10.4"
  }
 },
 "nbformat": 4,
 "nbformat_minor": 2
}
