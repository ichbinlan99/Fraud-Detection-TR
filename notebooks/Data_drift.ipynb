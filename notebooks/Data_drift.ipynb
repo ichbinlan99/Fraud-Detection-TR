{
 "cells": [
  {
   "cell_type": "markdown",
   "metadata": {},
   "source": [
    "# Data Drift"
   ]
  },
  {
   "cell_type": "code",
   "execution_count": 1,
   "metadata": {},
   "outputs": [],
   "source": [
    "import pandas as pd\n",
    "from scipy.stats import ks_2samp"
   ]
  },
  {
   "cell_type": "code",
   "execution_count": 2,
   "metadata": {},
   "outputs": [],
   "source": [
    "df = pd.read_csv('../data/processed/train_data.csv')"
   ]
  },
  {
   "cell_type": "markdown",
   "metadata": {},
   "source": [
    "detect drift in transaction amunt and fraud flagg using KL divergence"
   ]
  },
  {
   "cell_type": "code",
   "execution_count": 3,
   "metadata": {},
   "outputs": [
    {
     "name": "stdout",
     "output_type": "stream",
     "text": [
      "Data drift detected for amt!\n",
      "Comparing amt between 2019-02 and 2019-03:\n",
      "KS Statistic: 0.010315094233342925, p-value: 0.003906521775580153\n",
      "--------------------------------------------------\n",
      "Data drift detected for amt!\n",
      "Comparing amt between 2019-03 and 2019-04:\n",
      "KS Statistic: 0.0077989317713660355, p-value: 0.029068772650483576\n",
      "--------------------------------------------------\n",
      "Data drift detected for amt!\n",
      "Comparing amt between 2019-09 and 2019-10:\n",
      "KS Statistic: 0.007864127903544182, p-value: 0.026723893693126\n",
      "--------------------------------------------------\n",
      "Data drift detected for amt!\n",
      "Comparing amt between 2020-04 and 2020-05:\n",
      "KS Statistic: 0.0074011766704468185, p-value: 0.04203534196892533\n",
      "--------------------------------------------------\n",
      "Data drift detected for amt!\n",
      "Comparing amt between 2020-05 and 2020-06:\n",
      "KS Statistic: 0.008237496853547799, p-value: 0.024157033803896624\n",
      "--------------------------------------------------\n",
      "Data drift detected for amt!\n",
      "Comparing amt between 2019-01 and 2019-03:\n",
      "KS Statistic: 0.008539202879784158, p-value: 0.02438545502782919\n",
      "--------------------------------------------------\n",
      "Data drift detected for amt!\n",
      "Comparing amt between 2019-08 and 2019-10:\n",
      "KS Statistic: 0.008468234262286045, p-value: 0.007980810666484888\n",
      "--------------------------------------------------\n",
      "Data drift detected for amt!\n",
      "Comparing amt between 2019-12 and 2020-02:\n",
      "KS Statistic: 0.007697837519605705, p-value: 0.028938273769426925\n",
      "--------------------------------------------------\n",
      "Data drift detected for amt!\n",
      "Comparing amt between 2020-03 and 2020-05:\n",
      "KS Statistic: 0.007136882854962501, p-value: 0.046894476327055234\n",
      "--------------------------------------------------\n",
      "Data drift detected for amt!\n",
      "Comparing amt between 2020-05 and 2019-02:\n",
      "KS Statistic: 0.0091959619125207, p-value: 0.0127664126154619\n",
      "--------------------------------------------------\n",
      "Data drift detected for amt!\n",
      "Comparing amt between 2020-06 and 2019-03:\n",
      "KS Statistic: 0.009858225000912602, p-value: 0.004083216100401751\n",
      "--------------------------------------------------\n"
     ]
    }
   ],
   "source": [
    "# Convert transaction time to datetime\n",
    "df['trans_date_trans_time'] = pd.to_datetime(df['trans_date_trans_time'])\n",
    "\n",
    "# Set a time window, e.g., monthly\n",
    "df['month'] = df['trans_date_trans_time'].dt.to_period('M')\n",
    "\n",
    "# Ensure no missing values for the columns you want to check\n",
    "df = df.dropna(subset=['amt', 'is_fraud'])\n",
    "\n",
    "# Get all unique months in the dataset\n",
    "months = df['month'].unique()\n",
    "\n",
    "# Iterate through the months and compare each to the previous one\n",
    "for k in [1, 2, 3]:\n",
    "    for i in range(1, len(months)):\n",
    "        month_1 = months[i-k]\n",
    "        month_2 = months[i]\n",
    "\n",
    "        # Filter data for the two months\n",
    "        window_1 = df[df['month'] == month_1]\n",
    "        window_2 = df[df['month'] == month_2]\n",
    "\n",
    "        # Check for data drift on 'amt', 'is_fraud' features\n",
    "        for feature in ['amt', 'is_fraud']:\n",
    "            ks_stat, p_value = ks_2samp(window_1[feature], window_2[feature])\n",
    "\n",
    "            # Check for data drift based on the p-value\n",
    "            if p_value < 0.05:\n",
    "                print(f\"Data drift detected for {feature}!\")\n",
    "                # Print the KS statistic and p-value\n",
    "                print(f\"Comparing {feature} between {month_1} and {month_2}:\")\n",
    "                print(f\"KS Statistic: {ks_stat}, p-value: {p_value}\")\n",
    "                print(\"-\" * 50)\n",
    "            else:\n",
    "                # print(f\"No significant drift detected for {feature}.\")\n",
    "                pass"
   ]
  }
 ],
 "metadata": {
  "kernelspec": {
   "display_name": "fraud_detection",
   "language": "python",
   "name": "fraud_detection"
  },
  "language_info": {
   "codemirror_mode": {
    "name": "ipython",
    "version": 3
   },
   "file_extension": ".py",
   "mimetype": "text/x-python",
   "name": "python",
   "nbconvert_exporter": "python",
   "pygments_lexer": "ipython3",
   "version": "3.10.4"
  }
 },
 "nbformat": 4,
 "nbformat_minor": 2
}
